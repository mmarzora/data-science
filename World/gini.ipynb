{
 "cells": [
  {
   "cell_type": "code",
   "execution_count": 84,
   "id": "optional-rates",
   "metadata": {},
   "outputs": [],
   "source": [
    "import pandas as pd\n",
    "import numpy as np\n",
    "import seaborn as sns\n",
    "import matplotlib.pyplot as plt\n",
    "import plotly.express as px"
   ]
  },
  {
   "cell_type": "code",
   "execution_count": 85,
   "id": "hungarian-geology",
   "metadata": {},
   "outputs": [],
   "source": [
    "data_gini=pd.read_csv('Data/gini_index.csv',header=2)"
   ]
  },
  {
   "cell_type": "code",
   "execution_count": 86,
   "id": "visible-level",
   "metadata": {},
   "outputs": [
    {
     "data": {
      "text/plain": [
       "(264,)"
      ]
     },
     "execution_count": 86,
     "metadata": {},
     "output_type": "execute_result"
    }
   ],
   "source": [
    "data_gini['2013'].shape"
   ]
  },
  {
   "cell_type": "code",
   "execution_count": 87,
   "id": "cubic-scientist",
   "metadata": {},
   "outputs": [
    {
     "name": "stdout",
     "output_type": "stream",
     "text": [
      "<class 'pandas.core.frame.DataFrame'>\n",
      "RangeIndex: 264 entries, 0 to 263\n",
      "Data columns (total 66 columns):\n",
      " #   Column          Non-Null Count  Dtype  \n",
      "---  ------          --------------  -----  \n",
      " 0   Country Name    264 non-null    object \n",
      " 1   Country Code    264 non-null    object \n",
      " 2   Indicator Name  264 non-null    object \n",
      " 3   Indicator Code  264 non-null    object \n",
      " 4   1960            0 non-null      float64\n",
      " 5   1961            0 non-null      float64\n",
      " 6   1962            0 non-null      float64\n",
      " 7   1963            0 non-null      float64\n",
      " 8   1964            0 non-null      float64\n",
      " 9   1965            0 non-null      float64\n",
      " 10  1966            0 non-null      float64\n",
      " 11  1967            1 non-null      float64\n",
      " 12  1968            0 non-null      float64\n",
      " 13  1969            1 non-null      float64\n",
      " 14  1970            0 non-null      float64\n",
      " 15  1971            1 non-null      float64\n",
      " 16  1972            0 non-null      float64\n",
      " 17  1973            0 non-null      float64\n",
      " 18  1974            2 non-null      float64\n",
      " 19  1975            2 non-null      float64\n",
      " 20  1976            0 non-null      float64\n",
      " 21  1977            0 non-null      float64\n",
      " 22  1978            1 non-null      float64\n",
      " 23  1979            5 non-null      float64\n",
      " 24  1980            3 non-null      float64\n",
      " 25  1981            7 non-null      float64\n",
      " 26  1982            2 non-null      float64\n",
      " 27  1983            4 non-null      float64\n",
      " 28  1984            5 non-null      float64\n",
      " 29  1985            11 non-null     float64\n",
      " 30  1986            14 non-null     float64\n",
      " 31  1987            20 non-null     float64\n",
      " 32  1988            9 non-null      float64\n",
      " 33  1989            13 non-null     float64\n",
      " 34  1990            17 non-null     float64\n",
      " 35  1991            19 non-null     float64\n",
      " 36  1992            32 non-null     float64\n",
      " 37  1993            21 non-null     float64\n",
      " 38  1994            26 non-null     float64\n",
      " 39  1995            37 non-null     float64\n",
      " 40  1996            32 non-null     float64\n",
      " 41  1997            27 non-null     float64\n",
      " 42  1998            37 non-null     float64\n",
      " 43  1999            31 non-null     float64\n",
      " 44  2000            50 non-null     float64\n",
      " 45  2001            36 non-null     float64\n",
      " 46  2002            53 non-null     float64\n",
      " 47  2003            59 non-null     float64\n",
      " 48  2004            70 non-null     float64\n",
      " 49  2005            76 non-null     float64\n",
      " 50  2006            75 non-null     float64\n",
      " 51  2007            70 non-null     float64\n",
      " 52  2008            73 non-null     float64\n",
      " 53  2009            78 non-null     float64\n",
      " 54  2010            83 non-null     float64\n",
      " 55  2011            77 non-null     float64\n",
      " 56  2012            84 non-null     float64\n",
      " 57  2013            76 non-null     float64\n",
      " 58  2014            83 non-null     float64\n",
      " 59  2015            82 non-null     float64\n",
      " 60  2016            81 non-null     float64\n",
      " 61  2017            72 non-null     float64\n",
      " 62  2018            64 non-null     float64\n",
      " 63  2019            22 non-null     float64\n",
      " 64  2020            0 non-null      float64\n",
      " 65  Unnamed: 65     0 non-null      float64\n",
      "dtypes: float64(62), object(4)\n",
      "memory usage: 136.2+ KB\n"
     ]
    }
   ],
   "source": [
    "data_gini.info()"
   ]
  },
  {
   "cell_type": "code",
   "execution_count": 88,
   "id": "established-ethernet",
   "metadata": {},
   "outputs": [],
   "source": [
    "year=np.empty(0)"
   ]
  },
  {
   "cell_type": "code",
   "execution_count": 89,
   "id": "cathedral-cliff",
   "metadata": {},
   "outputs": [],
   "source": [
    "year=np.empty(0)\n",
    "values=np.empty(0)\n",
    "country=np.empty(0)\n",
    "for i in np.arange(2013,2021,1):\n",
    "    i=str(i)\n",
    "    data_year=data_gini[i]\n",
    "    year_values=np.full(data_gini[i].shape,i)\n",
    "    country_values=data_gini['Country Name']\n",
    "    values=np.append(values,data_year)\n",
    "    year=np.append(year, year_values)\n",
    "    country=np.append(country,country_values)"
   ]
  },
  {
   "cell_type": "code",
   "execution_count": 90,
   "id": "dressed-comedy",
   "metadata": {},
   "outputs": [],
   "source": [
    "new_data=pd.DataFrame({'Country Name':country,'year':year,'gini':values})"
   ]
  },
  {
   "cell_type": "code",
   "execution_count": 91,
   "id": "afraid-liabilities",
   "metadata": {},
   "outputs": [],
   "source": [
    "new_data.dropna(inplace=True)"
   ]
  },
  {
   "cell_type": "code",
   "execution_count": 92,
   "id": "specialized-queue",
   "metadata": {},
   "outputs": [
    {
     "name": "stdout",
     "output_type": "stream",
     "text": [
      "<class 'pandas.core.frame.DataFrame'>\n",
      "Int64Index: 480 entries, 6 to 1847\n",
      "Data columns (total 3 columns):\n",
      " #   Column        Non-Null Count  Dtype  \n",
      "---  ------        --------------  -----  \n",
      " 0   Country Name  480 non-null    object \n",
      " 1   year          480 non-null    object \n",
      " 2   gini          480 non-null    float64\n",
      "dtypes: float64(1), object(2)\n",
      "memory usage: 15.0+ KB\n"
     ]
    }
   ],
   "source": [
    "new_data.info()"
   ]
  },
  {
   "cell_type": "code",
   "execution_count": 93,
   "id": "arabic-angle",
   "metadata": {},
   "outputs": [],
   "source": [
    "new_data['key']=new_data['Country Name']+'-'+new_data['year']"
   ]
  },
  {
   "cell_type": "code",
   "execution_count": 95,
   "id": "distant-yorkshire",
   "metadata": {},
   "outputs": [
    {
     "data": {
      "text/plain": [
       "2014    83\n",
       "2015    82\n",
       "2016    81\n",
       "2013    76\n",
       "2017    72\n",
       "2018    64\n",
       "2019    22\n",
       "Name: year, dtype: int64"
      ]
     },
     "execution_count": 95,
     "metadata": {},
     "output_type": "execute_result"
    }
   ],
   "source": [
    "new_data.year.value_counts()"
   ]
  },
  {
   "cell_type": "code",
   "execution_count": 94,
   "id": "boring-merchandise",
   "metadata": {},
   "outputs": [],
   "source": [
    "new_data.to_csv('Data/gini_clean.csv')"
   ]
  }
 ],
 "metadata": {
  "kernelspec": {
   "display_name": "Python [conda env:dhdsblend2021] *",
   "language": "python",
   "name": "conda-env-dhdsblend2021-py"
  },
  "language_info": {
   "codemirror_mode": {
    "name": "ipython",
    "version": 3
   },
   "file_extension": ".py",
   "mimetype": "text/x-python",
   "name": "python",
   "nbconvert_exporter": "python",
   "pygments_lexer": "ipython3",
   "version": "3.8.5"
  }
 },
 "nbformat": 4,
 "nbformat_minor": 5
}
