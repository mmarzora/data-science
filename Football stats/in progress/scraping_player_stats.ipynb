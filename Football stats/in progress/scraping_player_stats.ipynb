{
 "cells": [
  {
   "cell_type": "code",
   "execution_count": 1,
   "metadata": {},
   "outputs": [],
   "source": [
    "import requests\n",
    "import json\n",
    "import re\n",
    "\n",
    "import pandas as pd\n",
    "import plotly.express as px\n",
    "import seaborn as sns\n",
    "import matplotlib.pyplot as plt"
   ]
  },
  {
   "cell_type": "code",
   "execution_count": 2,
   "metadata": {},
   "outputs": [
    {
     "name": "stdout",
     "output_type": "stream",
     "text": [
      "Requirement already satisfied: bs4 in /opt/anaconda3/envs/dhdsblend2021/lib/python3.8/site-packages (0.0.1)\n",
      "Requirement already satisfied: beautifulsoup4 in /opt/anaconda3/envs/dhdsblend2021/lib/python3.8/site-packages (from bs4) (4.10.0)\n",
      "Requirement already satisfied: soupsieve>1.2 in /opt/anaconda3/envs/dhdsblend2021/lib/python3.8/site-packages (from beautifulsoup4->bs4) (2.3.1)\n"
     ]
    }
   ],
   "source": [
    "!pip install bs4\n",
    "from bs4 import BeautifulSoup"
   ]
  },
  {
   "cell_type": "code",
   "execution_count": 3,
   "metadata": {},
   "outputs": [],
   "source": [
    "def get_data(url):\n",
    "    resp = requests.get(url)\n",
    "    resp.status_code\n",
    "    return resp\n",
    "def process_data(resp,tag):\n",
    "    \"\"\"\n",
    "    Extract JSON data from an HTML response and return it as a Pandas dataframe.\n",
    "    \n",
    "    Parameters:\n",
    "        resp: requests.Response object - the response object to extract data from.\n",
    "        tag: str - a string to search for in the 'script' elements of the response.\n",
    "    \n",
    "    Returns:\n",
    "        df: pandas.DataFrame - a Pandas dataframe containing the JSON data.\n",
    "    \"\"\"\n",
    "    \n",
    "    soup = BeautifulSoup(resp.content, 'lxml')\n",
    "    scripts = soup.find_all('script')\n",
    "    string_with_json_obj = ''\n",
    "\n",
    "    # Find data for teams\n",
    "    for el in scripts:\n",
    "        if tag in str(el):\n",
    "            string_with_json_obj = str(el).strip()\n",
    "        \n",
    "    # strip unnecessary symbols and get only JSON data\n",
    "    ind_start = string_with_json_obj.index(\"('\")+2\n",
    "    ind_end = string_with_json_obj.index(\"')\")\n",
    "    json_data = string_with_json_obj[ind_start:ind_end]\n",
    "    json_data = json_data.encode('utf8').decode('unicode_escape')\n",
    "    json_data=json.loads(json_data)\n",
    "    df=pd.DataFrame(json_data)\n",
    "    return df\n",
    "\n"
   ]
  },
  {
   "cell_type": "code",
   "execution_count": 52,
   "metadata": {},
   "outputs": [],
   "source": [
    "mydict = {'a': 1 if True  else 0}"
   ]
  },
  {
   "cell_type": "code",
   "execution_count": 48,
   "metadata": {},
   "outputs": [
    {
     "data": {
      "text/plain": [
       "[]"
      ]
     },
     "execution_count": 48,
     "metadata": {},
     "output_type": "execute_result"
    }
   ],
   "source": [
    "price"
   ]
  },
  {
   "cell_type": "code",
   "execution_count": 19,
   "metadata": {},
   "outputs": [
    {
     "name": "stdout",
     "output_type": "stream",
     "text": [
      "Stop Overthinking: 23 Techniques to Relieve Stress, Stop Negative Spirals, Declutter Your Mind, and Focus on the Present (The Path to Calm)\n",
      "Endless Awakening: Time, Paradox, and the Path to Enlightenment\n",
      "How to Listen with Intention: The Foundation of True Connection, Communication, and Relationships (How to be More Likable and Charismatic)\n",
      "How to Suffer Well: Timeless Knowledge on Dealing with Hardship and Becoming Anguish-Proof (Live a Disciplined Life)\n",
      "Stop Overthinking: 23 Techniques to Relieve Stress, Stop Negative Spirals, Declutter Your Mind, and Focus on the Present (The Path to Calm)\n",
      "Let That Sh*t Go: A Journal for Leaving Your Bullsh*t Behind and Creating a Happy Life (Zen as F*ck Journals)\n",
      "The Subtle Art of Not Giving a F*ck: A Counterintuitive Approach to Living a Good Life\n",
      "Atomic Habits: An Easy & Proven Way to Build Good Habits & Break Bad Ones\n",
      "El Cuatro Acuerdos: Una guía práctica a la Libertad Personal por Don Miguel Ruiz\n",
      "The Body Keeps the Score: Brain, Mind, and Body in the Healing of Trauma\n",
      "Unfuck Your Brain: Getting Over Anxiety, Depression, Anger, Freak-Outs, and Triggers with science (5-Minute Therapy)\n",
      "The Gifts of Imperfection: 10th Anniversary Edition: Features a new foreword and brand-new tools\n",
      "The Gifts of Imperfection: 10th Anniversary Edition: Features a new foreword and brand-new tools\n",
      "Recovery from Narcissistic Abuse, Gaslighting, Codependency and Complex PTSD (4 Books in 1): Workbook and Guide to Overcome Trauma, Toxic Relationships, Anxiety, and Improve Mental Health\n",
      "The Magic of Manifesting: 15 Advanced Techniques To Attract Your Best Life, Even If You Think It's Impossible Now (Law of Attraction)\n",
      "How to Talk to Anyone: Master Small Talk, Improve your Social Skills, and Build Meaningful Relationships (Communication Mastery Series)\n",
      "Don't Believe Everything You Think: Why Your Thinking Is The Beginning & End Of Suffering (Beyond Suffering)\n",
      "The Mountain Is You: Transforming Self-Sabotage Into Self-Mastery\n",
      "Can't Hurt Me: Master Your Mind and Defy the Odds\n",
      "Make Your Bed: Little Things That Can Change Your Life...And Maybe the World\n",
      "The Art of Witty Banter: Be Clever, Quick, & Magnetic (2nd Edition) (How to be More Likable and Charismatic)\n",
      "Finish What You Start: The Art of Following Through, Taking Action, Executing, & Self-Discipline (Live a Disciplined Life)\n",
      "How Highly Effective People Speak: How High Performers Use Psychology to Influence With Ease (Speak for Success)\n",
      "The Empath Self-Care Blueprint: How to Manage, Navigate, and Thrive in an Overwhelming World (Mental and Emotional Abundance)\n",
      "Self-Love Workbook for Women: Release Self-Doubt, Build Self-Compassion, and Embrace Who You Are (Self-Help Workbooks for Women)\n",
      "How to Win Friends & Influence People\n",
      "Ikigai: The Japanese Secret to a Long and Happy Life\n",
      "The Makings of a Powerful Bitch: A Woman's Guide to Embracing Change and Finding Peace and Purpose\n",
      "The Alchemist, 25th Anniversary: A Fable About Following Your Dream\n",
      "It Didn't Start with You: How Inherited Family Trauma Shapes Who We Are and How to End the Cycle\n",
      "Stop Overthinking!: 9 Steps to Eliminate Stress, Anxiety, Negativity and Focus on Your Productivity\n",
      "You Are a Badass: How to Stop Doubting Your Greatness and Start Living an Awesome Life\n",
      "Think Like a Monk: Train Your Mind for Peace and Purpose Every Day\n",
      "Better Small Talk: Talk to Anyone, Avoid Awkwardness, Generate Deep Conversations, and Make Real Friends (How to be More Likable and Charismatic)\n",
      "You Owe You: Ignite Your Power, Your Purpose, and Your Why\n",
      "Daily Rituals: Positive Affirmations to Attract Love, Happiness and Peace\n",
      "Good Vibes, Good Life: How Self-Love Is the Key to Unlocking Your Greatness\n",
      "The Power of Your Subconscious Mind\n",
      "The Power of One More: The Ultimate Guide to Happiness and Success\n",
      "Unfu*k Yourself: Get Out of Your Head and into Your Life\n",
      "Stop Overthinking, Master Your Emotions & Start Taking Action: The Ultimate Guide to Stop Unproductive Thoughts, Beat Negativity and Unlock Your Unlimited Potential by Taking Decisive Action\n",
      "Signs: The Secret Language of the Universe\n",
      "Healing Is a Gift: Poems for Those Who Need to Grow\n",
      "Las 48 leyes del poder\n",
      "Set Boundaries, Find Peace: A Guide to Reclaiming Yourself\n",
      "Soul Therapy: A 365 day journal for self exploration, healing and reflection\n",
      "I'm Setting Healthy Boundaries, Don't Ask Me for Sh!t: A Guide to Set Boundaries with Friends, Family, at Work, and Everyday Life\n",
      "The 7 Habits of Highly Effective People: 30th Anniversary Edition\n",
      "The Mastery of Self: A Toltec Guide to Personal Freedom (Toltec Mastery Series)\n",
      "Master Your Emotions: A Practical Guide to Overcome Negativity and Better Manage Your Feelings (Mastery Series)\n",
      "Becoming the One: Heal Your Past, Transform Your Relationship Patterns, and Come Home to Yourself\n",
      "Love Yourself First: How to Heal from Toxic People, Create Healthy Relationships & Become a Confident Woman (The Love Yourself First Series)\n",
      "Burn After Writing\n",
      "Recovery from Narcissistic Abuse, Gaslighting, Codependency and Complex PTSD (4 Books in 1): Workbook and Guide to Overcome Trauma, Toxic Relationships, Anxiety, and Improve Mental Health\n",
      "Tiny Habits: The Small Changes That Change Everything\n",
      "Eliminate Negative Thinking: How to Overcome Negativity, Control Your Thoughts, And Stop Overthinking. Shift Your Focus into Positive Thinking, Self-Acceptance, And Radical Self Love\n",
      "Read People Like a Book: How to Analyze, Understand, and Predict People’s Emotions, Thoughts, Intentions, and Behaviors (How to be More Likable and Charismatic)\n",
      "Mindfulness: The Most Effective Techniques: Connect With Your Inner Self To Reach Your Goals Easily and Peacefully (Down-to-Earth Spirituality for Everyday People)\n",
      "Unstuck (for women): Break Free From Self-Doubt and Stop Overthinking Using The Spiral Stopper Method To Take Control of Your Emotions, Build Confidence & Self Love\n",
      "FROM PEOPLE PLEASER TO SOUL PLEASER: Six Steps to Being Who You are Meant to Be\n"
     ]
    }
   ],
   "source": [
    "from selenium import webdriver\n",
    "from selenium.webdriver.common.by import By\n",
    "import time\n",
    "\n",
    "# initialize webdriver\n",
    "driver = webdriver.Chrome()\n",
    "\n",
    "# open the browser and navigate to the Amazon page\n",
    "driver.get(\"https://www.amazon.com/s?k=self+help+books&sprefix=self+help+%2Caps%2C158&ref=nb_sb_ss_ts-doa-p_2_10\")\n",
    "\n",
    "# wait for 5 seconds\n",
    "time.sleep(5)\n",
    "\n",
    "# locate all the elements with the following xpath \n",
    "elements = driver.find_elements(By.XPATH, \"//span[@class='a-size-base-plus a-color-base a-text-normal']\")\n",
    "\n",
    "# get the text attribute and print them\n",
    "for element in elements:\n",
    "    print(element.text)\n",
    "\n",
    "# close the browser\n",
    "driver.close()"
   ]
  },
  {
   "cell_type": "code",
   "execution_count": 24,
   "metadata": {},
   "outputs": [
    {
     "ename": "InvalidSessionIdException",
     "evalue": "Message: invalid session id\nStacktrace:\n0   chromedriver                        0x000000010fc80f38 chromedriver + 4910904\n1   chromedriver                        0x000000010fc00a03 chromedriver + 4385283\n2   chromedriver                        0x000000010f8455bd chromedriver + 472509\n3   chromedriver                        0x000000010f87998f chromedriver + 686479\n4   chromedriver                        0x000000010f8b0016 chromedriver + 909334\n5   chromedriver                        0x000000010f8abedd chromedriver + 892637\n6   chromedriver                        0x000000010f8ab1ff chromedriver + 889343\n7   chromedriver                        0x000000010f810afa chromedriver + 256762\n8   chromedriver                        0x000000010fc4e1de chromedriver + 4702686\n9   chromedriver                        0x000000010fc52b19 chromedriver + 4721433\n10  chromedriver                        0x000000010fc5a28e chromedriver + 4752014\n11  chromedriver                        0x000000010fc5391a chromedriver + 4725018\n12  chromedriver                        0x000000010fc27b02 chromedriver + 4545282\n13  chromedriver                        0x000000010f80f237 chromedriver + 250423\n14  libdyld.dylib                       0x00007fff2036af5d start + 1\n15  ???                                 0x0000000000000002 0x0 + 2\n",
     "output_type": "error",
     "traceback": [
      "\u001b[0;31m---------------------------------------------------------------------------\u001b[0m",
      "\u001b[0;31mInvalidSessionIdException\u001b[0m                 Traceback (most recent call last)",
      "\u001b[0;32m<ipython-input-24-526092c81e1d>\u001b[0m in \u001b[0;36m<module>\u001b[0;34m\u001b[0m\n\u001b[0;32m----> 1\u001b[0;31m \u001b[0melements\u001b[0m\u001b[0;34m[\u001b[0m\u001b[0;36m0\u001b[0m\u001b[0;34m]\u001b[0m\u001b[0;34m.\u001b[0m\u001b[0mtext\u001b[0m\u001b[0;34m\u001b[0m\u001b[0;34m\u001b[0m\u001b[0m\n\u001b[0m",
      "\u001b[0;32m/opt/anaconda3/envs/dhdsblend2021/lib/python3.8/site-packages/selenium/webdriver/remote/webelement.py\u001b[0m in \u001b[0;36mtext\u001b[0;34m(self)\u001b[0m\n\u001b[1;32m     87\u001b[0m     \u001b[0;32mdef\u001b[0m \u001b[0mtext\u001b[0m\u001b[0;34m(\u001b[0m\u001b[0mself\u001b[0m\u001b[0;34m)\u001b[0m \u001b[0;34m->\u001b[0m \u001b[0mstr\u001b[0m\u001b[0;34m:\u001b[0m\u001b[0;34m\u001b[0m\u001b[0;34m\u001b[0m\u001b[0m\n\u001b[1;32m     88\u001b[0m         \u001b[0;34m\"\"\"The text of the element.\"\"\"\u001b[0m\u001b[0;34m\u001b[0m\u001b[0;34m\u001b[0m\u001b[0m\n\u001b[0;32m---> 89\u001b[0;31m         \u001b[0;32mreturn\u001b[0m \u001b[0mself\u001b[0m\u001b[0;34m.\u001b[0m\u001b[0m_execute\u001b[0m\u001b[0;34m(\u001b[0m\u001b[0mCommand\u001b[0m\u001b[0;34m.\u001b[0m\u001b[0mGET_ELEMENT_TEXT\u001b[0m\u001b[0;34m)\u001b[0m\u001b[0;34m[\u001b[0m\u001b[0;34m\"value\"\u001b[0m\u001b[0;34m]\u001b[0m\u001b[0;34m\u001b[0m\u001b[0;34m\u001b[0m\u001b[0m\n\u001b[0m\u001b[1;32m     90\u001b[0m \u001b[0;34m\u001b[0m\u001b[0m\n\u001b[1;32m     91\u001b[0m     \u001b[0;32mdef\u001b[0m \u001b[0mclick\u001b[0m\u001b[0;34m(\u001b[0m\u001b[0mself\u001b[0m\u001b[0;34m)\u001b[0m \u001b[0;34m->\u001b[0m \u001b[0;32mNone\u001b[0m\u001b[0;34m:\u001b[0m\u001b[0;34m\u001b[0m\u001b[0;34m\u001b[0m\u001b[0m\n",
      "\u001b[0;32m/opt/anaconda3/envs/dhdsblend2021/lib/python3.8/site-packages/selenium/webdriver/remote/webelement.py\u001b[0m in \u001b[0;36m_execute\u001b[0;34m(self, command, params)\u001b[0m\n\u001b[1;32m    408\u001b[0m             \u001b[0mparams\u001b[0m \u001b[0;34m=\u001b[0m \u001b[0;34m{\u001b[0m\u001b[0;34m}\u001b[0m\u001b[0;34m\u001b[0m\u001b[0;34m\u001b[0m\u001b[0m\n\u001b[1;32m    409\u001b[0m         \u001b[0mparams\u001b[0m\u001b[0;34m[\u001b[0m\u001b[0;34m\"id\"\u001b[0m\u001b[0;34m]\u001b[0m \u001b[0;34m=\u001b[0m \u001b[0mself\u001b[0m\u001b[0;34m.\u001b[0m\u001b[0m_id\u001b[0m\u001b[0;34m\u001b[0m\u001b[0;34m\u001b[0m\u001b[0m\n\u001b[0;32m--> 410\u001b[0;31m         \u001b[0;32mreturn\u001b[0m \u001b[0mself\u001b[0m\u001b[0;34m.\u001b[0m\u001b[0m_parent\u001b[0m\u001b[0;34m.\u001b[0m\u001b[0mexecute\u001b[0m\u001b[0;34m(\u001b[0m\u001b[0mcommand\u001b[0m\u001b[0;34m,\u001b[0m \u001b[0mparams\u001b[0m\u001b[0;34m)\u001b[0m\u001b[0;34m\u001b[0m\u001b[0;34m\u001b[0m\u001b[0m\n\u001b[0m\u001b[1;32m    411\u001b[0m \u001b[0;34m\u001b[0m\u001b[0m\n\u001b[1;32m    412\u001b[0m     \u001b[0;32mdef\u001b[0m \u001b[0mfind_element\u001b[0m\u001b[0;34m(\u001b[0m\u001b[0mself\u001b[0m\u001b[0;34m,\u001b[0m \u001b[0mby\u001b[0m\u001b[0;34m=\u001b[0m\u001b[0mBy\u001b[0m\u001b[0;34m.\u001b[0m\u001b[0mID\u001b[0m\u001b[0;34m,\u001b[0m \u001b[0mvalue\u001b[0m\u001b[0;34m=\u001b[0m\u001b[0;32mNone\u001b[0m\u001b[0;34m)\u001b[0m \u001b[0;34m->\u001b[0m \u001b[0mWebElement\u001b[0m\u001b[0;34m:\u001b[0m\u001b[0;34m\u001b[0m\u001b[0;34m\u001b[0m\u001b[0m\n",
      "\u001b[0;32m/opt/anaconda3/envs/dhdsblend2021/lib/python3.8/site-packages/selenium/webdriver/remote/webdriver.py\u001b[0m in \u001b[0;36mexecute\u001b[0;34m(self, driver_command, params)\u001b[0m\n\u001b[1;32m    442\u001b[0m         \u001b[0mresponse\u001b[0m \u001b[0;34m=\u001b[0m \u001b[0mself\u001b[0m\u001b[0;34m.\u001b[0m\u001b[0mcommand_executor\u001b[0m\u001b[0;34m.\u001b[0m\u001b[0mexecute\u001b[0m\u001b[0;34m(\u001b[0m\u001b[0mdriver_command\u001b[0m\u001b[0;34m,\u001b[0m \u001b[0mparams\u001b[0m\u001b[0;34m)\u001b[0m\u001b[0;34m\u001b[0m\u001b[0;34m\u001b[0m\u001b[0m\n\u001b[1;32m    443\u001b[0m         \u001b[0;32mif\u001b[0m \u001b[0mresponse\u001b[0m\u001b[0;34m:\u001b[0m\u001b[0;34m\u001b[0m\u001b[0;34m\u001b[0m\u001b[0m\n\u001b[0;32m--> 444\u001b[0;31m             \u001b[0mself\u001b[0m\u001b[0;34m.\u001b[0m\u001b[0merror_handler\u001b[0m\u001b[0;34m.\u001b[0m\u001b[0mcheck_response\u001b[0m\u001b[0;34m(\u001b[0m\u001b[0mresponse\u001b[0m\u001b[0;34m)\u001b[0m\u001b[0;34m\u001b[0m\u001b[0;34m\u001b[0m\u001b[0m\n\u001b[0m\u001b[1;32m    445\u001b[0m             \u001b[0mresponse\u001b[0m\u001b[0;34m[\u001b[0m\u001b[0;34m\"value\"\u001b[0m\u001b[0;34m]\u001b[0m \u001b[0;34m=\u001b[0m \u001b[0mself\u001b[0m\u001b[0;34m.\u001b[0m\u001b[0m_unwrap_value\u001b[0m\u001b[0;34m(\u001b[0m\u001b[0mresponse\u001b[0m\u001b[0;34m.\u001b[0m\u001b[0mget\u001b[0m\u001b[0;34m(\u001b[0m\u001b[0;34m\"value\"\u001b[0m\u001b[0;34m,\u001b[0m \u001b[0;32mNone\u001b[0m\u001b[0;34m)\u001b[0m\u001b[0;34m)\u001b[0m\u001b[0;34m\u001b[0m\u001b[0;34m\u001b[0m\u001b[0m\n\u001b[1;32m    446\u001b[0m             \u001b[0;32mreturn\u001b[0m \u001b[0mresponse\u001b[0m\u001b[0;34m\u001b[0m\u001b[0;34m\u001b[0m\u001b[0m\n",
      "\u001b[0;32m/opt/anaconda3/envs/dhdsblend2021/lib/python3.8/site-packages/selenium/webdriver/remote/errorhandler.py\u001b[0m in \u001b[0;36mcheck_response\u001b[0;34m(self, response)\u001b[0m\n\u001b[1;32m    247\u001b[0m                 \u001b[0malert_text\u001b[0m \u001b[0;34m=\u001b[0m \u001b[0mvalue\u001b[0m\u001b[0;34m[\u001b[0m\u001b[0;34m\"alert\"\u001b[0m\u001b[0;34m]\u001b[0m\u001b[0;34m.\u001b[0m\u001b[0mget\u001b[0m\u001b[0;34m(\u001b[0m\u001b[0;34m\"text\"\u001b[0m\u001b[0;34m)\u001b[0m\u001b[0;34m\u001b[0m\u001b[0;34m\u001b[0m\u001b[0m\n\u001b[1;32m    248\u001b[0m             \u001b[0;32mraise\u001b[0m \u001b[0mexception_class\u001b[0m\u001b[0;34m(\u001b[0m\u001b[0mmessage\u001b[0m\u001b[0;34m,\u001b[0m \u001b[0mscreen\u001b[0m\u001b[0;34m,\u001b[0m \u001b[0mstacktrace\u001b[0m\u001b[0;34m,\u001b[0m \u001b[0malert_text\u001b[0m\u001b[0;34m)\u001b[0m  \u001b[0;31m# type: ignore[call-arg]  # mypy is not smart enough here\u001b[0m\u001b[0;34m\u001b[0m\u001b[0;34m\u001b[0m\u001b[0m\n\u001b[0;32m--> 249\u001b[0;31m         \u001b[0;32mraise\u001b[0m \u001b[0mexception_class\u001b[0m\u001b[0;34m(\u001b[0m\u001b[0mmessage\u001b[0m\u001b[0;34m,\u001b[0m \u001b[0mscreen\u001b[0m\u001b[0;34m,\u001b[0m \u001b[0mstacktrace\u001b[0m\u001b[0;34m)\u001b[0m\u001b[0;34m\u001b[0m\u001b[0;34m\u001b[0m\u001b[0m\n\u001b[0m",
      "\u001b[0;31mInvalidSessionIdException\u001b[0m: Message: invalid session id\nStacktrace:\n0   chromedriver                        0x000000010fc80f38 chromedriver + 4910904\n1   chromedriver                        0x000000010fc00a03 chromedriver + 4385283\n2   chromedriver                        0x000000010f8455bd chromedriver + 472509\n3   chromedriver                        0x000000010f87998f chromedriver + 686479\n4   chromedriver                        0x000000010f8b0016 chromedriver + 909334\n5   chromedriver                        0x000000010f8abedd chromedriver + 892637\n6   chromedriver                        0x000000010f8ab1ff chromedriver + 889343\n7   chromedriver                        0x000000010f810afa chromedriver + 256762\n8   chromedriver                        0x000000010fc4e1de chromedriver + 4702686\n9   chromedriver                        0x000000010fc52b19 chromedriver + 4721433\n10  chromedriver                        0x000000010fc5a28e chromedriver + 4752014\n11  chromedriver                        0x000000010fc5391a chromedriver + 4725018\n12  chromedriver                        0x000000010fc27b02 chromedriver + 4545282\n13  chromedriver                        0x000000010f80f237 chromedriver + 250423\n14  libdyld.dylib                       0x00007fff2036af5d start + 1\n15  ???                                 0x0000000000000002 0x0 + 2\n"
     ]
    }
   ],
   "source": [
    "elements[0].text"
   ]
  },
  {
   "cell_type": "code",
   "execution_count": 20,
   "metadata": {},
   "outputs": [
    {
     "ename": "InvalidSessionIdException",
     "evalue": "Message: invalid session id\nStacktrace:\n0   chromedriver                        0x000000010fc80f38 chromedriver + 4910904\n1   chromedriver                        0x000000010fc00a03 chromedriver + 4385283\n2   chromedriver                        0x000000010f8455bd chromedriver + 472509\n3   chromedriver                        0x000000010f87998f chromedriver + 686479\n4   chromedriver                        0x000000010f8b0016 chromedriver + 909334\n5   chromedriver                        0x000000010f8abedd chromedriver + 892637\n6   chromedriver                        0x000000010f8ab1ff chromedriver + 889343\n7   chromedriver                        0x000000010f810afa chromedriver + 256762\n8   chromedriver                        0x000000010fc4e1de chromedriver + 4702686\n9   chromedriver                        0x000000010fc52b19 chromedriver + 4721433\n10  chromedriver                        0x000000010fc5a28e chromedriver + 4752014\n11  chromedriver                        0x000000010fc5391a chromedriver + 4725018\n12  chromedriver                        0x000000010fc27b02 chromedriver + 4545282\n13  chromedriver                        0x000000010f80f237 chromedriver + 250423\n14  libdyld.dylib                       0x00007fff2036af5d start + 1\n15  ???                                 0x0000000000000002 0x0 + 2\n",
     "output_type": "error",
     "traceback": [
      "\u001b[0;31m---------------------------------------------------------------------------\u001b[0m",
      "\u001b[0;31mInvalidSessionIdException\u001b[0m                 Traceback (most recent call last)",
      "\u001b[0;32m<ipython-input-20-de79271b5808>\u001b[0m in \u001b[0;36m<module>\u001b[0;34m\u001b[0m\n\u001b[1;32m      5\u001b[0m \u001b[0;32mfor\u001b[0m \u001b[0mi\u001b[0m\u001b[0;34m,\u001b[0m \u001b[0melement\u001b[0m \u001b[0;32min\u001b[0m \u001b[0menumerate\u001b[0m\u001b[0;34m(\u001b[0m\u001b[0melements\u001b[0m\u001b[0;34m)\u001b[0m\u001b[0;34m:\u001b[0m\u001b[0;34m\u001b[0m\u001b[0;34m\u001b[0m\u001b[0m\n\u001b[1;32m      6\u001b[0m     retrieved_values[i] = {\n\u001b[0;32m----> 7\u001b[0;31m         \u001b[0;34m'title'\u001b[0m \u001b[0;34m:\u001b[0m \u001b[0melement\u001b[0m\u001b[0;34m.\u001b[0m\u001b[0mtext\u001b[0m\u001b[0;34m\u001b[0m\u001b[0;34m\u001b[0m\u001b[0m\n\u001b[0m\u001b[1;32m      8\u001b[0m     }\n",
      "\u001b[0;32m/opt/anaconda3/envs/dhdsblend2021/lib/python3.8/site-packages/selenium/webdriver/remote/webelement.py\u001b[0m in \u001b[0;36mtext\u001b[0;34m(self)\u001b[0m\n\u001b[1;32m     87\u001b[0m     \u001b[0;32mdef\u001b[0m \u001b[0mtext\u001b[0m\u001b[0;34m(\u001b[0m\u001b[0mself\u001b[0m\u001b[0;34m)\u001b[0m \u001b[0;34m->\u001b[0m \u001b[0mstr\u001b[0m\u001b[0;34m:\u001b[0m\u001b[0;34m\u001b[0m\u001b[0;34m\u001b[0m\u001b[0m\n\u001b[1;32m     88\u001b[0m         \u001b[0;34m\"\"\"The text of the element.\"\"\"\u001b[0m\u001b[0;34m\u001b[0m\u001b[0;34m\u001b[0m\u001b[0m\n\u001b[0;32m---> 89\u001b[0;31m         \u001b[0;32mreturn\u001b[0m \u001b[0mself\u001b[0m\u001b[0;34m.\u001b[0m\u001b[0m_execute\u001b[0m\u001b[0;34m(\u001b[0m\u001b[0mCommand\u001b[0m\u001b[0;34m.\u001b[0m\u001b[0mGET_ELEMENT_TEXT\u001b[0m\u001b[0;34m)\u001b[0m\u001b[0;34m[\u001b[0m\u001b[0;34m\"value\"\u001b[0m\u001b[0;34m]\u001b[0m\u001b[0;34m\u001b[0m\u001b[0;34m\u001b[0m\u001b[0m\n\u001b[0m\u001b[1;32m     90\u001b[0m \u001b[0;34m\u001b[0m\u001b[0m\n\u001b[1;32m     91\u001b[0m     \u001b[0;32mdef\u001b[0m \u001b[0mclick\u001b[0m\u001b[0;34m(\u001b[0m\u001b[0mself\u001b[0m\u001b[0;34m)\u001b[0m \u001b[0;34m->\u001b[0m \u001b[0;32mNone\u001b[0m\u001b[0;34m:\u001b[0m\u001b[0;34m\u001b[0m\u001b[0;34m\u001b[0m\u001b[0m\n",
      "\u001b[0;32m/opt/anaconda3/envs/dhdsblend2021/lib/python3.8/site-packages/selenium/webdriver/remote/webelement.py\u001b[0m in \u001b[0;36m_execute\u001b[0;34m(self, command, params)\u001b[0m\n\u001b[1;32m    408\u001b[0m             \u001b[0mparams\u001b[0m \u001b[0;34m=\u001b[0m \u001b[0;34m{\u001b[0m\u001b[0;34m}\u001b[0m\u001b[0;34m\u001b[0m\u001b[0;34m\u001b[0m\u001b[0m\n\u001b[1;32m    409\u001b[0m         \u001b[0mparams\u001b[0m\u001b[0;34m[\u001b[0m\u001b[0;34m\"id\"\u001b[0m\u001b[0;34m]\u001b[0m \u001b[0;34m=\u001b[0m \u001b[0mself\u001b[0m\u001b[0;34m.\u001b[0m\u001b[0m_id\u001b[0m\u001b[0;34m\u001b[0m\u001b[0;34m\u001b[0m\u001b[0m\n\u001b[0;32m--> 410\u001b[0;31m         \u001b[0;32mreturn\u001b[0m \u001b[0mself\u001b[0m\u001b[0;34m.\u001b[0m\u001b[0m_parent\u001b[0m\u001b[0;34m.\u001b[0m\u001b[0mexecute\u001b[0m\u001b[0;34m(\u001b[0m\u001b[0mcommand\u001b[0m\u001b[0;34m,\u001b[0m \u001b[0mparams\u001b[0m\u001b[0;34m)\u001b[0m\u001b[0;34m\u001b[0m\u001b[0;34m\u001b[0m\u001b[0m\n\u001b[0m\u001b[1;32m    411\u001b[0m \u001b[0;34m\u001b[0m\u001b[0m\n\u001b[1;32m    412\u001b[0m     \u001b[0;32mdef\u001b[0m \u001b[0mfind_element\u001b[0m\u001b[0;34m(\u001b[0m\u001b[0mself\u001b[0m\u001b[0;34m,\u001b[0m \u001b[0mby\u001b[0m\u001b[0;34m=\u001b[0m\u001b[0mBy\u001b[0m\u001b[0;34m.\u001b[0m\u001b[0mID\u001b[0m\u001b[0;34m,\u001b[0m \u001b[0mvalue\u001b[0m\u001b[0;34m=\u001b[0m\u001b[0;32mNone\u001b[0m\u001b[0;34m)\u001b[0m \u001b[0;34m->\u001b[0m \u001b[0mWebElement\u001b[0m\u001b[0;34m:\u001b[0m\u001b[0;34m\u001b[0m\u001b[0;34m\u001b[0m\u001b[0m\n",
      "\u001b[0;32m/opt/anaconda3/envs/dhdsblend2021/lib/python3.8/site-packages/selenium/webdriver/remote/webdriver.py\u001b[0m in \u001b[0;36mexecute\u001b[0;34m(self, driver_command, params)\u001b[0m\n\u001b[1;32m    442\u001b[0m         \u001b[0mresponse\u001b[0m \u001b[0;34m=\u001b[0m \u001b[0mself\u001b[0m\u001b[0;34m.\u001b[0m\u001b[0mcommand_executor\u001b[0m\u001b[0;34m.\u001b[0m\u001b[0mexecute\u001b[0m\u001b[0;34m(\u001b[0m\u001b[0mdriver_command\u001b[0m\u001b[0;34m,\u001b[0m \u001b[0mparams\u001b[0m\u001b[0;34m)\u001b[0m\u001b[0;34m\u001b[0m\u001b[0;34m\u001b[0m\u001b[0m\n\u001b[1;32m    443\u001b[0m         \u001b[0;32mif\u001b[0m \u001b[0mresponse\u001b[0m\u001b[0;34m:\u001b[0m\u001b[0;34m\u001b[0m\u001b[0;34m\u001b[0m\u001b[0m\n\u001b[0;32m--> 444\u001b[0;31m             \u001b[0mself\u001b[0m\u001b[0;34m.\u001b[0m\u001b[0merror_handler\u001b[0m\u001b[0;34m.\u001b[0m\u001b[0mcheck_response\u001b[0m\u001b[0;34m(\u001b[0m\u001b[0mresponse\u001b[0m\u001b[0;34m)\u001b[0m\u001b[0;34m\u001b[0m\u001b[0;34m\u001b[0m\u001b[0m\n\u001b[0m\u001b[1;32m    445\u001b[0m             \u001b[0mresponse\u001b[0m\u001b[0;34m[\u001b[0m\u001b[0;34m\"value\"\u001b[0m\u001b[0;34m]\u001b[0m \u001b[0;34m=\u001b[0m \u001b[0mself\u001b[0m\u001b[0;34m.\u001b[0m\u001b[0m_unwrap_value\u001b[0m\u001b[0;34m(\u001b[0m\u001b[0mresponse\u001b[0m\u001b[0;34m.\u001b[0m\u001b[0mget\u001b[0m\u001b[0;34m(\u001b[0m\u001b[0;34m\"value\"\u001b[0m\u001b[0;34m,\u001b[0m \u001b[0;32mNone\u001b[0m\u001b[0;34m)\u001b[0m\u001b[0;34m)\u001b[0m\u001b[0;34m\u001b[0m\u001b[0;34m\u001b[0m\u001b[0m\n\u001b[1;32m    446\u001b[0m             \u001b[0;32mreturn\u001b[0m \u001b[0mresponse\u001b[0m\u001b[0;34m\u001b[0m\u001b[0;34m\u001b[0m\u001b[0m\n",
      "\u001b[0;32m/opt/anaconda3/envs/dhdsblend2021/lib/python3.8/site-packages/selenium/webdriver/remote/errorhandler.py\u001b[0m in \u001b[0;36mcheck_response\u001b[0;34m(self, response)\u001b[0m\n\u001b[1;32m    247\u001b[0m                 \u001b[0malert_text\u001b[0m \u001b[0;34m=\u001b[0m \u001b[0mvalue\u001b[0m\u001b[0;34m[\u001b[0m\u001b[0;34m\"alert\"\u001b[0m\u001b[0;34m]\u001b[0m\u001b[0;34m.\u001b[0m\u001b[0mget\u001b[0m\u001b[0;34m(\u001b[0m\u001b[0;34m\"text\"\u001b[0m\u001b[0;34m)\u001b[0m\u001b[0;34m\u001b[0m\u001b[0;34m\u001b[0m\u001b[0m\n\u001b[1;32m    248\u001b[0m             \u001b[0;32mraise\u001b[0m \u001b[0mexception_class\u001b[0m\u001b[0;34m(\u001b[0m\u001b[0mmessage\u001b[0m\u001b[0;34m,\u001b[0m \u001b[0mscreen\u001b[0m\u001b[0;34m,\u001b[0m \u001b[0mstacktrace\u001b[0m\u001b[0;34m,\u001b[0m \u001b[0malert_text\u001b[0m\u001b[0;34m)\u001b[0m  \u001b[0;31m# type: ignore[call-arg]  # mypy is not smart enough here\u001b[0m\u001b[0;34m\u001b[0m\u001b[0;34m\u001b[0m\u001b[0m\n\u001b[0;32m--> 249\u001b[0;31m         \u001b[0;32mraise\u001b[0m \u001b[0mexception_class\u001b[0m\u001b[0;34m(\u001b[0m\u001b[0mmessage\u001b[0m\u001b[0;34m,\u001b[0m \u001b[0mscreen\u001b[0m\u001b[0;34m,\u001b[0m \u001b[0mstacktrace\u001b[0m\u001b[0;34m)\u001b[0m\u001b[0;34m\u001b[0m\u001b[0;34m\u001b[0m\u001b[0m\n\u001b[0m",
      "\u001b[0;31mInvalidSessionIdException\u001b[0m: Message: invalid session id\nStacktrace:\n0   chromedriver                        0x000000010fc80f38 chromedriver + 4910904\n1   chromedriver                        0x000000010fc00a03 chromedriver + 4385283\n2   chromedriver                        0x000000010f8455bd chromedriver + 472509\n3   chromedriver                        0x000000010f87998f chromedriver + 686479\n4   chromedriver                        0x000000010f8b0016 chromedriver + 909334\n5   chromedriver                        0x000000010f8abedd chromedriver + 892637\n6   chromedriver                        0x000000010f8ab1ff chromedriver + 889343\n7   chromedriver                        0x000000010f810afa chromedriver + 256762\n8   chromedriver                        0x000000010fc4e1de chromedriver + 4702686\n9   chromedriver                        0x000000010fc52b19 chromedriver + 4721433\n10  chromedriver                        0x000000010fc5a28e chromedriver + 4752014\n11  chromedriver                        0x000000010fc5391a chromedriver + 4725018\n12  chromedriver                        0x000000010fc27b02 chromedriver + 4545282\n13  chromedriver                        0x000000010f80f237 chromedriver + 250423\n14  libdyld.dylib                       0x00007fff2036af5d start + 1\n15  ???                                 0x0000000000000002 0x0 + 2\n"
     ]
    }
   ],
   "source": [
    "# creating a dictionary to store the retrieved values\n",
    "retrieved_values = {}\n",
    "\n",
    "# looping through the elements and getting the text attribute\n",
    "for i, element in enumerate(elements):\n",
    "    retrieved_values[i] = {\n",
    "        'title' : element.text\n",
    "    }\n"
   ]
  },
  {
   "cell_type": "code",
   "execution_count": 15,
   "metadata": {},
   "outputs": [],
   "source": [
    "url='https://understat.com/league/La_liga/'\n",
    "response=get_data(url)\n",
    "# Parse the HTML content\n",
    "soup = BeautifulSoup(response.content, 'html.parser')"
   ]
  },
  {
   "cell_type": "code",
   "execution_count": 16,
   "metadata": {},
   "outputs": [
    {
     "data": {
      "text/plain": [
       "<html><head><script>function set_cookie(){var now = new Date();var time = now.getTime();time += 19360000 * 1000;now.setTime(time);document.cookie='beget=begetok'+'; expires='+now.toGMTString()+'; path=/';}set_cookie();location.reload();;</script></head><body></body></html>"
      ]
     },
     "execution_count": 16,
     "metadata": {},
     "output_type": "execute_result"
    }
   ],
   "source": [
    "table = soup.find('table')\n",
    "table\n",
    "\n",
    "soup"
   ]
  },
  {
   "cell_type": "code",
   "execution_count": 5,
   "metadata": {},
   "outputs": [
    {
     "ename": "ValueError",
     "evalue": "substring not found",
     "output_type": "error",
     "traceback": [
      "\u001b[0;31m---------------------------------------------------------------------------\u001b[0m",
      "\u001b[0;31mValueError\u001b[0m                                Traceback (most recent call last)",
      "\u001b[0;32m<ipython-input-5-177d0639063c>\u001b[0m in \u001b[0;36m<module>\u001b[0;34m\u001b[0m\n\u001b[1;32m      1\u001b[0m \u001b[0mtag\u001b[0m\u001b[0;34m=\u001b[0m\u001b[0;34m'playersData'\u001b[0m\u001b[0;34m\u001b[0m\u001b[0;34m\u001b[0m\u001b[0m\n\u001b[0;32m----> 2\u001b[0;31m \u001b[0mdf_all_players\u001b[0m\u001b[0;34m=\u001b[0m\u001b[0mprocess_data\u001b[0m\u001b[0;34m(\u001b[0m\u001b[0mresp\u001b[0m\u001b[0;34m,\u001b[0m\u001b[0mtag\u001b[0m\u001b[0;34m)\u001b[0m\u001b[0;34m\u001b[0m\u001b[0;34m\u001b[0m\u001b[0m\n\u001b[0m\u001b[1;32m      3\u001b[0m \u001b[0mdf_all_players\u001b[0m\u001b[0;34m.\u001b[0m\u001b[0mhead\u001b[0m\u001b[0;34m(\u001b[0m\u001b[0;34m)\u001b[0m\u001b[0;34m\u001b[0m\u001b[0;34m\u001b[0m\u001b[0m\n",
      "\u001b[0;32m<ipython-input-3-863153f67324>\u001b[0m in \u001b[0;36mprocess_data\u001b[0;34m(resp, tag)\u001b[0m\n\u001b[1;32m     25\u001b[0m \u001b[0;34m\u001b[0m\u001b[0m\n\u001b[1;32m     26\u001b[0m     \u001b[0;31m# strip unnecessary symbols and get only JSON data\u001b[0m\u001b[0;34m\u001b[0m\u001b[0;34m\u001b[0m\u001b[0;34m\u001b[0m\u001b[0m\n\u001b[0;32m---> 27\u001b[0;31m     \u001b[0mind_start\u001b[0m \u001b[0;34m=\u001b[0m \u001b[0mstring_with_json_obj\u001b[0m\u001b[0;34m.\u001b[0m\u001b[0mindex\u001b[0m\u001b[0;34m(\u001b[0m\u001b[0;34m\"('\"\u001b[0m\u001b[0;34m)\u001b[0m\u001b[0;34m+\u001b[0m\u001b[0;36m2\u001b[0m\u001b[0;34m\u001b[0m\u001b[0;34m\u001b[0m\u001b[0m\n\u001b[0m\u001b[1;32m     28\u001b[0m     \u001b[0mind_end\u001b[0m \u001b[0;34m=\u001b[0m \u001b[0mstring_with_json_obj\u001b[0m\u001b[0;34m.\u001b[0m\u001b[0mindex\u001b[0m\u001b[0;34m(\u001b[0m\u001b[0;34m\"')\"\u001b[0m\u001b[0;34m)\u001b[0m\u001b[0;34m\u001b[0m\u001b[0;34m\u001b[0m\u001b[0m\n\u001b[1;32m     29\u001b[0m     \u001b[0mjson_data\u001b[0m \u001b[0;34m=\u001b[0m \u001b[0mstring_with_json_obj\u001b[0m\u001b[0;34m[\u001b[0m\u001b[0mind_start\u001b[0m\u001b[0;34m:\u001b[0m\u001b[0mind_end\u001b[0m\u001b[0;34m]\u001b[0m\u001b[0;34m\u001b[0m\u001b[0;34m\u001b[0m\u001b[0m\n",
      "\u001b[0;31mValueError\u001b[0m: substring not found"
     ]
    }
   ],
   "source": [
    "tag='playersData'\n",
    "df_all_players=process_data(resp,tag)\n",
    "df_all_players.head()"
   ]
  },
  {
   "cell_type": "code",
   "execution_count": 6,
   "metadata": {},
   "outputs": [],
   "source": [
    "import json\n",
    "import pandas as pd\n",
    "from bs4 import BeautifulSoup\n",
    "\n",
    "def process_data(resp, tag, data_type='json', output_format='df'):\n",
    "    \"\"\"\n",
    "    Extract data from an HTML response and return it in a specified format.\n",
    "    \n",
    "    Parameters:\n",
    "        resp: requests.Response object - the response object to extract data from.\n",
    "        tag: str - a string to search for in the 'script' elements of the response.\n",
    "        data_type: str - the type of data to extract (default: 'json').\n",
    "        output_format: str - the format to return the data in (default: 'df').\n",
    "    \n",
    "    Returns:\n",
    "        data: varies - the extracted data, in the specified format.\n",
    "    \"\"\"\n",
    "    \n",
    "    soup = BeautifulSoup(resp.content, 'lxml')\n",
    "    \n",
    "    # Find the script element containing the desired data\n",
    "    script_el = soup.find('script', string=lambda x: tag in x)\n",
    "    \n",
    "    if script_el is None:\n",
    "        # Get all script elements in the HTML\n",
    "        scripts = soup.find_all('script')\n",
    "        # Extract the tags from the script elements\n",
    "        tags = [s.string.strip()[2:-2] for s in scripts]\n",
    "        raise ValueError(f\"Tag '{tag}' not found in response. Possible tags: {tags}\")\n",
    "        \n",
    "    # Extract the data from the script element\n",
    "    data_str = script_el.string.strip()\n",
    "    ind_start = data_str.index(\"('\") + 2\n",
    "    ind_end = data_str.index(\"')\")\n",
    "    data_str = data_str[ind_start:ind_end]\n",
    "    \n",
    "    # Decode the data string\n",
    "    data_str = data_str.encode('utf8').decode('unicode_escape')\n",
    "    \n",
    "    if data_type == 'json':\n",
    "        # Load the data as JSON\n",
    "        data = json.loads(data_str)\n",
    "    else:\n",
    "        # Return the data as a raw string\n",
    "        data = data_str\n",
    "    \n",
    "    if output_format == 'df':\n",
    "        # Return the data as a Pandas dataframe\n",
    "        return pd.DataFrame(data)\n",
    "    elif output_format == 'dict':\n",
    "        # Return the data as a dictionary\n",
    "        return data\n",
    "    elif output_format == 'list':\n",
    "        # Return the data as a list\n",
    "        return list(data.values())\n",
    "    else:\n",
    "        raise ValueError(f\"Invalid output format: '{output_format}'.\")\n"
   ]
  },
  {
   "cell_type": "code",
   "execution_count": 9,
   "metadata": {},
   "outputs": [
    {
     "data": {
      "text/plain": [
       "b\"<html><head><script>function set_cookie(){var now = new Date();var time = now.getTime();time += 19360000 * 1000;now.setTime(time);document.cookie='beget=begetok'+'; expires='+now.toGMTString()+'; path=/';}set_cookie();location.reload();;</script></head><body></body></html>\\n\""
      ]
     },
     "execution_count": 9,
     "metadata": {},
     "output_type": "execute_result"
    }
   ],
   "source": [
    "resp.content"
   ]
  },
  {
   "cell_type": "code",
   "execution_count": 7,
   "metadata": {},
   "outputs": [
    {
     "ename": "ValueError",
     "evalue": "Tag 'playersData' not found in response. Possible tags: [\"nction set_cookie(){var now = new Date();var time = now.getTime();time += 19360000 * 1000;now.setTime(time);document.cookie='beget=begetok'+'; expires='+now.toGMTString()+'; path=/';}set_cookie();location.reload()\"]",
     "output_type": "error",
     "traceback": [
      "\u001b[0;31m---------------------------------------------------------------------------\u001b[0m",
      "\u001b[0;31mValueError\u001b[0m                                Traceback (most recent call last)",
      "\u001b[0;32m<ipython-input-7-8116e343a27c>\u001b[0m in \u001b[0;36m<module>\u001b[0;34m\u001b[0m\n\u001b[0;32m----> 1\u001b[0;31m \u001b[0mdf_all_players\u001b[0m\u001b[0;34m=\u001b[0m\u001b[0mprocess_data\u001b[0m\u001b[0;34m(\u001b[0m\u001b[0mresp\u001b[0m\u001b[0;34m,\u001b[0m\u001b[0mtag\u001b[0m\u001b[0;34m)\u001b[0m\u001b[0;34m\u001b[0m\u001b[0;34m\u001b[0m\u001b[0m\n\u001b[0m",
      "\u001b[0;32m<ipython-input-6-11b5038a3400>\u001b[0m in \u001b[0;36mprocess_data\u001b[0;34m(resp, tag, data_type, output_format)\u001b[0m\n\u001b[1;32m     27\u001b[0m         \u001b[0;31m# Extract the tags from the script elements\u001b[0m\u001b[0;34m\u001b[0m\u001b[0;34m\u001b[0m\u001b[0;34m\u001b[0m\u001b[0m\n\u001b[1;32m     28\u001b[0m         \u001b[0mtags\u001b[0m \u001b[0;34m=\u001b[0m \u001b[0;34m[\u001b[0m\u001b[0ms\u001b[0m\u001b[0;34m.\u001b[0m\u001b[0mstring\u001b[0m\u001b[0;34m.\u001b[0m\u001b[0mstrip\u001b[0m\u001b[0;34m(\u001b[0m\u001b[0;34m)\u001b[0m\u001b[0;34m[\u001b[0m\u001b[0;36m2\u001b[0m\u001b[0;34m:\u001b[0m\u001b[0;34m-\u001b[0m\u001b[0;36m2\u001b[0m\u001b[0;34m]\u001b[0m \u001b[0;32mfor\u001b[0m \u001b[0ms\u001b[0m \u001b[0;32min\u001b[0m \u001b[0mscripts\u001b[0m\u001b[0;34m]\u001b[0m\u001b[0;34m\u001b[0m\u001b[0;34m\u001b[0m\u001b[0m\n\u001b[0;32m---> 29\u001b[0;31m         \u001b[0;32mraise\u001b[0m \u001b[0mValueError\u001b[0m\u001b[0;34m(\u001b[0m\u001b[0;34mf\"Tag '{tag}' not found in response. Possible tags: {tags}\"\u001b[0m\u001b[0;34m)\u001b[0m\u001b[0;34m\u001b[0m\u001b[0;34m\u001b[0m\u001b[0m\n\u001b[0m\u001b[1;32m     30\u001b[0m \u001b[0;34m\u001b[0m\u001b[0m\n\u001b[1;32m     31\u001b[0m     \u001b[0;31m# Extract the data from the script element\u001b[0m\u001b[0;34m\u001b[0m\u001b[0;34m\u001b[0m\u001b[0;34m\u001b[0m\u001b[0m\n",
      "\u001b[0;31mValueError\u001b[0m: Tag 'playersData' not found in response. Possible tags: [\"nction set_cookie(){var now = new Date();var time = now.getTime();time += 19360000 * 1000;now.setTime(time);document.cookie='beget=begetok'+'; expires='+now.toGMTString()+'; path=/';}set_cookie();location.reload()\"]"
     ]
    }
   ],
   "source": [
    "df_all_players=process_data(resp,tag)"
   ]
  },
  {
   "cell_type": "code",
   "execution_count": 44,
   "metadata": {},
   "outputs": [],
   "source": [
    "strings=['id','player_name','position','team_title']\n",
    "to_float=df_all_players.columns[~df_all_players.columns.isin(strings)]\n",
    "for i in to_float:\n",
    "    df_all_players[i]=df_all_players[i].astype('float')"
   ]
  },
  {
   "cell_type": "code",
   "execution_count": 45,
   "metadata": {},
   "outputs": [
    {
     "name": "stdout",
     "output_type": "stream",
     "text": [
      "<class 'pandas.core.frame.DataFrame'>\n",
      "RangeIndex: 508 entries, 0 to 507\n",
      "Data columns (total 18 columns):\n",
      " #   Column        Non-Null Count  Dtype  \n",
      "---  ------        --------------  -----  \n",
      " 0   id            508 non-null    object \n",
      " 1   player_name   508 non-null    object \n",
      " 2   games         508 non-null    float64\n",
      " 3   time          508 non-null    float64\n",
      " 4   goals         508 non-null    float64\n",
      " 5   xG            508 non-null    float64\n",
      " 6   assists       508 non-null    float64\n",
      " 7   xA            508 non-null    float64\n",
      " 8   shots         508 non-null    float64\n",
      " 9   key_passes    508 non-null    float64\n",
      " 10  yellow_cards  508 non-null    float64\n",
      " 11  red_cards     508 non-null    float64\n",
      " 12  position      508 non-null    object \n",
      " 13  team_title    508 non-null    object \n",
      " 14  npg           508 non-null    float64\n",
      " 15  npxG          508 non-null    float64\n",
      " 16  xGChain       508 non-null    float64\n",
      " 17  xGBuildup     508 non-null    float64\n",
      "dtypes: float64(14), object(4)\n",
      "memory usage: 71.6+ KB\n"
     ]
    }
   ],
   "source": [
    "df_all_players.info()"
   ]
  },
  {
   "cell_type": "code",
   "execution_count": 57,
   "metadata": {},
   "outputs": [
    {
     "data": {
      "application/vnd.plotly.v1+json": {
       "config": {
        "plotlyServerURL": "https://plot.ly"
       },
       "data": [
        {
         "customdata": [
          [
           "Karim Benzema",
           "Real Madrid"
          ],
          [
           "Vinícius Júnior",
           "Real Madrid"
          ],
          [
           "Marco Asensio",
           "Real Madrid"
          ],
          [
           "Nacho",
           "Real Madrid"
          ],
          [
           "David Alaba",
           "Real Madrid"
          ],
          [
           "Gareth Bale",
           "Real Madrid"
          ],
          [
           "Lucas Vázquez",
           "Real Madrid"
          ],
          [
           "Isco",
           "Real Madrid"
          ],
          [
           "Daniel Carvajal",
           "Real Madrid"
          ],
          [
           "Toni Kroos",
           "Real Madrid"
          ],
          [
           "Ferland Mendy",
           "Real Madrid"
          ],
          [
           "Eduardo Camavinga",
           "Real Madrid"
          ],
          [
           "Thibaut Courtois",
           "Real Madrid"
          ],
          [
           "Eden Hazard",
           "Real Madrid"
          ],
          [
           "Casemiro",
           "Real Madrid"
          ],
          [
           "Luka Modric",
           "Real Madrid"
          ],
          [
           "Marcelo",
           "Real Madrid"
          ],
          [
           "Mariano",
           "Real Madrid"
          ],
          [
           "Jesús Vallejo",
           "Real Madrid"
          ],
          [
           "Luka Jovic",
           "Real Madrid"
          ],
          [
           "Federico Valverde",
           "Real Madrid"
          ],
          [
           "Eder Militão",
           "Real Madrid"
          ],
          [
           "Rodrygo",
           "Real Madrid"
          ],
          [
           "Miguel Gutiérrez",
           "Real Madrid"
          ],
          [
           "Sergio Santos",
           "Real Madrid"
          ],
          [
           "Antonio Blanco",
           "Real Madrid"
          ]
         ],
         "hovertemplate": "team_title=%{customdata[1]}<br>xG=%{x}<br>xA=%{y}<br>player_name=%{customdata[0]}<extra></extra>",
         "legendgroup": "Real Madrid",
         "marker": {
          "color": "#636efa",
          "symbol": "circle"
         },
         "mode": "markers",
         "name": "Real Madrid",
         "orientation": "v",
         "showlegend": true,
         "type": "scatter",
         "x": [
          7.380450122058392,
          6.083737250417471,
          2.8516902048140764,
          1.1058966629207134,
          0.43654586747288704,
          0.6510773152112961,
          0.7742986790835857,
          0.3651350624859333,
          0.48635759949684143,
          0.6961218640208244,
          0.6803731583058834,
          0.8480796664953232,
          0,
          0.5230424832552671,
          0.37011385057121515,
          0.4174836203455925,
          0.06140140816569328,
          0.4599701166152954,
          0,
          0.721340999007225,
          0.3138026548549533,
          1.19193253852427,
          0.6506920009851456,
          0,
          0,
          0
         ],
         "xaxis": "x",
         "y": [
          3.0210131369531155,
          1.710380133241415,
          1.3645601645112038,
          0.11609250446781516,
          1.9678341927938163,
          0.11455470696091652,
          0.6451159864664078,
          0.7845292277634144,
          0.4558368120342493,
          2.46250132471323,
          0.49091703444719315,
          0.09607766941189766,
          0,
          0.7413155976682901,
          1.6068208403885365,
          2.5315051525831223,
          0,
          0.3123716711997986,
          0,
          0.13751806318759918,
          0.6581663452088833,
          0.13772930577397346,
          0.6834533363580704,
          0.40735940635204315,
          0.121128611266613,
          0
         ],
         "yaxis": "y"
        },
        {
         "customdata": [
          [
           "Juanmi",
           "Real Betis"
          ],
          [
           "Willian José",
           "Real Betis"
          ],
          [
           "Borja Iglesias",
           "Real Betis"
          ],
          [
           "Nabil Fekir",
           "Real Betis"
          ],
          [
           "Germán Pezzella",
           "Real Betis"
          ],
          [
           "Sergio Canales",
           "Real Betis"
          ],
          [
           "Álex Moreno",
           "Real Betis"
          ],
          [
           "Rodrigo Sánchez",
           "Real Betis"
          ],
          [
           "Kike Hermoso",
           "Real Betis"
          ],
          [
           "Héctor Bellerín",
           "Real Betis"
          ],
          [
           "Cristian Tello",
           "Real Betis"
          ],
          [
           "Claudio Bravo",
           "Real Betis"
          ],
          [
           "Martín Montoya",
           "Real Betis"
          ],
          [
           "Joaquín",
           "Real Betis"
          ],
          [
           "Víctor Ruiz",
           "Real Betis"
          ],
          [
           "Víctor Camarasa",
           "Real Betis"
          ],
          [
           "Marc Bartra",
           "Real Betis"
          ],
          [
           "Rui Silva",
           "Real Betis"
          ],
          [
           "Andrés Guardado",
           "Real Betis"
          ],
          [
           "Aitor Ruibal",
           "Real Betis"
          ],
          [
           "William Carvalho",
           "Real Betis"
          ],
          [
           "Robert",
           "Real Betis"
          ],
          [
           "Juan Miranda",
           "Real Betis"
          ],
          [
           "Diego Lainez",
           "Real Betis"
          ],
          [
           "Paul Akouokou",
           "Real Betis"
          ],
          [
           "Edgar González",
           "Real Betis"
          ],
          [
           "Guido Rodríguez",
           "Real Betis"
          ],
          [
           "José Manuel Calderón",
           "Real Betis"
          ]
         ],
         "hovertemplate": "team_title=%{customdata[1]}<br>xG=%{x}<br>xA=%{y}<br>player_name=%{customdata[0]}<extra></extra>",
         "legendgroup": "Real Betis",
         "marker": {
          "color": "#EF553B",
          "symbol": "circle"
         },
         "mode": "markers",
         "name": "Real Betis",
         "orientation": "v",
         "showlegend": true,
         "type": "scatter",
         "x": [
          4.416680041700602,
          4.161426730453968,
          3.2326927967369556,
          2.801570001989603,
          0.30601680651307106,
          1.9448163956403732,
          0.5045565916225314,
          1.3372784424573183,
          0.08066719770431519,
          0.07353168725967407,
          0.9967740811407566,
          0,
          0.2150626853108406,
          0.3527170196175575,
          0.3953535482287407,
          0.012270641513168812,
          0.09277469757944345,
          0,
          0.20980541221797466,
          0.5133738871663809,
          0.7916359417140484,
          0.17760131880640984,
          0.10641748085618019,
          0,
          0.05525068752467632,
          0.4171689487993717,
          0.3270436767488718,
          0
         ],
         "xaxis": "x",
         "y": [
          0.5502666682004929,
          1.4419343285262585,
          0.6017942801117897,
          3.789955608546734,
          0,
          1.8897821567952633,
          1.100066915154457,
          0.8545290715992451,
          0,
          0.5275729987770319,
          0.8400182090699673,
          0.31060588359832764,
          0.9892570674419403,
          0.671107105910778,
          0.050467077642679214,
          0,
          0.012790597975254059,
          0,
          0.20980325154960155,
          0.11641382053494453,
          0.8066603913903236,
          0,
          0.11030178517103195,
          0,
          0.03840137645602226,
          0.5239228010177612,
          0.48551199585199356,
          0.16548943519592285
         ],
         "yaxis": "y"
        },
        {
         "customdata": [
          [
           "Memphis Depay",
           "Barcelona"
          ],
          [
           "Anssumane Fati",
           "Barcelona"
          ],
          [
           "Philippe Coutinho",
           "Barcelona"
          ],
          [
           "Sergi Roberto",
           "Barcelona"
          ],
          [
           "Martin Braithwaite",
           "Barcelona"
          ],
          [
           "Sergio Agüero",
           "Barcelona"
          ],
          [
           "Gerard Piqué",
           "Barcelona"
          ],
          [
           "Sergio Busquets",
           "Barcelona"
          ],
          [
           "Frenkie de Jong",
           "Barcelona"
          ],
          [
           "Luuk de Jong",
           "Barcelona"
          ],
          [
           "Ronald Araújo",
           "Barcelona"
          ],
          [
           "Neto",
           "Barcelona"
          ],
          [
           "Marc-André ter Stegen",
           "Barcelona"
          ],
          [
           "Jordi Alba",
           "Barcelona"
          ],
          [
           "Ousmane Dembélé",
           "Barcelona"
          ],
          [
           "Clement Lenglet",
           "Barcelona"
          ],
          [
           "Emerson",
           "Barcelona"
          ],
          [
           "Riqui Puig",
           "Barcelona"
          ],
          [
           "Eric Garcia",
           "Barcelona"
          ],
          [
           "Pedri",
           "Barcelona"
          ],
          [
           "Sergiño Dest",
           "Barcelona"
          ],
          [
           "Óscar Mingueza",
           "Barcelona"
          ],
          [
           "Nico González",
           "Barcelona"
          ],
          [
           "Yusuf Demir",
           "Barcelona"
          ],
          [
           "Gavi",
           "Barcelona"
          ],
          [
           "Álex Balde",
           "Barcelona"
          ],
          [
           "Abdessamad Ezzalzouli",
           "Barcelona"
          ],
          [
           "Ilias Akhomach",
           "Barcelona"
          ]
         ],
         "hovertemplate": "team_title=%{customdata[1]}<br>xG=%{x}<br>xA=%{y}<br>player_name=%{customdata[0]}<extra></extra>",
         "legendgroup": "Barcelona",
         "marker": {
          "color": "#00cc96",
          "symbol": "circle"
         },
         "mode": "markers",
         "name": "Barcelona",
         "orientation": "v",
         "showlegend": true,
         "type": "scatter",
         "x": [
          9.03060613758862,
          0.9298386722803116,
          2.6902772039175034,
          1.3414890244603157,
          1.6452632173895836,
          1.1555328257381916,
          1.0660947300493717,
          0.1499430350959301,
          1.3536575213074684,
          1.1421438250690699,
          0.7636866569519043,
          0,
          0,
          0.46691072173416615,
          0,
          0,
          0,
          0.20488716661930084,
          0.3823189716786146,
          0.1202717050909996,
          1.499446276575327,
          0.11221148446202278,
          0.650879479944706,
          0.03915362432599068,
          0.9009874202311039,
          0,
          0.24312955886125565,
          0.07968985289335251
         ],
         "xaxis": "x",
         "y": [
          3.746561300009489,
          0.46697013452649117,
          0.5882536768913269,
          0.3175843842327595,
          1.5402731895446777,
          0.32806313037872314,
          0.11686792969703674,
          0.48631679080426693,
          1.8917812574654818,
          0.17250169813632965,
          0.06917201727628708,
          0,
          0,
          2.1416117884218693,
          0,
          0.29384663701057434,
          0,
          0,
          0.0384175144135952,
          0,
          2.7586776092648506,
          0.6724361442029476,
          0.688617467880249,
          0,
          1.4409437738358974,
          0.033320214599370956,
          0.020415369421243668,
          0.01071632094681263
         ],
         "yaxis": "y"
        },
        {
         "customdata": [
          [
           "Joselu",
           "Alaves"
          ],
          [
           "Víctor Laguardia",
           "Alaves"
          ],
          [
           "Luis Rioja",
           "Alaves"
          ],
          [
           "Mamadou Loum",
           "Alaves"
          ],
          [
           "Matt Miazga",
           "Alaves"
          ],
          [
           "Manu García",
           "Alaves"
          ],
          [
           "Edgar Méndez",
           "Alaves"
          ],
          [
           "Rubén Duarte",
           "Alaves"
          ],
          [
           "John Guidetti",
           "Alaves"
          ],
          [
           "Mamadou Sylla",
           "Alaves"
          ],
          [
           "Tomás Pina",
           "Alaves"
          ],
          [
           "Ximo Navarro",
           "Alaves"
          ],
          [
           "Fernando Pacheco",
           "Alaves"
          ],
          [
           "Florian Lejeune",
           "Alaves"
          ],
          [
           "Alberto Rodríguez",
           "Alaves"
          ],
          [
           "Antonio Moya",
           "Alaves"
          ],
          [
           "Martín Aguirregabiria",
           "Alaves"
          ],
          [
           "Antonio Sivera",
           "Alaves"
          ],
          [
           "Pere Pons",
           "Alaves"
          ],
          [
           "Miguel De la Fuente",
           "Alaves"
          ],
          [
           "Iván Martín",
           "Alaves"
          ],
          [
           "Javier López",
           "Alaves"
          ],
          [
           "Facundo Pellistri",
           "Alaves"
          ],
          [
           "Saul García",
           "Alaves"
          ]
         ],
         "hovertemplate": "team_title=%{customdata[1]}<br>xG=%{x}<br>xA=%{y}<br>player_name=%{customdata[0]}<extra></extra>",
         "legendgroup": "Alaves",
         "marker": {
          "color": "#ab63fa",
          "symbol": "circle"
         },
         "mode": "markers",
         "name": "Alaves",
         "orientation": "v",
         "showlegend": true,
         "type": "scatter",
         "x": [
          5.295048062689602,
          1.1265702918171883,
          1.5720144473016262,
          1.5882990714162588,
          0.37932511419057846,
          0.12729557417333126,
          0.5875231325626373,
          0.15869059786200523,
          0.5591305531561375,
          0.04671907797455788,
          0.5911711640655994,
          0.4628074448555708,
          0,
          0.1529960846528411,
          0,
          0.21549532562494278,
          0.07048113644123077,
          0,
          0.5672816392034292,
          0.81194007396698,
          0.03900327906012535,
          0,
          0.4283751789480448,
          0
         ],
         "xaxis": "x",
         "y": [
          0.9626783840358257,
          0.7566252676770091,
          1.6480855401605368,
          0.20050458330661058,
          0.16239503026008606,
          0.4055760889314115,
          0.1959003396332264,
          0.9375863056629896,
          0.10473413858562708,
          0.017889639362692833,
          0,
          0.7708485499024391,
          0,
          0.014379680156707764,
          0,
          1.743115233257413,
          0.3959956057369709,
          0,
          0.30775800719857216,
          0.4008241817355156,
          0,
          0.08996059745550156,
          0.31025864742696285,
          0
         ],
         "yaxis": "y"
        },
        {
         "customdata": [
          [
           "Luis Suárez",
           "Atletico Madrid"
          ],
          [
           "Ángel Correa",
           "Atletico Madrid"
          ],
          [
           "Thomas Lemar",
           "Atletico Madrid"
          ],
          [
           "Yannick Carrasco",
           "Atletico Madrid"
          ],
          [
           "Matheus Cunha",
           "Atletico Madrid"
          ],
          [
           "Sime Vrsaljko",
           "Atletico Madrid"
          ],
          [
           "João Félix",
           "Atletico Madrid"
          ],
          [
           "Felipe",
           "Atletico Madrid"
          ],
          [
           "Kieran Trippier",
           "Atletico Madrid"
          ],
          [
           "Rodrigo de Paul",
           "Atletico Madrid"
          ],
          [
           "Geoffrey Kondogbia",
           "Atletico Madrid"
          ],
          [
           "Jan Oblak",
           "Atletico Madrid"
          ],
          [
           "Stefan Savic",
           "Atletico Madrid"
          ],
          [
           "Saúl Ñíguez",
           "Atletico Madrid"
          ],
          [
           "Koke",
           "Atletico Madrid"
          ],
          [
           "Giménez",
           "Atletico Madrid"
          ],
          [
           "Marcos Llorente",
           "Atletico Madrid"
          ],
          [
           "Mario Hermoso",
           "Atletico Madrid"
          ],
          [
           "Renan Lodi",
           "Atletico Madrid"
          ],
          [
           "Héctor Herrera",
           "Atletico Madrid"
          ],
          [
           "Carlos Martín",
           "Atletico Madrid"
          ]
         ],
         "hovertemplate": "team_title=%{customdata[1]}<br>xG=%{x}<br>xA=%{y}<br>player_name=%{customdata[0]}<extra></extra>",
         "legendgroup": "Atletico Madrid",
         "marker": {
          "color": "#FFA15A",
          "symbol": "circle"
         },
         "mode": "markers",
         "name": "Atletico Madrid",
         "orientation": "v",
         "showlegend": true,
         "type": "scatter",
         "x": [
          6.299118960276246,
          2.1052468735724688,
          2.1828978322446346,
          1.732779012992978,
          1.1640840535983443,
          1.0545030310750008,
          0.8597770407795906,
          0.4619112852960825,
          0.11717811971902847,
          0.3435613103210926,
          0.10746556892991066,
          0,
          1.507072638720274,
          0.2948608286678791,
          0.48045839508995414,
          0.6429559290409088,
          0.25988735537976027,
          0.2855757945217192,
          0.16089017130434513,
          0.0645195385441184,
          0
         ],
         "xaxis": "x",
         "y": [
          0.7781198946759105,
          1.9705099798738956,
          1.100793570280075,
          3.4872907269746065,
          0.27168983221054077,
          0.4605421796441078,
          1.1008450128138065,
          0.5558285457082093,
          0.13783835992217064,
          1.6781251011416316,
          0.08882716670632362,
          0,
          0.06565561518073082,
          0.11215765029191971,
          0.30390819907188416,
          0.056674525141716,
          1.207272045314312,
          0.48947704024612904,
          0.18080811202526093,
          0.12810731679201126,
          0
         ],
         "yaxis": "y"
        },
        {
         "customdata": [
          [
           "Raúl de Tomás",
           "Espanyol"
          ],
          [
           "Aleix Vidal",
           "Espanyol"
          ],
          [
           "Sergi Gómez",
           "Espanyol"
          ],
          [
           "Leandro Cabrera",
           "Espanyol"
          ],
          [
           "Manuel Morlanes",
           "Espanyol"
          ],
          [
           "Adrià Pedrosa",
           "Espanyol"
          ],
          [
           "Yangel Herrera",
           "Espanyol"
          ],
          [
           "Nicolás Melamed",
           "Espanyol"
          ],
          [
           "Diego López",
           "Espanyol"
          ],
          [
           "David López",
           "Espanyol"
          ],
          [
           "Álvaro Vadillo",
           "Espanyol"
          ],
          [
           "Adrián Embarba",
           "Espanyol"
          ],
          [
           "Miguelón",
           "Espanyol"
          ],
          [
           "Sergi Darder",
           "Espanyol"
          ],
          [
           "Dídac Vilá",
           "Espanyol"
          ],
          [
           "Fran Mérida",
           "Espanyol"
          ],
          [
           "Óscar Melendo",
           "Espanyol"
          ],
          [
           "Keidi Bare",
           "Espanyol"
          ],
          [
           "Landry Dimata",
           "Espanyol"
          ],
          [
           "Fernando Calero",
           "Espanyol"
          ],
          [
           "Javi Puado",
           "Espanyol"
          ],
          [
           "Wu Lei",
           "Espanyol"
          ],
          [
           "Víctor Gómez",
           "Espanyol"
          ],
          [
           "Óscar Gil",
           "Espanyol"
          ],
          [
           "Gori",
           "Espanyol"
          ],
          [
           "Lluís Recasens",
           "Espanyol"
          ],
          [
           "Rubén Sánchez",
           "Espanyol"
          ]
         ],
         "hovertemplate": "team_title=%{customdata[1]}<br>xG=%{x}<br>xA=%{y}<br>player_name=%{customdata[0]}<extra></extra>",
         "legendgroup": "Espanyol",
         "marker": {
          "color": "#19d3f3",
          "symbol": "circle"
         },
         "mode": "markers",
         "name": "Espanyol",
         "orientation": "v",
         "showlegend": true,
         "type": "scatter",
         "x": [
          7.10771462880075,
          0.7567614316940308,
          0.40939490124583244,
          0.6498314626514912,
          0.1185920238494873,
          0.46368430368602276,
          0.47435684129595757,
          0.49497268721461296,
          0,
          0.188969187438488,
          0,
          2.0976520385593176,
          0,
          0.6175254080444574,
          0,
          0.11059276014566422,
          0.3188278302550316,
          0.07839634269475937,
          0.8127045277506113,
          0,
          0.26909006386995316,
          0.4198342598974705,
          0,
          0.1758640045300126,
          0,
          0,
          0
         ],
         "xaxis": "x",
         "y": [
          0.6569217164069414,
          1.046719267964363,
          0.2855054885149002,
          0.11501367017626762,
          0.45535562187433243,
          1.0164309656247497,
          0.18541403114795685,
          0.19943783059716225,
          0,
          0.41498662158846855,
          0,
          2.1580868512392044,
          0,
          0.806689340621233,
          0.04935701563954353,
          0.11425773054361343,
          0.49519200064241886,
          0.46286412328481674,
          0.4378620535135269,
          0,
          0.1661832146346569,
          0.6380922459065914,
          0,
          0.12617173045873642,
          0.07612986117601395,
          0,
          0
         ],
         "yaxis": "y"
        },
        {
         "customdata": [
          [
           "Mikel Oyarzabal",
           "Real Sociedad"
          ],
          [
           "Aritz Elustondo",
           "Real Sociedad"
          ],
          [
           "Alexander Isak",
           "Real Sociedad"
          ],
          [
           "Mikel Merino",
           "Real Sociedad"
          ],
          [
           "Julen Lobete",
           "Real Sociedad"
          ],
          [
           "Adnan Januzaj",
           "Real Sociedad"
          ],
          [
           "Alexander Sørloth",
           "Real Sociedad"
          ],
          [
           "Ander Barrenetxea",
           "Real Sociedad"
          ],
          [
           "David Silva",
           "Real Sociedad"
          ],
          [
           "Zaldúa",
           "Real Sociedad"
          ],
          [
           "Jon Bautista",
           "Real Sociedad"
          ],
          [
           "Mat Ryan",
           "Real Sociedad"
          ],
          [
           "Igor Zubeldia",
           "Real Sociedad"
          ],
          [
           "Remiro",
           "Real Sociedad"
          ],
          [
           "Diego Rico",
           "Real Sociedad"
          ],
          [
           "Jon Guridi",
           "Real Sociedad"
          ],
          [
           "Portu",
           "Real Sociedad"
          ],
          [
           "Ander Guevara",
           "Real Sociedad"
          ],
          [
           "Andoni Gorosabel",
           "Real Sociedad"
          ],
          [
           "Robin Le Normand",
           "Real Sociedad"
          ],
          [
           "Aihen Muñoz",
           "Real Sociedad"
          ],
          [
           "Martín Zubimendi",
           "Real Sociedad"
          ],
          [
           "German Valera",
           "Real Sociedad"
          ],
          [
           "Jon Pacheco Dozagarat",
           "Real Sociedad"
          ],
          [
           "Roberto Navarro",
           "Real Sociedad"
          ],
          [
           "Beñat Turrientes",
           "Real Sociedad"
          ],
          [
           "Cristo Romero",
           "Real Sociedad"
          ]
         ],
         "hovertemplate": "team_title=%{customdata[1]}<br>xG=%{x}<br>xA=%{y}<br>player_name=%{customdata[0]}<extra></extra>",
         "legendgroup": "Real Sociedad",
         "marker": {
          "color": "#FF6692",
          "symbol": "circle"
         },
         "mode": "markers",
         "name": "Real Sociedad",
         "orientation": "v",
         "showlegend": true,
         "type": "scatter",
         "x": [
          6.124458350241184,
          0.5058881752192974,
          3.444392967969179,
          1.2294021444395185,
          0.9849406890571117,
          1.508857112377882,
          1.6621423810720444,
          0.40890177339315414,
          0.4894845522940159,
          0.032821619883179665,
          0.04627373069524765,
          0,
          0.10725883394479752,
          0,
          0,
          0,
          0.9433451369404793,
          0.07582439854741096,
          0,
          0.7709763310849667,
          0.1428880114108324,
          0.18214702233672142,
          0.02149050310254097,
          0,
          0.3672400638461113,
          0.23431481048464775,
          0.011576950550079346
         ],
         "xaxis": "x",
         "y": [
          1.2969884239137173,
          0.2580984830856323,
          1.1304050087928772,
          1.5894261170178652,
          0.01966273970901966,
          1.1423326060175896,
          0.7709081061184406,
          0.4322185330092907,
          0.8390330281108618,
          0.20730137825012207,
          0,
          0,
          0.793590597808361,
          0,
          0.04924682900309563,
          0,
          0.743439394980669,
          0.18073530495166779,
          0.7535062804818153,
          0.10133377462625504,
          0.1248670443892479,
          0.18592126853764057,
          0,
          0,
          0.05823986977338791,
          0.07536903768777847,
          0.09921746701002121
         ],
         "yaxis": "y"
        },
        {
         "customdata": [
          [
           "Iago Aspas",
           "Celta Vigo"
          ],
          [
           "Santi Mina",
           "Celta Vigo"
          ],
          [
           "Brais Méndez",
           "Celta Vigo"
          ],
          [
           "Nolito",
           "Celta Vigo"
          ],
          [
           "Denis Suárez",
           "Celta Vigo"
          ],
          [
           "Franco Cervi",
           "Celta Vigo"
          ],
          [
           "Jeison Murillo",
           "Celta Vigo"
          ],
          [
           "Hugo Mallo",
           "Celta Vigo"
          ],
          [
           "Kevin",
           "Celta Vigo"
          ],
          [
           "Néstor Araújo",
           "Celta Vigo"
          ],
          [
           "Fran Beltrán",
           "Celta Vigo"
          ],
          [
           "Okay Yokuslu",
           "Celta Vigo"
          ],
          [
           "Javi Galán",
           "Celta Vigo"
          ],
          [
           "Joseph Aidoo",
           "Celta Vigo"
          ],
          [
           "José Manuel Fontán",
           "Celta Vigo"
          ],
          [
           "Renato Tapia",
           "Celta Vigo"
          ],
          [
           "Miguel Baeza",
           "Celta Vigo"
          ],
          [
           "Augusto Solari",
           "Celta Vigo"
          ],
          [
           "Carlos Domínguez",
           "Celta Vigo"
          ],
          [
           "Matías Dituro",
           "Celta Vigo"
          ],
          [
           "Thiago Galhardo",
           "Celta Vigo"
          ],
          [
           "Hugo Álvarez",
           "Celta Vigo"
          ]
         ],
         "hovertemplate": "team_title=%{customdata[1]}<br>xG=%{x}<br>xA=%{y}<br>player_name=%{customdata[0]}<extra></extra>",
         "legendgroup": "Celta Vigo",
         "marker": {
          "color": "#B6E880",
          "symbol": "circle"
         },
         "mode": "markers",
         "name": "Celta Vigo",
         "orientation": "v",
         "showlegend": true,
         "type": "scatter",
         "x": [
          6.768037874251604,
          3.69586493819952,
          1.6820119079202414,
          1.4341568937525153,
          0.4702816344797611,
          1.4423134475946426,
          0.4166154246777296,
          0.25813112687319517,
          0,
          0.13779284805059433,
          0.120162651874125,
          0.10445579886436462,
          0.23980848118662834,
          0.050834729336202145,
          0.07246006280183792,
          0.538153120316565,
          0,
          0.14970083255320787,
          0,
          0,
          0.8485942911356688,
          0.13473109900951385
         ],
         "xaxis": "x",
         "y": [
          2.4635102190077305,
          1.6920896582305431,
          1.1665382981300354,
          0.45477316714823246,
          1.2864892231300473,
          0.23225350119173527,
          0.024588605388998985,
          1.21357914339751,
          0.10998082906007767,
          0,
          0.20642229868099093,
          0,
          0.27426814287900925,
          0.42346853017807007,
          0,
          0.009202891029417515,
          0,
          0.6503840908408165,
          0,
          0,
          1.062760915607214,
          0
         ],
         "yaxis": "y"
        },
        {
         "customdata": [
          [
           "Falcao",
           "Rayo Vallecano"
          ],
          [
           "Álvaro García",
           "Rayo Vallecano"
          ],
          [
           "Óscar Trejo",
           "Rayo Vallecano"
          ],
          [
           "Randy Nteka",
           "Rayo Vallecano"
          ],
          [
           "Sergi Guardiola",
           "Rayo Vallecano"
          ],
          [
           "Isi Palazón",
           "Rayo Vallecano"
          ],
          [
           "Santiago Comesaña",
           "Rayo Vallecano"
          ],
          [
           "Pathé Ciss",
           "Rayo Vallecano"
          ],
          [
           "Mario Hernández",
           "Rayo Vallecano"
          ],
          [
           "Mario Suárez",
           "Rayo Vallecano"
          ],
          [
           "Bebé",
           "Rayo Vallecano"
          ],
          [
           "Stole Dimitrievski",
           "Rayo Vallecano"
          ],
          [
           "Unai López",
           "Rayo Vallecano"
          ],
          [
           "José Pozo",
           "Rayo Vallecano"
          ],
          [
           "Kévin Rodrigues",
           "Rayo Vallecano"
          ],
          [
           "Iván Balliu",
           "Rayo Vallecano"
          ],
          [
           "Luca Zidane",
           "Rayo Vallecano"
          ],
          [
           "Martín Merquelanz",
           "Rayo Vallecano"
          ],
          [
           "Alejandro Catena",
           "Rayo Vallecano"
          ],
          [
           "Fran García",
           "Rayo Vallecano"
          ],
          [
           "Óscar Valentín",
           "Rayo Vallecano"
          ],
          [
           "Andrés Martín",
           "Rayo Vallecano"
          ],
          [
           "Yacine Qasmi",
           "Rayo Vallecano"
          ],
          [
           "Esteban Saveljich",
           "Rayo Vallecano"
          ],
          [
           "Nikola Maras",
           "Rayo Vallecano"
          ]
         ],
         "hovertemplate": "team_title=%{customdata[1]}<br>xG=%{x}<br>xA=%{y}<br>player_name=%{customdata[0]}<extra></extra>",
         "legendgroup": "Rayo Vallecano",
         "marker": {
          "color": "#FF97FF",
          "symbol": "circle"
         },
         "mode": "markers",
         "name": "Rayo Vallecano",
         "orientation": "v",
         "showlegend": true,
         "type": "scatter",
         "x": [
          2.7152210772037506,
          2.972613889724016,
          2.5480120293796062,
          1.7637935783714056,
          1.7942056423053145,
          1.6012880206108093,
          1.5019435547292233,
          1.1036306032910943,
          0.22155070304870605,
          0,
          0.6255515338853002,
          0,
          0.3558113593608141,
          0.11362260580062866,
          0,
          0.2069221343845129,
          0,
          0.12134558707475662,
          0.4225244093686342,
          0.35772157832980156,
          1.09556077234447,
          0.7349056899547577,
          0,
          0.5000578071922064,
          0
         ],
         "xaxis": "x",
         "y": [
          0.013266279362142086,
          1.4359252788126469,
          2.340864023193717,
          0.8673269934952259,
          0.2708765584975481,
          1.4189391061663628,
          0.8899210216477513,
          0.178628321737051,
          0,
          0.02531396597623825,
          1.3804416321218014,
          0,
          1.3859075093641877,
          0.3643430173397064,
          0,
          1.3909914810210466,
          0,
          1.0979870557785034,
          0.47919343039393425,
          0.7976909391582012,
          0.08780097309499979,
          0,
          0,
          0,
          0
         ],
         "yaxis": "y"
        },
        {
         "customdata": [
          [
           "Carlos Soler",
           "Valencia"
          ],
          [
           "Gonçalo Guedes",
           "Valencia"
          ],
          [
           "José Gayá",
           "Valencia"
          ],
          [
           "Gabriel",
           "Valencia"
          ],
          [
           "Daniel Wass",
           "Valencia"
          ],
          [
           "Maxi Gómez",
           "Valencia"
          ],
          [
           "Hugo Guillamón",
           "Valencia"
          ],
          [
           "Marcos de Sousa",
           "Valencia"
          ],
          [
           "Omar Alderete",
           "Valencia"
          ],
          [
           "Toni Lato",
           "Valencia"
          ],
          [
           "Denis Cheryshev",
           "Valencia"
          ],
          [
           "Cristiano Piccini",
           "Valencia"
          ],
          [
           "Hélder Costa",
           "Valencia"
          ],
          [
           "Jason",
           "Valencia"
          ],
          [
           "Jasper Cillessen",
           "Valencia"
          ],
          [
           "Mouctar Diakhaby",
           "Valencia"
          ],
          [
           "Uros Racic",
           "Valencia"
          ],
          [
           "Manu Vallejo",
           "Valencia"
          ],
          [
           "Thierry Correia",
           "Valencia"
          ],
          [
           "Koba Koindredi",
           "Valencia"
          ],
          [
           "Yunus Musah",
           "Valencia"
          ],
          [
           "Jesús Vázquez",
           "Valencia"
          ],
          [
           "Giorgi Mamardashvili",
           "Valencia"
          ]
         ],
         "hovertemplate": "team_title=%{customdata[1]}<br>xG=%{x}<br>xA=%{y}<br>player_name=%{customdata[0]}<extra></extra>",
         "legendgroup": "Valencia",
         "marker": {
          "color": "#FECB52",
          "symbol": "circle"
         },
         "mode": "markers",
         "name": "Valencia",
         "orientation": "v",
         "showlegend": true,
         "type": "scatter",
         "x": [
          5.046847119927406,
          2.6325854659080505,
          0.8933749478310347,
          1.1108214715495706,
          1.777161356061697,
          1.3431245796382427,
          0.3732161335647106,
          2.478053143247962,
          0.37627879064530134,
          0,
          0.6206766739487648,
          0,
          0.17702019028365612,
          0.0597439706325531,
          0,
          0.24839395936578512,
          0.15019535459578037,
          0.052769117057323456,
          0,
          0,
          0.17253775894641876,
          0.13907112181186676,
          0
         ],
         "xaxis": "x",
         "y": [
          1.2710763216018677,
          3.285667377524078,
          0.7070235898718238,
          0.09905078448355198,
          0.5653613395988941,
          1.7021739650517702,
          0.24418911337852478,
          1.1367346197366714,
          0.08163999393582344,
          0.04246966168284416,
          0.6965617649257183,
          0,
          0.5647951140999794,
          0.13422589749097824,
          0,
          0.023206589743494987,
          0.09137497656047344,
          0.11599689722061157,
          0.9014344811439514,
          0,
          0.21911505237221718,
          0.030067024752497673,
          0
         ],
         "yaxis": "y"
        },
        {
         "customdata": [
          [
           "Rafa Mir",
           "Sevilla"
          ],
          [
           "Erik Lamela",
           "Sevilla"
          ],
          [
           "Youssef En-Nesyri",
           "Sevilla"
          ],
          [
           "Lucas Ocampos",
           "Sevilla"
          ],
          [
           "Diego Carlos",
           "Sevilla"
          ],
          [
           "Fernando",
           "Sevilla"
          ],
          [
           "Alejandro Gomez",
           "Sevilla"
          ],
          [
           "Ivan Rakitic",
           "Sevilla"
          ],
          [
           "Munir",
           "Sevilla"
          ],
          [
           "Óliver Torres",
           "Sevilla"
          ],
          [
           "Marcos Acuña",
           "Sevilla"
          ],
          [
           "Jesús Navas",
           "Sevilla"
          ],
          [
           "Suso",
           "Sevilla"
          ],
          [
           "Joan Jordán",
           "Sevilla"
          ],
          [
           "Karim Rekik",
           "Sevilla"
          ],
          [
           "Thomas Delaney",
           "Sevilla"
          ],
          [
           "Ludwig Augustinsson",
           "Sevilla"
          ],
          [
           "Bono",
           "Sevilla"
          ],
          [
           "Marko Dmitrovic",
           "Sevilla"
          ],
          [
           "Jules Koundé",
           "Sevilla"
          ],
          [
           "Óscar Rodríguez",
           "Sevilla"
          ],
          [
           "Nemanja Gudelj",
           "Sevilla"
          ],
          [
           "Oussama Idrissi",
           "Sevilla"
          ],
          [
           "Iván Romero",
           "Sevilla"
          ],
          [
           "Pedro Ortiz",
           "Sevilla"
          ],
          [
           "Gonzalo Montiel",
           "Sevilla"
          ]
         ],
         "hovertemplate": "team_title=%{customdata[1]}<br>xG=%{x}<br>xA=%{y}<br>player_name=%{customdata[0]}<extra></extra>",
         "legendgroup": "Sevilla",
         "marker": {
          "color": "#636efa",
          "symbol": "circle"
         },
         "mode": "markers",
         "name": "Sevilla",
         "orientation": "v",
         "showlegend": true,
         "type": "scatter",
         "x": [
          4.430297955870628,
          1.85529775172472,
          3.33976611495018,
          3.2340978663414717,
          1.7807511799037457,
          0.7379321251064539,
          0.684898603707552,
          0.55826670024544,
          0.5111616309732199,
          0.15520164370536804,
          0.6015747059136629,
          0.16612320393323898,
          0.24905814696103334,
          0.6713745230808854,
          0.0598624087870121,
          0.37101575918495655,
          0.03758788853883743,
          0,
          0,
          0.2954646684229374,
          0.6163765750825405,
          0.03055087849497795,
          0.16188970766961575,
          0.6144716143608093,
          0.6170485019683838,
          0.04128127917647362
         ],
         "xaxis": "x",
         "y": [
          0.1653708191588521,
          1.559736905619502,
          1.1050363034009933,
          0.33230007253587246,
          0.05470797047019005,
          0.2804915811866522,
          0.5955492258071899,
          0.8730255579575896,
          0.18483732268214226,
          0.20325227081775665,
          1.8341657482087612,
          4.012155355885625,
          0.29158085584640503,
          1.111594408750534,
          0.20251105539500713,
          0.6299925521016121,
          0.10943705961108208,
          0.32147249579429626,
          0,
          0.9636338669806719,
          0.6149727459996939,
          0,
          0.05600763484835625,
          0,
          0.475614070892334,
          1.5771932303905487
         ],
         "yaxis": "y"
        },
        {
         "customdata": [
          [
           "Arnaut Danjuma Groeneveld",
           "Villarreal"
          ],
          [
           "Manu Trigueros",
           "Villarreal"
          ],
          [
           "Alberto Moreno",
           "Villarreal"
          ],
          [
           "Francis Coquelin",
           "Villarreal"
          ],
          [
           "Gerard Moreno",
           "Villarreal"
          ],
          [
           "Pau Torres",
           "Villarreal"
          ],
          [
           "Samuel Chukwueze",
           "Villarreal"
          ],
          [
           "Boulaye Dia",
           "Villarreal"
          ],
          [
           "Yeremi Pino",
           "Villarreal"
          ],
          [
           "Etienne Capoue",
           "Villarreal"
          ],
          [
           "Raúl Albiol",
           "Villarreal"
          ],
          [
           "Vicente Iborra",
           "Villarreal"
          ],
          [
           "Moi Gómez",
           "Villarreal"
          ],
          [
           "Gerónimo Rulli",
           "Villarreal"
          ],
          [
           "Mario",
           "Villarreal"
          ],
          [
           "Daniel Parejo",
           "Villarreal"
          ],
          [
           "Paco Alcácer",
           "Villarreal"
          ],
          [
           "Sergio Asenjo",
           "Villarreal"
          ],
          [
           "Alfonso",
           "Villarreal"
          ],
          [
           "Aissa Mandi",
           "Villarreal"
          ],
          [
           "Serge Aurier",
           "Villarreal"
          ],
          [
           "Rubén Peña",
           "Villarreal"
          ],
          [
           "Estupiñán",
           "Villarreal"
          ],
          [
           "Raba",
           "Villarreal"
          ],
          [
           "Juan Foyth",
           "Villarreal"
          ],
          [
           "Nicolas Jackson",
           "Villarreal"
          ]
         ],
         "hovertemplate": "team_title=%{customdata[1]}<br>xG=%{x}<br>xA=%{y}<br>player_name=%{customdata[0]}<extra></extra>",
         "legendgroup": "Villarreal",
         "marker": {
          "color": "#EF553B",
          "symbol": "circle"
         },
         "mode": "markers",
         "name": "Villarreal",
         "orientation": "v",
         "showlegend": true,
         "type": "scatter",
         "x": [
          5.610459968447685,
          2.5042966343462467,
          1.3058740366250277,
          0.2087385207414627,
          1.142191618680954,
          0.9403760842978954,
          0.6108408905565739,
          2.1693687699735165,
          1.4970721788704395,
          0.2482146229594946,
          0,
          0.3699275478720665,
          0.6047197841107845,
          0,
          0.12252931296825409,
          0.32383036613464355,
          0.5866594575345516,
          0,
          0.43189165741205215,
          0.5839957594871521,
          0.35774231515824795,
          0.21366973221302032,
          0.18695054203271866,
          0,
          0.011657859198749065,
          0
         ],
         "xaxis": "x",
         "y": [
          0.6181427836418152,
          0.7813064195215702,
          0.3740726374089718,
          0.4646448865532875,
          0.4596965052187443,
          0.735913835465908,
          0.6698139794170856,
          0.6819096356630325,
          1.4429431334137917,
          0.12787894904613495,
          0,
          0,
          1.3543215300887823,
          0,
          0.33109334111213684,
          2.8007886447012424,
          1.3110684677958488,
          0,
          0.360536627471447,
          0.02078583650290966,
          0.672159269452095,
          0.9443616271018982,
          0.6406229361891747,
          0.33710641227662563,
          0.9555840585380793,
          0
         ],
         "yaxis": "y"
        },
        {
         "customdata": [
          [
           "Lucas Boyé",
           "Elche"
          ],
          [
           "Lucas Pérez",
           "Elche"
          ],
          [
           "Darío Benedetto",
           "Elche"
          ],
          [
           "Enzo Roco",
           "Elche"
          ],
          [
           "Pere Milla",
           "Elche"
          ],
          [
           "Johan Mojica",
           "Elche"
          ],
          [
           "Antonio Barragán",
           "Elche"
          ],
          [
           "Diego González",
           "Elche"
          ],
          [
           "Kiko Casilla",
           "Elche"
          ],
          [
           "Pedro Bigas",
           "Elche"
          ],
          [
           "Pablo Piatti",
           "Elche"
          ],
          [
           "Omar Mascarell",
           "Elche"
          ],
          [
           "Gerard Gumbau",
           "Elche"
          ],
          [
           "Javier Pastore",
           "Elche"
          ],
          [
           "Guido Carrillo",
           "Elche"
          ],
          [
           "Fidel",
           "Elche"
          ],
          [
           "Edgar Badía",
           "Elche"
          ],
          [
           "Gonzalo Verdú",
           "Elche"
          ],
          [
           "Josema",
           "Elche"
          ],
          [
           "Josan",
           "Elche"
          ],
          [
           "Raúl Guti",
           "Elche"
          ],
          [
           "Tete Morente",
           "Elche"
          ],
          [
           "Iván Marcone",
           "Elche"
          ],
          [
           "Helibelton Palacios",
           "Elche"
          ]
         ],
         "hovertemplate": "team_title=%{customdata[1]}<br>xG=%{x}<br>xA=%{y}<br>player_name=%{customdata[0]}<extra></extra>",
         "legendgroup": "Elche",
         "marker": {
          "color": "#00cc96",
          "symbol": "circle"
         },
         "mode": "markers",
         "name": "Elche",
         "orientation": "v",
         "showlegend": true,
         "type": "scatter",
         "x": [
          1.9468066450208426,
          1.6307563185691833,
          2.6831291685812175,
          0.42230164632201195,
          1.3095774743705988,
          0.28145848773419857,
          0,
          0.07128964550793171,
          0,
          0.11885995790362358,
          0.02485460788011551,
          0.3121893145143986,
          0.04900894593447447,
          0.18158212956041098,
          0.8387268055230379,
          0.32772507704794407,
          0,
          0.12935427203774452,
          0,
          0.09681016393005848,
          0.3986665727570653,
          0.08035829663276672,
          0,
          0
         ],
         "xaxis": "x",
         "y": [
          0.6690943967550993,
          0.5834174044430256,
          0.4584951661527157,
          0.06428273767232895,
          0.02663328405469656,
          2.7944035828113556,
          0,
          0.06254317611455917,
          0.05090189725160599,
          0.019770873710513115,
          0.22292117774486542,
          0.12475602235645056,
          0.17981165274977684,
          0.5502486550249159,
          0.07042224705219269,
          1.761505028232932,
          0,
          0,
          0.08406448364257812,
          0.3437995407730341,
          0.3621785379946232,
          0.15386165864765644,
          0,
          0.036780236288905144
         ],
         "yaxis": "y"
        },
        {
         "customdata": [
          [
           "Morales",
           "Levante"
          ],
          [
           "Roger",
           "Levante"
          ],
          [
           "Enis Bardhi",
           "Levante"
          ],
          [
           "Shkodran Mustafi",
           "Levante"
          ],
          [
           "Rober",
           "Levante"
          ],
          [
           "José Campaña",
           "Levante"
          ],
          [
           "Gonzalo Melero",
           "Levante"
          ],
          [
           "Jorge De Frutos",
           "Levante"
          ],
          [
           "Coke",
           "Levante"
          ],
          [
           "Nemanja Radoja",
           "Levante"
          ],
          [
           "Roberto Soldado",
           "Levante"
          ],
          [
           "Rúben Vezo",
           "Levante"
          ],
          [
           "Óscar Duarte",
           "Levante"
          ],
          [
           "Pepelu",
           "Levante"
          ],
          [
           "Aitor Fernández",
           "Levante"
          ],
          [
           "Carlos Clerc",
           "Levante"
          ],
          [
           "Sergio Postigo",
           "Levante"
          ],
          [
           "Jorge Miramón",
           "Levante"
          ],
          [
           "Nikola Vukcevic",
           "Levante"
          ],
          [
           "Daniel Cárdenas",
           "Levante"
          ],
          [
           "Pablo Martínez",
           "Levante"
          ],
          [
           "Dani Gómez",
           "Levante"
          ],
          [
           "Son",
           "Levante"
          ],
          [
           "Mickaël Malsa",
           "Levante"
          ],
          [
           "Alejandro Cantero",
           "Levante"
          ],
          [
           "Enric Franquesa",
           "Levante"
          ]
         ],
         "hovertemplate": "team_title=%{customdata[1]}<br>xG=%{x}<br>xA=%{y}<br>player_name=%{customdata[0]}<extra></extra>",
         "legendgroup": "Levante",
         "marker": {
          "color": "#ab63fa",
          "symbol": "circle"
         },
         "mode": "markers",
         "name": "Levante",
         "orientation": "v",
         "showlegend": true,
         "type": "scatter",
         "x": [
          2.980026988312602,
          3.11389566026628,
          2.3219864889979362,
          0.039798909798264503,
          1.2629310116171837,
          0.34912882931530476,
          0.8031904809176922,
          2.1660102903842926,
          0,
          0,
          0.8308638148009777,
          0.15641280356794596,
          0.28863359056413174,
          0,
          0,
          0,
          0,
          0.015759196132421494,
          0.008431420661509037,
          0,
          0.3291207551956177,
          0.4889510478824377,
          0.09596008062362671,
          0.1251047383993864,
          1.167169027030468,
          0
         ],
         "xaxis": "x",
         "y": [
          0.6883301734924316,
          0.35639613680541515,
          0.7313197702169418,
          0,
          0,
          0.22064950037747622,
          0.5261601191014051,
          0.8000250030308962,
          0,
          0,
          0.08218808472156525,
          0.2757618688046932,
          0.5642538070678711,
          0.11940804496407509,
          0,
          0.5186860393732786,
          0,
          0.776455856859684,
          0.03893996961414814,
          0.017031632363796234,
          1.0021521747112274,
          0.2696873601526022,
          0.4075734382495284,
          0.7640290092676878,
          0,
          0
         ],
         "yaxis": "y"
        },
        {
         "customdata": [
          [
           "Enes Ünal",
           "Getafe"
          ],
          [
           "Sandro Ramírez",
           "Getafe"
          ],
          [
           "Stefan Mitrovic",
           "Getafe"
          ],
          [
           "Mathías Olivera",
           "Getafe"
          ],
          [
           "Jaime Mata",
           "Getafe"
          ],
          [
           "Jorge Cuenca",
           "Getafe"
          ],
          [
           "Nyom",
           "Getafe"
          ],
          [
           "Jakub Jankto",
           "Getafe"
          ],
          [
           "Damián Suárez",
           "Getafe"
          ],
          [
           "David Soria",
           "Getafe"
          ],
          [
           "Vitolo",
           "Getafe"
          ],
          [
           "Mauro Arambarri",
           "Getafe"
          ],
          [
           "Carles Aleñá",
           "Getafe"
          ],
          [
           "David Timor",
           "Getafe"
          ],
          [
           "Darío Poveda",
           "Getafe"
          ],
          [
           "Erick Cabaco",
           "Getafe"
          ],
          [
           "Nemanja Maksimovic",
           "Getafe"
          ],
          [
           "Djené Dakonam",
           "Getafe"
          ],
          [
           "Chema Rodríguez",
           "Getafe"
          ],
          [
           "Jonathan Silva",
           "Getafe"
          ],
          [
           "Marc Cucurella",
           "Getafe"
          ],
          [
           "Florentino Luís",
           "Getafe"
          ],
          [
           "Juan Iglesias",
           "Getafe"
          ],
          [
           "Koffi",
           "Getafe"
          ],
          [
           "José Macías",
           "Getafe"
          ]
         ],
         "hovertemplate": "team_title=%{customdata[1]}<br>xG=%{x}<br>xA=%{y}<br>player_name=%{customdata[0]}<extra></extra>",
         "legendgroup": "Getafe",
         "marker": {
          "color": "#FFA15A",
          "symbol": "circle"
         },
         "mode": "markers",
         "name": "Getafe",
         "orientation": "v",
         "showlegend": true,
         "type": "scatter",
         "x": [
          3.793788816779852,
          1.1727565107867122,
          0.12519854307174683,
          0.8400636501610279,
          0.5155740529298782,
          0.3331049527041614,
          0,
          0.17093148082494736,
          0.31622327491641045,
          0,
          0.020758043974637985,
          0.61300712171942,
          0.5308263432234526,
          0.23828588612377644,
          0.06815193220973015,
          0,
          0.6154979588463902,
          0.015950022265315056,
          0.023246223106980324,
          0.020008312538266182,
          0.1445540338754654,
          0,
          0.01146682444959879,
          0.020820647478103638,
          0.16972410678863525
         ],
         "xaxis": "x",
         "y": [
          0.2541447300463915,
          0.24627207219600677,
          0,
          0.48470588214695454,
          0.27218006178736687,
          0.09129663556814194,
          0.09581505879759789,
          0.10881895571947098,
          2.087237849831581,
          0,
          0.17019235342741013,
          0.5875904690474272,
          0.7501376261934638,
          0.015801863744854927,
          0.051717618480324745,
          0.5174301862716675,
          0.52384521253407,
          0.10507123544812202,
          0.023773614317178726,
          0.08532402291893959,
          0.0662049725651741,
          0.22857911698520184,
          0.05815823934972286,
          0.09862788021564484,
          0
         ],
         "yaxis": "y"
        },
        {
         "customdata": [
          [
           "Anthony Lozano",
           "Cadiz"
          ],
          [
           "Álvaro Negredo",
           "Cadiz"
          ],
          [
           "Álex Fernández",
           "Cadiz"
          ],
          [
           "Alfonso Espino",
           "Cadiz"
          ],
          [
           "Varazdat Haroyan",
           "Cadiz"
          ],
          [
           "Salvi Sánchez",
           "Cadiz"
          ],
          [
           "Cala",
           "Cadiz"
          ],
          [
           "Florin Andone",
           "Cadiz"
          ],
          [
           "Álvaro Jiménez",
           "Cadiz"
          ],
          [
           "Iván Alejo",
           "Cadiz"
          ],
          [
           "Carlos Akapo",
           "Cadiz"
          ],
          [
           "Isaac Carcelén",
           "Cadiz"
          ],
          [
           "Marcos Mauro",
           "Cadiz"
          ],
          [
           "Jens Jonsson",
           "Cadiz"
          ],
          [
           "Fali",
           "Cadiz"
          ],
          [
           "Alberto Perea",
           "Cadiz"
          ],
          [
           "Jeremías Ledesma",
           "Cadiz"
          ],
          [
           "Victor Chust",
           "Cadiz"
          ],
          [
           "Álvaro Bastida",
           "Cadiz"
          ],
          [
           "Tomás Alarcón",
           "Cadiz"
          ],
          [
           "Milutin Osmajic",
           "Cadiz"
          ],
          [
           "Iván Chapela",
           "Cadiz"
          ],
          [
           "Martín Calderón",
           "Cadiz"
          ],
          [
           "Santiago Arzamendia",
           "Cadiz"
          ],
          [
           "Pedro Benito",
           "Cadiz"
          ]
         ],
         "hovertemplate": "team_title=%{customdata[1]}<br>xG=%{x}<br>xA=%{y}<br>player_name=%{customdata[0]}<extra></extra>",
         "legendgroup": "Cadiz",
         "marker": {
          "color": "#19d3f3",
          "symbol": "circle"
         },
         "mode": "markers",
         "name": "Cadiz",
         "orientation": "v",
         "showlegend": true,
         "type": "scatter",
         "x": [
          2.95828272216022,
          2.6505609899759293,
          1.2895121444016695,
          1.0851149875670671,
          0.9659993350505829,
          1.7761272005736828,
          0.4712436478585005,
          0,
          0.10270923562347889,
          0,
          0,
          0.1432882072404027,
          0,
          0.21639603190124035,
          0.2769054099917412,
          0.9319878350943327,
          0,
          0.3148057349026203,
          0,
          0.9939487036317587,
          0.2929651364684105,
          0.06284066289663315,
          0.05356767773628235,
          0.022280778735876083,
          0
         ],
         "xaxis": "x",
         "y": [
          0.5385601744055748,
          0.13158709183335304,
          0.5537263657897711,
          1.559316486120224,
          0.1276495512574911,
          1.1321981400251389,
          0.4380274210125208,
          0.05974185839295387,
          0.06955190747976303,
          0,
          0.04390266537666321,
          0.33385694213211536,
          0,
          0.8483194876462221,
          0.741948127746582,
          0.6341159977018833,
          0.017480989918112755,
          0,
          0,
          0.7260901890695095,
          0,
          0.11866110190749168,
          0.01750924251973629,
          0,
          0
         ],
         "yaxis": "y"
        },
        {
         "customdata": [
          [
           "Hugo Duro",
           "Getafe,Valencia"
          ]
         ],
         "hovertemplate": "team_title=%{customdata[1]}<br>xG=%{x}<br>xA=%{y}<br>player_name=%{customdata[0]}<extra></extra>",
         "legendgroup": "Getafe,Valencia",
         "marker": {
          "color": "#FF6692",
          "symbol": "circle"
         },
         "mode": "markers",
         "name": "Getafe,Valencia",
         "orientation": "v",
         "showlegend": true,
         "type": "scatter",
         "x": [
          1.6628943532705307
         ],
         "xaxis": "x",
         "y": [
          0.25877517089247704
         ],
         "yaxis": "y"
        },
        {
         "customdata": [
          [
           "Luis Suárez",
           "Granada"
          ],
          [
           "Jorge Molina",
           "Granada"
          ],
          [
           "Germán Sánchez",
           "Granada"
          ],
          [
           "Rubén Rochina",
           "Granada"
          ],
          [
           "Montoro",
           "Granada"
          ],
          [
           "Darwin Machís",
           "Granada"
          ],
          [
           "Domingos Duarte",
           "Granada"
          ],
          [
           "Antonio Puertas",
           "Granada"
          ],
          [
           "Luis Milla",
           "Granada"
          ],
          [
           "Carlos Bacca",
           "Granada"
          ],
          [
           "Sergio Escudero",
           "Granada"
          ],
          [
           "Quini",
           "Granada"
          ],
          [
           "Aarón",
           "Granada"
          ],
          [
           "Maxime Gonalons",
           "Granada"
          ],
          [
           "Víctor Díaz",
           "Granada"
          ],
          [
           "Santiago Arias",
           "Granada"
          ],
          [
           "Yan Eteki",
           "Granada"
          ],
          [
           "Carlos Neva",
           "Granada"
          ],
          [
           "Monchu",
           "Granada"
          ],
          [
           "Alberto Soro",
           "Granada"
          ],
          [
           "Isma Ruiz",
           "Granada"
          ],
          [
           "Raúl Torrente",
           "Granada"
          ],
          [
           "Luis Abram",
           "Granada"
          ],
          [
           "Luís Maximiano",
           "Granada"
          ]
         ],
         "hovertemplate": "team_title=%{customdata[1]}<br>xG=%{x}<br>xA=%{y}<br>player_name=%{customdata[0]}<extra></extra>",
         "legendgroup": "Granada",
         "marker": {
          "color": "#B6E880",
          "symbol": "circle"
         },
         "mode": "markers",
         "name": "Granada",
         "orientation": "v",
         "showlegend": true,
         "type": "scatter",
         "x": [
          2.837364125996828,
          2.2226703502237797,
          1.190308567136526,
          0.6523359455168247,
          1.1574318073689938,
          0.41935319919139147,
          0.37660133838653564,
          0.2599089629948139,
          0.8673385046422482,
          0.5526032745838165,
          0.5060972645878792,
          0.07284154510125518,
          0,
          0.12224971875548363,
          0.09235254302620888,
          0.022774918004870415,
          0.012482758611440659,
          0.3691911334171891,
          0.3335781507194042,
          0.5114129930734634,
          0.03192799165844917,
          0.07823435217142105,
          0.08542268723249435,
          0
         ],
         "xaxis": "x",
         "y": [
          0.9516082750633359,
          0.3157810620032251,
          0.053209464997053146,
          0.9799666674807668,
          1.1480450667440891,
          0.6279294937849045,
          0,
          0,
          0.4677191823720932,
          0.7093067606911063,
          0.9462747052311897,
          0.20081869885325432,
          0,
          0.15276172570884228,
          0,
          0.05452434718608856,
          0,
          0.6221706569194794,
          0.7692417800426483,
          0.5399947613477707,
          0,
          0,
          0,
          0
         ],
         "yaxis": "y"
        },
        {
         "customdata": [
          [
           "Antoine Griezmann",
           "Atletico Madrid,Barcelona"
          ]
         ],
         "hovertemplate": "team_title=%{customdata[1]}<br>xG=%{x}<br>xA=%{y}<br>player_name=%{customdata[0]}<extra></extra>",
         "legendgroup": "Atletico Madrid,Barcelona",
         "marker": {
          "color": "#FF97FF",
          "symbol": "circle"
         },
         "mode": "markers",
         "name": "Atletico Madrid,Barcelona",
         "orientation": "v",
         "showlegend": true,
         "type": "scatter",
         "x": [
          3.4925139732658863
         ],
         "xaxis": "x",
         "y": [
          1.366342831403017
         ],
         "yaxis": "y"
        },
        {
         "customdata": [
          [
           "Iñaki Williams",
           "Athletic Club"
          ],
          [
           "Raúl García",
           "Athletic Club"
          ],
          [
           "Muniain",
           "Athletic Club"
          ],
          [
           "Iñigo Martínez",
           "Athletic Club"
          ],
          [
           "Dani Vivian",
           "Athletic Club"
          ],
          [
           "Dani García",
           "Athletic Club"
          ],
          [
           "Balenziaga",
           "Athletic Club"
          ],
          [
           "Íñigo Lekue",
           "Athletic Club"
          ],
          [
           "De Marcos",
           "Athletic Club"
          ],
          [
           "Yeray Álvarez",
           "Athletic Club"
          ],
          [
           "Mikel Vesga",
           "Athletic Club"
          ],
          [
           "Alex Berenguer",
           "Athletic Club"
          ],
          [
           "Asier Villalibre",
           "Athletic Club"
          ],
          [
           "Unai Simón",
           "Athletic Club"
          ],
          [
           "Unai Núñez",
           "Athletic Club"
          ],
          [
           "Oihan Sancet",
           "Athletic Club"
          ],
          [
           "Unai Vencedor",
           "Athletic Club"
          ],
          [
           "Jon Morcillo",
           "Athletic Club"
          ],
          [
           "Oier Zarraga",
           "Athletic Club"
          ],
          [
           "Nico Williams",
           "Athletic Club"
          ],
          [
           "Julen Agirrezabala",
           "Athletic Club"
          ],
          [
           "Nicolás Serrano",
           "Athletic Club"
          ],
          [
           "Alex Petxarromán",
           "Athletic Club"
          ]
         ],
         "hovertemplate": "team_title=%{customdata[1]}<br>xG=%{x}<br>xA=%{y}<br>player_name=%{customdata[0]}<extra></extra>",
         "legendgroup": "Athletic Club",
         "marker": {
          "color": "#FECB52",
          "symbol": "circle"
         },
         "mode": "markers",
         "name": "Athletic Club",
         "orientation": "v",
         "showlegend": true,
         "type": "scatter",
         "x": [
          4.757265094667673,
          3.0963573660701513,
          2.9053898975253105,
          1.2375660631805658,
          0.43931370973587036,
          0.2504752390086651,
          0.04958738014101982,
          0.16183999925851822,
          0.03788595646619797,
          0.11173494346439838,
          0.08360373601317406,
          2.9333866238594055,
          1.1233063638210297,
          0,
          0.09381690248847008,
          0.929145373404026,
          0.4494052864611149,
          0.4036964476108551,
          0.2079418869689107,
          1.2695265673100948,
          0,
          0.0682160034775734,
          0
         ],
         "xaxis": "x",
         "y": [
          2.8927159756422043,
          1.7428365275263786,
          3.775291256606579,
          0.13490578345954418,
          0,
          0.18023481220006943,
          0.07911055162549019,
          2.218310455791652,
          0.18904511630535126,
          0.08360772393643856,
          0.24451499432325363,
          1.1039512921124697,
          0.057263296097517014,
          0,
          0.0562017560005188,
          1.3828087598085403,
          0.08939263969659805,
          0,
          0.04626137763261795,
          0.5875047519803047,
          0,
          0.09602339565753937,
          0
         ],
         "yaxis": "y"
        },
        {
         "customdata": [
          [
           "Kike García",
           "Osasuna"
          ],
          [
           "David García",
           "Osasuna"
          ],
          [
           "Roberto Torres",
           "Osasuna"
          ],
          [
           "Ezequiel Ávila",
           "Osasuna"
          ],
          [
           "José Ángel",
           "Osasuna"
          ],
          [
           "Lucas Torró",
           "Osasuna"
          ],
          [
           "Manuel Sánchez",
           "Osasuna"
          ],
          [
           "Jon Moncayola",
           "Osasuna"
          ],
          [
           "Iñigo Pérez",
           "Osasuna"
          ],
          [
           "Javi Martínez",
           "Osasuna"
          ],
          [
           "Ante Budimir",
           "Osasuna"
          ],
          [
           "Robert Ibáñez",
           "Osasuna"
          ],
          [
           "Rubén García",
           "Osasuna"
          ],
          [
           "Javi Ontiveros",
           "Osasuna"
          ],
          [
           "Darko Brasanac",
           "Osasuna"
          ],
          [
           "Oier",
           "Osasuna"
          ],
          [
           "Kike Barja",
           "Osasuna"
          ],
          [
           "Unai García",
           "Osasuna"
          ],
          [
           "Nacho Vidal",
           "Osasuna"
          ],
          [
           "Juan Pérez",
           "Osasuna"
          ],
          [
           "Aridane Hernández",
           "Osasuna"
          ],
          [
           "Sergio Herrera",
           "Osasuna"
          ],
          [
           "Juan Cruz",
           "Osasuna"
          ],
          [
           "Jesús Areso",
           "Osasuna"
          ],
          [
           "Barbero",
           "Osasuna"
          ],
          [
           "Jaume Grau",
           "Osasuna"
          ]
         ],
         "hovertemplate": "team_title=%{customdata[1]}<br>xG=%{x}<br>xA=%{y}<br>player_name=%{customdata[0]}<extra></extra>",
         "legendgroup": "Osasuna",
         "marker": {
          "color": "#636efa",
          "symbol": "circle"
         },
         "mode": "markers",
         "name": "Osasuna",
         "orientation": "v",
         "showlegend": true,
         "type": "scatter",
         "x": [
          2.914273137226701,
          0.4473356092348695,
          1.7918953988701105,
          2.0781273655593395,
          0.07887374330312014,
          0.7939040213823318,
          0.3863876685500145,
          0.9573483187705278,
          0.14309345185756683,
          0.6564497379586101,
          0,
          0.19861535727977753,
          1.6055833334103227,
          0.07226009666919708,
          0.7678942903876305,
          0.9146275036036968,
          0.10679102037101984,
          0.206891268491745,
          0.6512148212641478,
          0,
          0.09942694194614887,
          0,
          0.07712709158658981,
          0,
          0,
          0
         ],
         "xaxis": "x",
         "y": [
          0.5593069456517696,
          0.04121311381459236,
          2.202068604528904,
          0.6674461551010609,
          0.44014909863471985,
          0.04615282639861107,
          1.252507098019123,
          0.1616380074992776,
          0.5336658954620361,
          0.19830571860074997,
          0,
          0.22793086431920528,
          0.6183880055323243,
          0,
          1.0955919465050101,
          0.14899550005793571,
          0.396462082862854,
          0.0159368347376585,
          0.7802781471982598,
          0,
          0.03465668112039566,
          0.01614377275109291,
          0.010845336131751537,
          0.04844018816947937,
          0,
          0
         ],
         "yaxis": "y"
        },
        {
         "customdata": [
          [
           "Iddrisu Baba",
           "Mallorca"
          ],
          [
           "Dani Rodríguez",
           "Mallorca"
          ],
          [
           "Fernando Niño",
           "Mallorca"
          ],
          [
           "Pablo Maffeo",
           "Mallorca"
          ],
          [
           "Salva Sevilla",
           "Mallorca"
          ],
          [
           "Ángel",
           "Mallorca"
          ],
          [
           "Lee Kang-In",
           "Mallorca"
          ],
          [
           "Abdón Prats",
           "Mallorca"
          ],
          [
           "Brian Oliván",
           "Mallorca"
          ],
          [
           "Antonio Sánchez",
           "Mallorca"
          ],
          [
           "Amath Diedhiou",
           "Mallorca"
          ],
          [
           "Jaume Costa",
           "Mallorca"
          ],
          [
           "Raíllo",
           "Mallorca"
          ],
          [
           "Jordi Mboula",
           "Mallorca"
          ],
          [
           "Manolo Reina",
           "Mallorca"
          ],
          [
           "Joan Sastre",
           "Mallorca"
          ],
          [
           "Martin Valjent",
           "Mallorca"
          ],
          [
           "Aleix Febas",
           "Mallorca"
          ],
          [
           "Lago Junior",
           "Mallorca"
          ],
          [
           "Aleksander Sedlar",
           "Mallorca"
          ],
          [
           "Takefusa Kubo",
           "Mallorca"
          ],
          [
           "Rodrigo Battaglia",
           "Mallorca"
          ],
          [
           "Matthew Hoppe",
           "Mallorca"
          ],
          [
           "Inigo Ruiz de Galarreta",
           "Mallorca"
          ],
          [
           "Dominik Greif",
           "Mallorca"
          ],
          [
           "Franco Russo",
           "Mallorca"
          ],
          [
           "Josep Gayá",
           "Mallorca"
          ]
         ],
         "hovertemplate": "team_title=%{customdata[1]}<br>xG=%{x}<br>xA=%{y}<br>player_name=%{customdata[0]}<extra></extra>",
         "legendgroup": "Mallorca",
         "marker": {
          "color": "#EF553B",
          "symbol": "circle"
         },
         "mode": "markers",
         "name": "Mallorca",
         "orientation": "v",
         "showlegend": true,
         "type": "scatter",
         "x": [
          1.6882518697530031,
          1.9058121293783188,
          1.8560945987701416,
          0.35100282356143,
          1.0887416936457157,
          2.890623092651367,
          0.6610268726944923,
          0.861373346298933,
          0.7294534156098962,
          1.2408554907888174,
          0.3454691506922245,
          0.020615534856915474,
          0.009175194427371025,
          0.24532028287649155,
          0,
          0.045319363474845886,
          0.2571229599416256,
          0,
          0.6457212064415216,
          0,
          0.31961340829730034,
          0.01481426227837801,
          0.04471639543771744,
          0.3417866453528404,
          0,
          0.21287550404667854,
          0
         ],
         "xaxis": "x",
         "y": [
          0.16411243565380573,
          1.7719208225607872,
          0.22011010628193617,
          0.5251485724002123,
          1.1331471763551235,
          0.5240187272429466,
          1.5890513453632593,
          0.29757591150701046,
          0.34807906672358513,
          0.17289710603654385,
          0.6285609714686871,
          0.03473890572786331,
          0,
          0.09725069999694824,
          0,
          0,
          0.3944646678864956,
          0.09217818081378937,
          0,
          0.024102456867694855,
          0.8876059390604496,
          0,
          0.10029111988842487,
          0.2767424052581191,
          0,
          0.5759464502334595,
          0
         ],
         "yaxis": "y"
        },
        {
         "customdata": [
          [
           "Dimitri Foulquier",
           "Granada,Valencia"
          ]
         ],
         "hovertemplate": "team_title=%{customdata[1]}<br>xG=%{x}<br>xA=%{y}<br>player_name=%{customdata[0]}<extra></extra>",
         "legendgroup": "Granada,Valencia",
         "marker": {
          "color": "#00cc96",
          "symbol": "circle"
         },
         "mode": "markers",
         "name": "Granada,Valencia",
         "orientation": "v",
         "showlegend": true,
         "type": "scatter",
         "x": [
          0.20204742066562176
         ],
         "xaxis": "x",
         "y": [
          0.96183773688972
         ],
         "yaxis": "y"
        },
        {
         "customdata": [
          [
           "Rubén Sobrino",
           "Cadiz,Valencia"
          ]
         ],
         "hovertemplate": "team_title=%{customdata[1]}<br>xG=%{x}<br>xA=%{y}<br>player_name=%{customdata[0]}<extra></extra>",
         "legendgroup": "Cadiz,Valencia",
         "marker": {
          "color": "#ab63fa",
          "symbol": "circle"
         },
         "mode": "markers",
         "name": "Cadiz,Valencia",
         "orientation": "v",
         "showlegend": true,
         "type": "scatter",
         "x": [
          1.4918272867798805
         ],
         "xaxis": "x",
         "y": [
          0.6933822445571423
         ],
         "yaxis": "y"
        },
        {
         "customdata": [
          [
           "Loren Morón",
           "Espanyol,Real Betis"
          ]
         ],
         "hovertemplate": "team_title=%{customdata[1]}<br>xG=%{x}<br>xA=%{y}<br>player_name=%{customdata[0]}<extra></extra>",
         "legendgroup": "Espanyol,Real Betis",
         "marker": {
          "color": "#FFA15A",
          "symbol": "circle"
         },
         "mode": "markers",
         "name": "Espanyol,Real Betis",
         "orientation": "v",
         "showlegend": true,
         "type": "scatter",
         "x": [
          0.6235999651253223
         ],
         "xaxis": "x",
         "y": [
          0.020162329077720642
         ],
         "yaxis": "y"
        }
       ],
       "layout": {
        "legend": {
         "title": {
          "text": "team_title"
         },
         "tracegroupgap": 0
        },
        "margin": {
         "t": 60
        },
        "template": {
         "data": {
          "bar": [
           {
            "error_x": {
             "color": "#2a3f5f"
            },
            "error_y": {
             "color": "#2a3f5f"
            },
            "marker": {
             "line": {
              "color": "#E5ECF6",
              "width": 0.5
             }
            },
            "type": "bar"
           }
          ],
          "barpolar": [
           {
            "marker": {
             "line": {
              "color": "#E5ECF6",
              "width": 0.5
             }
            },
            "type": "barpolar"
           }
          ],
          "carpet": [
           {
            "aaxis": {
             "endlinecolor": "#2a3f5f",
             "gridcolor": "white",
             "linecolor": "white",
             "minorgridcolor": "white",
             "startlinecolor": "#2a3f5f"
            },
            "baxis": {
             "endlinecolor": "#2a3f5f",
             "gridcolor": "white",
             "linecolor": "white",
             "minorgridcolor": "white",
             "startlinecolor": "#2a3f5f"
            },
            "type": "carpet"
           }
          ],
          "choropleth": [
           {
            "colorbar": {
             "outlinewidth": 0,
             "ticks": ""
            },
            "type": "choropleth"
           }
          ],
          "contour": [
           {
            "colorbar": {
             "outlinewidth": 0,
             "ticks": ""
            },
            "colorscale": [
             [
              0,
              "#0d0887"
             ],
             [
              0.1111111111111111,
              "#46039f"
             ],
             [
              0.2222222222222222,
              "#7201a8"
             ],
             [
              0.3333333333333333,
              "#9c179e"
             ],
             [
              0.4444444444444444,
              "#bd3786"
             ],
             [
              0.5555555555555556,
              "#d8576b"
             ],
             [
              0.6666666666666666,
              "#ed7953"
             ],
             [
              0.7777777777777778,
              "#fb9f3a"
             ],
             [
              0.8888888888888888,
              "#fdca26"
             ],
             [
              1,
              "#f0f921"
             ]
            ],
            "type": "contour"
           }
          ],
          "contourcarpet": [
           {
            "colorbar": {
             "outlinewidth": 0,
             "ticks": ""
            },
            "type": "contourcarpet"
           }
          ],
          "heatmap": [
           {
            "colorbar": {
             "outlinewidth": 0,
             "ticks": ""
            },
            "colorscale": [
             [
              0,
              "#0d0887"
             ],
             [
              0.1111111111111111,
              "#46039f"
             ],
             [
              0.2222222222222222,
              "#7201a8"
             ],
             [
              0.3333333333333333,
              "#9c179e"
             ],
             [
              0.4444444444444444,
              "#bd3786"
             ],
             [
              0.5555555555555556,
              "#d8576b"
             ],
             [
              0.6666666666666666,
              "#ed7953"
             ],
             [
              0.7777777777777778,
              "#fb9f3a"
             ],
             [
              0.8888888888888888,
              "#fdca26"
             ],
             [
              1,
              "#f0f921"
             ]
            ],
            "type": "heatmap"
           }
          ],
          "heatmapgl": [
           {
            "colorbar": {
             "outlinewidth": 0,
             "ticks": ""
            },
            "colorscale": [
             [
              0,
              "#0d0887"
             ],
             [
              0.1111111111111111,
              "#46039f"
             ],
             [
              0.2222222222222222,
              "#7201a8"
             ],
             [
              0.3333333333333333,
              "#9c179e"
             ],
             [
              0.4444444444444444,
              "#bd3786"
             ],
             [
              0.5555555555555556,
              "#d8576b"
             ],
             [
              0.6666666666666666,
              "#ed7953"
             ],
             [
              0.7777777777777778,
              "#fb9f3a"
             ],
             [
              0.8888888888888888,
              "#fdca26"
             ],
             [
              1,
              "#f0f921"
             ]
            ],
            "type": "heatmapgl"
           }
          ],
          "histogram": [
           {
            "marker": {
             "colorbar": {
              "outlinewidth": 0,
              "ticks": ""
             }
            },
            "type": "histogram"
           }
          ],
          "histogram2d": [
           {
            "colorbar": {
             "outlinewidth": 0,
             "ticks": ""
            },
            "colorscale": [
             [
              0,
              "#0d0887"
             ],
             [
              0.1111111111111111,
              "#46039f"
             ],
             [
              0.2222222222222222,
              "#7201a8"
             ],
             [
              0.3333333333333333,
              "#9c179e"
             ],
             [
              0.4444444444444444,
              "#bd3786"
             ],
             [
              0.5555555555555556,
              "#d8576b"
             ],
             [
              0.6666666666666666,
              "#ed7953"
             ],
             [
              0.7777777777777778,
              "#fb9f3a"
             ],
             [
              0.8888888888888888,
              "#fdca26"
             ],
             [
              1,
              "#f0f921"
             ]
            ],
            "type": "histogram2d"
           }
          ],
          "histogram2dcontour": [
           {
            "colorbar": {
             "outlinewidth": 0,
             "ticks": ""
            },
            "colorscale": [
             [
              0,
              "#0d0887"
             ],
             [
              0.1111111111111111,
              "#46039f"
             ],
             [
              0.2222222222222222,
              "#7201a8"
             ],
             [
              0.3333333333333333,
              "#9c179e"
             ],
             [
              0.4444444444444444,
              "#bd3786"
             ],
             [
              0.5555555555555556,
              "#d8576b"
             ],
             [
              0.6666666666666666,
              "#ed7953"
             ],
             [
              0.7777777777777778,
              "#fb9f3a"
             ],
             [
              0.8888888888888888,
              "#fdca26"
             ],
             [
              1,
              "#f0f921"
             ]
            ],
            "type": "histogram2dcontour"
           }
          ],
          "mesh3d": [
           {
            "colorbar": {
             "outlinewidth": 0,
             "ticks": ""
            },
            "type": "mesh3d"
           }
          ],
          "parcoords": [
           {
            "line": {
             "colorbar": {
              "outlinewidth": 0,
              "ticks": ""
             }
            },
            "type": "parcoords"
           }
          ],
          "pie": [
           {
            "automargin": true,
            "type": "pie"
           }
          ],
          "scatter": [
           {
            "marker": {
             "colorbar": {
              "outlinewidth": 0,
              "ticks": ""
             }
            },
            "type": "scatter"
           }
          ],
          "scatter3d": [
           {
            "line": {
             "colorbar": {
              "outlinewidth": 0,
              "ticks": ""
             }
            },
            "marker": {
             "colorbar": {
              "outlinewidth": 0,
              "ticks": ""
             }
            },
            "type": "scatter3d"
           }
          ],
          "scattercarpet": [
           {
            "marker": {
             "colorbar": {
              "outlinewidth": 0,
              "ticks": ""
             }
            },
            "type": "scattercarpet"
           }
          ],
          "scattergeo": [
           {
            "marker": {
             "colorbar": {
              "outlinewidth": 0,
              "ticks": ""
             }
            },
            "type": "scattergeo"
           }
          ],
          "scattergl": [
           {
            "marker": {
             "colorbar": {
              "outlinewidth": 0,
              "ticks": ""
             }
            },
            "type": "scattergl"
           }
          ],
          "scattermapbox": [
           {
            "marker": {
             "colorbar": {
              "outlinewidth": 0,
              "ticks": ""
             }
            },
            "type": "scattermapbox"
           }
          ],
          "scatterpolar": [
           {
            "marker": {
             "colorbar": {
              "outlinewidth": 0,
              "ticks": ""
             }
            },
            "type": "scatterpolar"
           }
          ],
          "scatterpolargl": [
           {
            "marker": {
             "colorbar": {
              "outlinewidth": 0,
              "ticks": ""
             }
            },
            "type": "scatterpolargl"
           }
          ],
          "scatterternary": [
           {
            "marker": {
             "colorbar": {
              "outlinewidth": 0,
              "ticks": ""
             }
            },
            "type": "scatterternary"
           }
          ],
          "surface": [
           {
            "colorbar": {
             "outlinewidth": 0,
             "ticks": ""
            },
            "colorscale": [
             [
              0,
              "#0d0887"
             ],
             [
              0.1111111111111111,
              "#46039f"
             ],
             [
              0.2222222222222222,
              "#7201a8"
             ],
             [
              0.3333333333333333,
              "#9c179e"
             ],
             [
              0.4444444444444444,
              "#bd3786"
             ],
             [
              0.5555555555555556,
              "#d8576b"
             ],
             [
              0.6666666666666666,
              "#ed7953"
             ],
             [
              0.7777777777777778,
              "#fb9f3a"
             ],
             [
              0.8888888888888888,
              "#fdca26"
             ],
             [
              1,
              "#f0f921"
             ]
            ],
            "type": "surface"
           }
          ],
          "table": [
           {
            "cells": {
             "fill": {
              "color": "#EBF0F8"
             },
             "line": {
              "color": "white"
             }
            },
            "header": {
             "fill": {
              "color": "#C8D4E3"
             },
             "line": {
              "color": "white"
             }
            },
            "type": "table"
           }
          ]
         },
         "layout": {
          "annotationdefaults": {
           "arrowcolor": "#2a3f5f",
           "arrowhead": 0,
           "arrowwidth": 1
          },
          "autotypenumbers": "strict",
          "coloraxis": {
           "colorbar": {
            "outlinewidth": 0,
            "ticks": ""
           }
          },
          "colorscale": {
           "diverging": [
            [
             0,
             "#8e0152"
            ],
            [
             0.1,
             "#c51b7d"
            ],
            [
             0.2,
             "#de77ae"
            ],
            [
             0.3,
             "#f1b6da"
            ],
            [
             0.4,
             "#fde0ef"
            ],
            [
             0.5,
             "#f7f7f7"
            ],
            [
             0.6,
             "#e6f5d0"
            ],
            [
             0.7,
             "#b8e186"
            ],
            [
             0.8,
             "#7fbc41"
            ],
            [
             0.9,
             "#4d9221"
            ],
            [
             1,
             "#276419"
            ]
           ],
           "sequential": [
            [
             0,
             "#0d0887"
            ],
            [
             0.1111111111111111,
             "#46039f"
            ],
            [
             0.2222222222222222,
             "#7201a8"
            ],
            [
             0.3333333333333333,
             "#9c179e"
            ],
            [
             0.4444444444444444,
             "#bd3786"
            ],
            [
             0.5555555555555556,
             "#d8576b"
            ],
            [
             0.6666666666666666,
             "#ed7953"
            ],
            [
             0.7777777777777778,
             "#fb9f3a"
            ],
            [
             0.8888888888888888,
             "#fdca26"
            ],
            [
             1,
             "#f0f921"
            ]
           ],
           "sequentialminus": [
            [
             0,
             "#0d0887"
            ],
            [
             0.1111111111111111,
             "#46039f"
            ],
            [
             0.2222222222222222,
             "#7201a8"
            ],
            [
             0.3333333333333333,
             "#9c179e"
            ],
            [
             0.4444444444444444,
             "#bd3786"
            ],
            [
             0.5555555555555556,
             "#d8576b"
            ],
            [
             0.6666666666666666,
             "#ed7953"
            ],
            [
             0.7777777777777778,
             "#fb9f3a"
            ],
            [
             0.8888888888888888,
             "#fdca26"
            ],
            [
             1,
             "#f0f921"
            ]
           ]
          },
          "colorway": [
           "#636efa",
           "#EF553B",
           "#00cc96",
           "#ab63fa",
           "#FFA15A",
           "#19d3f3",
           "#FF6692",
           "#B6E880",
           "#FF97FF",
           "#FECB52"
          ],
          "font": {
           "color": "#2a3f5f"
          },
          "geo": {
           "bgcolor": "white",
           "lakecolor": "white",
           "landcolor": "#E5ECF6",
           "showlakes": true,
           "showland": true,
           "subunitcolor": "white"
          },
          "hoverlabel": {
           "align": "left"
          },
          "hovermode": "closest",
          "mapbox": {
           "style": "light"
          },
          "paper_bgcolor": "white",
          "plot_bgcolor": "#E5ECF6",
          "polar": {
           "angularaxis": {
            "gridcolor": "white",
            "linecolor": "white",
            "ticks": ""
           },
           "bgcolor": "#E5ECF6",
           "radialaxis": {
            "gridcolor": "white",
            "linecolor": "white",
            "ticks": ""
           }
          },
          "scene": {
           "xaxis": {
            "backgroundcolor": "#E5ECF6",
            "gridcolor": "white",
            "gridwidth": 2,
            "linecolor": "white",
            "showbackground": true,
            "ticks": "",
            "zerolinecolor": "white"
           },
           "yaxis": {
            "backgroundcolor": "#E5ECF6",
            "gridcolor": "white",
            "gridwidth": 2,
            "linecolor": "white",
            "showbackground": true,
            "ticks": "",
            "zerolinecolor": "white"
           },
           "zaxis": {
            "backgroundcolor": "#E5ECF6",
            "gridcolor": "white",
            "gridwidth": 2,
            "linecolor": "white",
            "showbackground": true,
            "ticks": "",
            "zerolinecolor": "white"
           }
          },
          "shapedefaults": {
           "line": {
            "color": "#2a3f5f"
           }
          },
          "ternary": {
           "aaxis": {
            "gridcolor": "white",
            "linecolor": "white",
            "ticks": ""
           },
           "baxis": {
            "gridcolor": "white",
            "linecolor": "white",
            "ticks": ""
           },
           "bgcolor": "#E5ECF6",
           "caxis": {
            "gridcolor": "white",
            "linecolor": "white",
            "ticks": ""
           }
          },
          "title": {
           "x": 0.05
          },
          "xaxis": {
           "automargin": true,
           "gridcolor": "white",
           "linecolor": "white",
           "ticks": "",
           "title": {
            "standoff": 15
           },
           "zerolinecolor": "white",
           "zerolinewidth": 2
          },
          "yaxis": {
           "automargin": true,
           "gridcolor": "white",
           "linecolor": "white",
           "ticks": "",
           "title": {
            "standoff": 15
           },
           "zerolinecolor": "white",
           "zerolinewidth": 2
          }
         }
        },
        "xaxis": {
         "anchor": "y",
         "domain": [
          0,
          1
         ],
         "title": {
          "text": "xG"
         }
        },
        "yaxis": {
         "anchor": "x",
         "domain": [
          0,
          1
         ],
         "title": {
          "text": "xA"
         }
        }
       }
      }
     },
     "metadata": {},
     "output_type": "display_data"
    }
   ],
   "source": [
    "px.scatter(df_all_players,x='xG',y='xA',hover_data=['player_name','team_title'],color='team_title')"
   ]
  },
  {
   "cell_type": "code",
   "execution_count": 66,
   "metadata": {},
   "outputs": [],
   "source": [
    "team_goals=df_all_players.groupby('team_title')['goals'].transform(lambda x: x.sum())\n",
    "df_all_players['team_goals']=team_goals\n",
    "df_all_players['goal_weight_team']=df_all_players['goals']/df_all_players['team_goals']"
   ]
  },
  {
   "cell_type": "code",
   "execution_count": 71,
   "metadata": {},
   "outputs": [
    {
     "data": {
      "text/html": [
       "<div>\n",
       "<style scoped>\n",
       "    .dataframe tbody tr th:only-of-type {\n",
       "        vertical-align: middle;\n",
       "    }\n",
       "\n",
       "    .dataframe tbody tr th {\n",
       "        vertical-align: top;\n",
       "    }\n",
       "\n",
       "    .dataframe thead th {\n",
       "        text-align: right;\n",
       "    }\n",
       "</style>\n",
       "<table border=\"1\" class=\"dataframe\">\n",
       "  <thead>\n",
       "    <tr style=\"text-align: right;\">\n",
       "      <th></th>\n",
       "      <th>player_name</th>\n",
       "      <th>team_title</th>\n",
       "      <th>goals</th>\n",
       "      <th>team_goals</th>\n",
       "      <th>goal_weight_team</th>\n",
       "    </tr>\n",
       "  </thead>\n",
       "  <tbody>\n",
       "    <tr>\n",
       "      <th>26</th>\n",
       "      <td>Antoine Griezmann</td>\n",
       "      <td>Atletico Madrid,Barcelona</td>\n",
       "      <td>3.0</td>\n",
       "      <td>3.0</td>\n",
       "      <td>1.000000</td>\n",
       "    </tr>\n",
       "    <tr>\n",
       "      <th>23</th>\n",
       "      <td>Hugo Duro</td>\n",
       "      <td>Getafe,Valencia</td>\n",
       "      <td>4.0</td>\n",
       "      <td>4.0</td>\n",
       "      <td>1.000000</td>\n",
       "    </tr>\n",
       "    <tr>\n",
       "      <th>4</th>\n",
       "      <td>Joselu</td>\n",
       "      <td>Alaves</td>\n",
       "      <td>7.0</td>\n",
       "      <td>11.0</td>\n",
       "      <td>0.636364</td>\n",
       "    </tr>\n",
       "    <tr>\n",
       "      <th>6</th>\n",
       "      <td>Raúl de Tomás</td>\n",
       "      <td>Espanyol</td>\n",
       "      <td>7.0</td>\n",
       "      <td>15.0</td>\n",
       "      <td>0.466667</td>\n",
       "    </tr>\n",
       "    <tr>\n",
       "      <th>21</th>\n",
       "      <td>Enes Ünal</td>\n",
       "      <td>Getafe</td>\n",
       "      <td>4.0</td>\n",
       "      <td>10.0</td>\n",
       "      <td>0.400000</td>\n",
       "    </tr>\n",
       "    <tr>\n",
       "      <th>8</th>\n",
       "      <td>Iago Aspas</td>\n",
       "      <td>Celta Vigo</td>\n",
       "      <td>6.0</td>\n",
       "      <td>16.0</td>\n",
       "      <td>0.375000</td>\n",
       "    </tr>\n",
       "    <tr>\n",
       "      <th>17</th>\n",
       "      <td>Lucas Boyé</td>\n",
       "      <td>Elche</td>\n",
       "      <td>4.0</td>\n",
       "      <td>11.0</td>\n",
       "      <td>0.363636</td>\n",
       "    </tr>\n",
       "    <tr>\n",
       "      <th>1</th>\n",
       "      <td>Juanmi</td>\n",
       "      <td>Real Betis</td>\n",
       "      <td>9.0</td>\n",
       "      <td>25.0</td>\n",
       "      <td>0.360000</td>\n",
       "    </tr>\n",
       "    <tr>\n",
       "      <th>3</th>\n",
       "      <td>Memphis Depay</td>\n",
       "      <td>Barcelona</td>\n",
       "      <td>8.0</td>\n",
       "      <td>23.0</td>\n",
       "      <td>0.347826</td>\n",
       "    </tr>\n",
       "    <tr>\n",
       "      <th>5</th>\n",
       "      <td>Luis Suárez</td>\n",
       "      <td>Atletico Madrid</td>\n",
       "      <td>7.0</td>\n",
       "      <td>21.0</td>\n",
       "      <td>0.333333</td>\n",
       "    </tr>\n",
       "    <tr>\n",
       "      <th>22</th>\n",
       "      <td>Anthony Lozano</td>\n",
       "      <td>Cadiz</td>\n",
       "      <td>4.0</td>\n",
       "      <td>12.0</td>\n",
       "      <td>0.333333</td>\n",
       "    </tr>\n",
       "    <tr>\n",
       "      <th>0</th>\n",
       "      <td>Karim Benzema</td>\n",
       "      <td>Real Madrid</td>\n",
       "      <td>11.0</td>\n",
       "      <td>34.0</td>\n",
       "      <td>0.323529</td>\n",
       "    </tr>\n",
       "    <tr>\n",
       "      <th>7</th>\n",
       "      <td>Mikel Oyarzabal</td>\n",
       "      <td>Real Sociedad</td>\n",
       "      <td>6.0</td>\n",
       "      <td>19.0</td>\n",
       "      <td>0.315789</td>\n",
       "    </tr>\n",
       "    <tr>\n",
       "      <th>15</th>\n",
       "      <td>Arnaut Danjuma Groeneveld</td>\n",
       "      <td>Villarreal</td>\n",
       "      <td>5.0</td>\n",
       "      <td>16.0</td>\n",
       "      <td>0.312500</td>\n",
       "    </tr>\n",
       "    <tr>\n",
       "      <th>12</th>\n",
       "      <td>Carlos Soler</td>\n",
       "      <td>Valencia</td>\n",
       "      <td>5.0</td>\n",
       "      <td>16.0</td>\n",
       "      <td>0.312500</td>\n",
       "    </tr>\n",
       "    <tr>\n",
       "      <th>11</th>\n",
       "      <td>Santi Mina</td>\n",
       "      <td>Celta Vigo</td>\n",
       "      <td>5.0</td>\n",
       "      <td>16.0</td>\n",
       "      <td>0.312500</td>\n",
       "    </tr>\n",
       "    <tr>\n",
       "      <th>19</th>\n",
       "      <td>Morales</td>\n",
       "      <td>Levante</td>\n",
       "      <td>4.0</td>\n",
       "      <td>13.0</td>\n",
       "      <td>0.307692</td>\n",
       "    </tr>\n",
       "    <tr>\n",
       "      <th>24</th>\n",
       "      <td>Luis Suárez</td>\n",
       "      <td>Granada</td>\n",
       "      <td>4.0</td>\n",
       "      <td>14.0</td>\n",
       "      <td>0.285714</td>\n",
       "    </tr>\n",
       "    <tr>\n",
       "      <th>28</th>\n",
       "      <td>Iñaki Williams</td>\n",
       "      <td>Athletic Club</td>\n",
       "      <td>3.0</td>\n",
       "      <td>11.0</td>\n",
       "      <td>0.272727</td>\n",
       "    </tr>\n",
       "    <tr>\n",
       "      <th>29</th>\n",
       "      <td>Raúl García</td>\n",
       "      <td>Athletic Club</td>\n",
       "      <td>3.0</td>\n",
       "      <td>11.0</td>\n",
       "      <td>0.272727</td>\n",
       "    </tr>\n",
       "  </tbody>\n",
       "</table>\n",
       "</div>"
      ],
      "text/plain": [
       "                  player_name                 team_title  goals  team_goals  \\\n",
       "26          Antoine Griezmann  Atletico Madrid,Barcelona    3.0         3.0   \n",
       "23                  Hugo Duro            Getafe,Valencia    4.0         4.0   \n",
       "4                      Joselu                     Alaves    7.0        11.0   \n",
       "6               Raúl de Tomás                   Espanyol    7.0        15.0   \n",
       "21                  Enes Ünal                     Getafe    4.0        10.0   \n",
       "8                  Iago Aspas                 Celta Vigo    6.0        16.0   \n",
       "17                 Lucas Boyé                      Elche    4.0        11.0   \n",
       "1                      Juanmi                 Real Betis    9.0        25.0   \n",
       "3               Memphis Depay                  Barcelona    8.0        23.0   \n",
       "5                 Luis Suárez            Atletico Madrid    7.0        21.0   \n",
       "22             Anthony Lozano                      Cadiz    4.0        12.0   \n",
       "0               Karim Benzema                Real Madrid   11.0        34.0   \n",
       "7             Mikel Oyarzabal              Real Sociedad    6.0        19.0   \n",
       "15  Arnaut Danjuma Groeneveld                 Villarreal    5.0        16.0   \n",
       "12               Carlos Soler                   Valencia    5.0        16.0   \n",
       "11                 Santi Mina                 Celta Vigo    5.0        16.0   \n",
       "19                    Morales                    Levante    4.0        13.0   \n",
       "24                Luis Suárez                    Granada    4.0        14.0   \n",
       "28             Iñaki Williams              Athletic Club    3.0        11.0   \n",
       "29                Raúl García              Athletic Club    3.0        11.0   \n",
       "\n",
       "    goal_weight_team  \n",
       "26          1.000000  \n",
       "23          1.000000  \n",
       "4           0.636364  \n",
       "6           0.466667  \n",
       "21          0.400000  \n",
       "8           0.375000  \n",
       "17          0.363636  \n",
       "1           0.360000  \n",
       "3           0.347826  \n",
       "5           0.333333  \n",
       "22          0.333333  \n",
       "0           0.323529  \n",
       "7           0.315789  \n",
       "15          0.312500  \n",
       "12          0.312500  \n",
       "11          0.312500  \n",
       "19          0.307692  \n",
       "24          0.285714  \n",
       "28          0.272727  \n",
       "29          0.272727  "
      ]
     },
     "execution_count": 71,
     "metadata": {},
     "output_type": "execute_result"
    }
   ],
   "source": [
    "df_all_players[['player_name','team_title','goals','team_goals','goal_weight_team']].sort_values(by='goal_weight_team',ascending=False).head(20)"
   ]
  },
  {
   "cell_type": "code",
   "execution_count": 73,
   "metadata": {},
   "outputs": [
    {
     "data": {
      "application/vnd.plotly.v1+json": {
       "config": {
        "plotlyServerURL": "https://plot.ly"
       },
       "data": [
        {
         "customdata": [
          [
           "Karim Benzema",
           "Real Madrid"
          ],
          [
           "Vinícius Júnior",
           "Real Madrid"
          ],
          [
           "Marco Asensio",
           "Real Madrid"
          ],
          [
           "Nacho",
           "Real Madrid"
          ],
          [
           "David Alaba",
           "Real Madrid"
          ],
          [
           "Gareth Bale",
           "Real Madrid"
          ],
          [
           "Lucas Vázquez",
           "Real Madrid"
          ],
          [
           "Isco",
           "Real Madrid"
          ],
          [
           "Daniel Carvajal",
           "Real Madrid"
          ],
          [
           "Toni Kroos",
           "Real Madrid"
          ],
          [
           "Ferland Mendy",
           "Real Madrid"
          ],
          [
           "Eduardo Camavinga",
           "Real Madrid"
          ],
          [
           "Thibaut Courtois",
           "Real Madrid"
          ],
          [
           "Eden Hazard",
           "Real Madrid"
          ],
          [
           "Casemiro",
           "Real Madrid"
          ],
          [
           "Luka Modric",
           "Real Madrid"
          ],
          [
           "Marcelo",
           "Real Madrid"
          ],
          [
           "Mariano",
           "Real Madrid"
          ],
          [
           "Jesús Vallejo",
           "Real Madrid"
          ],
          [
           "Luka Jovic",
           "Real Madrid"
          ],
          [
           "Federico Valverde",
           "Real Madrid"
          ],
          [
           "Eder Militão",
           "Real Madrid"
          ],
          [
           "Rodrygo",
           "Real Madrid"
          ],
          [
           "Miguel Gutiérrez",
           "Real Madrid"
          ],
          [
           "Sergio Santos",
           "Real Madrid"
          ],
          [
           "Antonio Blanco",
           "Real Madrid"
          ]
         ],
         "hovertemplate": "team_title=%{customdata[1]}<br>team_goals=%{x}<br>goal_weight_team=%{y}<br>player_name=%{customdata[0]}<extra></extra>",
         "legendgroup": "Real Madrid",
         "marker": {
          "color": "#636efa",
          "opacity": 0.5,
          "symbol": "circle"
         },
         "mode": "markers",
         "name": "Real Madrid",
         "orientation": "v",
         "showlegend": true,
         "type": "scatter",
         "x": [
          34,
          34,
          34,
          34,
          34,
          34,
          34,
          34,
          34,
          34,
          34,
          34,
          34,
          34,
          34,
          34,
          34,
          34,
          34,
          34,
          34,
          34,
          34,
          34,
          34,
          34
         ],
         "xaxis": "x",
         "y": [
          0.3235294117647059,
          0.2647058823529412,
          0.11764705882352941,
          0.058823529411764705,
          0.029411764705882353,
          0.029411764705882353,
          0.029411764705882353,
          0.029411764705882353,
          0.029411764705882353,
          0.029411764705882353,
          0.029411764705882353,
          0.029411764705882353,
          0,
          0,
          0,
          0,
          0,
          0,
          0,
          0,
          0,
          0,
          0,
          0,
          0,
          0
         ],
         "yaxis": "y"
        },
        {
         "customdata": [
          [
           "Juanmi",
           "Real Betis"
          ],
          [
           "Willian José",
           "Real Betis"
          ],
          [
           "Borja Iglesias",
           "Real Betis"
          ],
          [
           "Nabil Fekir",
           "Real Betis"
          ],
          [
           "Germán Pezzella",
           "Real Betis"
          ],
          [
           "Sergio Canales",
           "Real Betis"
          ],
          [
           "Álex Moreno",
           "Real Betis"
          ],
          [
           "Rodrigo Sánchez",
           "Real Betis"
          ],
          [
           "Kike Hermoso",
           "Real Betis"
          ],
          [
           "Héctor Bellerín",
           "Real Betis"
          ],
          [
           "Cristian Tello",
           "Real Betis"
          ],
          [
           "Claudio Bravo",
           "Real Betis"
          ],
          [
           "Martín Montoya",
           "Real Betis"
          ],
          [
           "Joaquín",
           "Real Betis"
          ],
          [
           "Víctor Ruiz",
           "Real Betis"
          ],
          [
           "Víctor Camarasa",
           "Real Betis"
          ],
          [
           "Marc Bartra",
           "Real Betis"
          ],
          [
           "Rui Silva",
           "Real Betis"
          ],
          [
           "Andrés Guardado",
           "Real Betis"
          ],
          [
           "Aitor Ruibal",
           "Real Betis"
          ],
          [
           "William Carvalho",
           "Real Betis"
          ],
          [
           "Robert",
           "Real Betis"
          ],
          [
           "Juan Miranda",
           "Real Betis"
          ],
          [
           "Diego Lainez",
           "Real Betis"
          ],
          [
           "Paul Akouokou",
           "Real Betis"
          ],
          [
           "Edgar González",
           "Real Betis"
          ],
          [
           "Guido Rodríguez",
           "Real Betis"
          ],
          [
           "José Manuel Calderón",
           "Real Betis"
          ]
         ],
         "hovertemplate": "team_title=%{customdata[1]}<br>team_goals=%{x}<br>goal_weight_team=%{y}<br>player_name=%{customdata[0]}<extra></extra>",
         "legendgroup": "Real Betis",
         "marker": {
          "color": "#EF553B",
          "opacity": 0.5,
          "symbol": "circle"
         },
         "mode": "markers",
         "name": "Real Betis",
         "orientation": "v",
         "showlegend": true,
         "type": "scatter",
         "x": [
          25,
          25,
          25,
          25,
          25,
          25,
          25,
          25,
          25,
          25,
          25,
          25,
          25,
          25,
          25,
          25,
          25,
          25,
          25,
          25,
          25,
          25,
          25,
          25,
          25,
          25,
          25,
          25
         ],
         "xaxis": "x",
         "y": [
          0.36,
          0.24,
          0.12,
          0.08,
          0.04,
          0.04,
          0.04,
          0.04,
          0.04,
          0,
          0,
          0,
          0,
          0,
          0,
          0,
          0,
          0,
          0,
          0,
          0,
          0,
          0,
          0,
          0,
          0,
          0,
          0
         ],
         "yaxis": "y"
        },
        {
         "customdata": [
          [
           "Memphis Depay",
           "Barcelona"
          ],
          [
           "Anssumane Fati",
           "Barcelona"
          ],
          [
           "Philippe Coutinho",
           "Barcelona"
          ],
          [
           "Sergi Roberto",
           "Barcelona"
          ],
          [
           "Martin Braithwaite",
           "Barcelona"
          ],
          [
           "Sergio Agüero",
           "Barcelona"
          ],
          [
           "Gerard Piqué",
           "Barcelona"
          ],
          [
           "Sergio Busquets",
           "Barcelona"
          ],
          [
           "Frenkie de Jong",
           "Barcelona"
          ],
          [
           "Luuk de Jong",
           "Barcelona"
          ],
          [
           "Ronald Araújo",
           "Barcelona"
          ],
          [
           "Neto",
           "Barcelona"
          ],
          [
           "Marc-André ter Stegen",
           "Barcelona"
          ],
          [
           "Jordi Alba",
           "Barcelona"
          ],
          [
           "Ousmane Dembélé",
           "Barcelona"
          ],
          [
           "Clement Lenglet",
           "Barcelona"
          ],
          [
           "Emerson",
           "Barcelona"
          ],
          [
           "Riqui Puig",
           "Barcelona"
          ],
          [
           "Eric Garcia",
           "Barcelona"
          ],
          [
           "Pedri",
           "Barcelona"
          ],
          [
           "Sergiño Dest",
           "Barcelona"
          ],
          [
           "Óscar Mingueza",
           "Barcelona"
          ],
          [
           "Nico González",
           "Barcelona"
          ],
          [
           "Yusuf Demir",
           "Barcelona"
          ],
          [
           "Gavi",
           "Barcelona"
          ],
          [
           "Álex Balde",
           "Barcelona"
          ],
          [
           "Abdessamad Ezzalzouli",
           "Barcelona"
          ],
          [
           "Ilias Akhomach",
           "Barcelona"
          ]
         ],
         "hovertemplate": "team_title=%{customdata[1]}<br>team_goals=%{x}<br>goal_weight_team=%{y}<br>player_name=%{customdata[0]}<extra></extra>",
         "legendgroup": "Barcelona",
         "marker": {
          "color": "#00cc96",
          "opacity": 0.5,
          "symbol": "circle"
         },
         "mode": "markers",
         "name": "Barcelona",
         "orientation": "v",
         "showlegend": true,
         "type": "scatter",
         "x": [
          23,
          23,
          23,
          23,
          23,
          23,
          23,
          23,
          23,
          23,
          23,
          23,
          23,
          23,
          23,
          23,
          23,
          23,
          23,
          23,
          23,
          23,
          23,
          23,
          23,
          23,
          23,
          23
         ],
         "xaxis": "x",
         "y": [
          0.34782608695652173,
          0.13043478260869565,
          0.08695652173913043,
          0.08695652173913043,
          0.08695652173913043,
          0.043478260869565216,
          0.043478260869565216,
          0.043478260869565216,
          0.043478260869565216,
          0.043478260869565216,
          0.043478260869565216,
          0,
          0,
          0,
          0,
          0,
          0,
          0,
          0,
          0,
          0,
          0,
          0,
          0,
          0,
          0,
          0,
          0
         ],
         "yaxis": "y"
        },
        {
         "customdata": [
          [
           "Joselu",
           "Alaves"
          ],
          [
           "Víctor Laguardia",
           "Alaves"
          ],
          [
           "Luis Rioja",
           "Alaves"
          ],
          [
           "Mamadou Loum",
           "Alaves"
          ],
          [
           "Matt Miazga",
           "Alaves"
          ],
          [
           "Manu García",
           "Alaves"
          ],
          [
           "Edgar Méndez",
           "Alaves"
          ],
          [
           "Rubén Duarte",
           "Alaves"
          ],
          [
           "John Guidetti",
           "Alaves"
          ],
          [
           "Mamadou Sylla",
           "Alaves"
          ],
          [
           "Tomás Pina",
           "Alaves"
          ],
          [
           "Ximo Navarro",
           "Alaves"
          ],
          [
           "Fernando Pacheco",
           "Alaves"
          ],
          [
           "Florian Lejeune",
           "Alaves"
          ],
          [
           "Alberto Rodríguez",
           "Alaves"
          ],
          [
           "Antonio Moya",
           "Alaves"
          ],
          [
           "Martín Aguirregabiria",
           "Alaves"
          ],
          [
           "Antonio Sivera",
           "Alaves"
          ],
          [
           "Pere Pons",
           "Alaves"
          ],
          [
           "Miguel De la Fuente",
           "Alaves"
          ],
          [
           "Iván Martín",
           "Alaves"
          ],
          [
           "Javier López",
           "Alaves"
          ],
          [
           "Facundo Pellistri",
           "Alaves"
          ],
          [
           "Saul García",
           "Alaves"
          ]
         ],
         "hovertemplate": "team_title=%{customdata[1]}<br>team_goals=%{x}<br>goal_weight_team=%{y}<br>player_name=%{customdata[0]}<extra></extra>",
         "legendgroup": "Alaves",
         "marker": {
          "color": "#ab63fa",
          "opacity": 0.5,
          "symbol": "circle"
         },
         "mode": "markers",
         "name": "Alaves",
         "orientation": "v",
         "showlegend": true,
         "type": "scatter",
         "x": [
          11,
          11,
          11,
          11,
          11,
          11,
          11,
          11,
          11,
          11,
          11,
          11,
          11,
          11,
          11,
          11,
          11,
          11,
          11,
          11,
          11,
          11,
          11,
          11
         ],
         "xaxis": "x",
         "y": [
          0.6363636363636364,
          0.18181818181818182,
          0.09090909090909091,
          0.09090909090909091,
          0,
          0,
          0,
          0,
          0,
          0,
          0,
          0,
          0,
          0,
          0,
          0,
          0,
          0,
          0,
          0,
          0,
          0,
          0,
          0
         ],
         "yaxis": "y"
        },
        {
         "customdata": [
          [
           "Luis Suárez",
           "Atletico Madrid"
          ],
          [
           "Ángel Correa",
           "Atletico Madrid"
          ],
          [
           "Thomas Lemar",
           "Atletico Madrid"
          ],
          [
           "Yannick Carrasco",
           "Atletico Madrid"
          ],
          [
           "Matheus Cunha",
           "Atletico Madrid"
          ],
          [
           "Sime Vrsaljko",
           "Atletico Madrid"
          ],
          [
           "João Félix",
           "Atletico Madrid"
          ],
          [
           "Felipe",
           "Atletico Madrid"
          ],
          [
           "Kieran Trippier",
           "Atletico Madrid"
          ],
          [
           "Rodrigo de Paul",
           "Atletico Madrid"
          ],
          [
           "Geoffrey Kondogbia",
           "Atletico Madrid"
          ],
          [
           "Jan Oblak",
           "Atletico Madrid"
          ],
          [
           "Stefan Savic",
           "Atletico Madrid"
          ],
          [
           "Saúl Ñíguez",
           "Atletico Madrid"
          ],
          [
           "Koke",
           "Atletico Madrid"
          ],
          [
           "Giménez",
           "Atletico Madrid"
          ],
          [
           "Marcos Llorente",
           "Atletico Madrid"
          ],
          [
           "Mario Hermoso",
           "Atletico Madrid"
          ],
          [
           "Renan Lodi",
           "Atletico Madrid"
          ],
          [
           "Héctor Herrera",
           "Atletico Madrid"
          ],
          [
           "Carlos Martín",
           "Atletico Madrid"
          ]
         ],
         "hovertemplate": "team_title=%{customdata[1]}<br>team_goals=%{x}<br>goal_weight_team=%{y}<br>player_name=%{customdata[0]}<extra></extra>",
         "legendgroup": "Atletico Madrid",
         "marker": {
          "color": "#FFA15A",
          "opacity": 0.5,
          "symbol": "circle"
         },
         "mode": "markers",
         "name": "Atletico Madrid",
         "orientation": "v",
         "showlegend": true,
         "type": "scatter",
         "x": [
          21,
          21,
          21,
          21,
          21,
          21,
          21,
          21,
          21,
          21,
          21,
          21,
          21,
          21,
          21,
          21,
          21,
          21,
          21,
          21,
          21
         ],
         "xaxis": "x",
         "y": [
          0.3333333333333333,
          0.19047619047619047,
          0.14285714285714285,
          0.09523809523809523,
          0.09523809523809523,
          0.047619047619047616,
          0.047619047619047616,
          0.047619047619047616,
          0,
          0,
          0,
          0,
          0,
          0,
          0,
          0,
          0,
          0,
          0,
          0,
          0
         ],
         "yaxis": "y"
        },
        {
         "customdata": [
          [
           "Raúl de Tomás",
           "Espanyol"
          ],
          [
           "Aleix Vidal",
           "Espanyol"
          ],
          [
           "Sergi Gómez",
           "Espanyol"
          ],
          [
           "Leandro Cabrera",
           "Espanyol"
          ],
          [
           "Manuel Morlanes",
           "Espanyol"
          ],
          [
           "Adrià Pedrosa",
           "Espanyol"
          ],
          [
           "Yangel Herrera",
           "Espanyol"
          ],
          [
           "Nicolás Melamed",
           "Espanyol"
          ],
          [
           "Diego López",
           "Espanyol"
          ],
          [
           "David López",
           "Espanyol"
          ],
          [
           "Álvaro Vadillo",
           "Espanyol"
          ],
          [
           "Adrián Embarba",
           "Espanyol"
          ],
          [
           "Miguelón",
           "Espanyol"
          ],
          [
           "Sergi Darder",
           "Espanyol"
          ],
          [
           "Dídac Vilá",
           "Espanyol"
          ],
          [
           "Fran Mérida",
           "Espanyol"
          ],
          [
           "Óscar Melendo",
           "Espanyol"
          ],
          [
           "Keidi Bare",
           "Espanyol"
          ],
          [
           "Landry Dimata",
           "Espanyol"
          ],
          [
           "Fernando Calero",
           "Espanyol"
          ],
          [
           "Javi Puado",
           "Espanyol"
          ],
          [
           "Wu Lei",
           "Espanyol"
          ],
          [
           "Víctor Gómez",
           "Espanyol"
          ],
          [
           "Óscar Gil",
           "Espanyol"
          ],
          [
           "Gori",
           "Espanyol"
          ],
          [
           "Lluís Recasens",
           "Espanyol"
          ],
          [
           "Rubén Sánchez",
           "Espanyol"
          ]
         ],
         "hovertemplate": "team_title=%{customdata[1]}<br>team_goals=%{x}<br>goal_weight_team=%{y}<br>player_name=%{customdata[0]}<extra></extra>",
         "legendgroup": "Espanyol",
         "marker": {
          "color": "#19d3f3",
          "opacity": 0.5,
          "symbol": "circle"
         },
         "mode": "markers",
         "name": "Espanyol",
         "orientation": "v",
         "showlegend": true,
         "type": "scatter",
         "x": [
          15,
          15,
          15,
          15,
          15,
          15,
          15,
          15,
          15,
          15,
          15,
          15,
          15,
          15,
          15,
          15,
          15,
          15,
          15,
          15,
          15,
          15,
          15,
          15,
          15,
          15,
          15
         ],
         "xaxis": "x",
         "y": [
          0.4666666666666667,
          0.13333333333333333,
          0.06666666666666667,
          0.06666666666666667,
          0.06666666666666667,
          0.06666666666666667,
          0.06666666666666667,
          0.06666666666666667,
          0,
          0,
          0,
          0,
          0,
          0,
          0,
          0,
          0,
          0,
          0,
          0,
          0,
          0,
          0,
          0,
          0,
          0,
          0
         ],
         "yaxis": "y"
        },
        {
         "customdata": [
          [
           "Mikel Oyarzabal",
           "Real Sociedad"
          ],
          [
           "Aritz Elustondo",
           "Real Sociedad"
          ],
          [
           "Alexander Isak",
           "Real Sociedad"
          ],
          [
           "Mikel Merino",
           "Real Sociedad"
          ],
          [
           "Julen Lobete",
           "Real Sociedad"
          ],
          [
           "Adnan Januzaj",
           "Real Sociedad"
          ],
          [
           "Alexander Sørloth",
           "Real Sociedad"
          ],
          [
           "Ander Barrenetxea",
           "Real Sociedad"
          ],
          [
           "David Silva",
           "Real Sociedad"
          ],
          [
           "Zaldúa",
           "Real Sociedad"
          ],
          [
           "Jon Bautista",
           "Real Sociedad"
          ],
          [
           "Mat Ryan",
           "Real Sociedad"
          ],
          [
           "Igor Zubeldia",
           "Real Sociedad"
          ],
          [
           "Remiro",
           "Real Sociedad"
          ],
          [
           "Diego Rico",
           "Real Sociedad"
          ],
          [
           "Jon Guridi",
           "Real Sociedad"
          ],
          [
           "Portu",
           "Real Sociedad"
          ],
          [
           "Ander Guevara",
           "Real Sociedad"
          ],
          [
           "Andoni Gorosabel",
           "Real Sociedad"
          ],
          [
           "Robin Le Normand",
           "Real Sociedad"
          ],
          [
           "Aihen Muñoz",
           "Real Sociedad"
          ],
          [
           "Martín Zubimendi",
           "Real Sociedad"
          ],
          [
           "German Valera",
           "Real Sociedad"
          ],
          [
           "Jon Pacheco Dozagarat",
           "Real Sociedad"
          ],
          [
           "Roberto Navarro",
           "Real Sociedad"
          ],
          [
           "Beñat Turrientes",
           "Real Sociedad"
          ],
          [
           "Cristo Romero",
           "Real Sociedad"
          ]
         ],
         "hovertemplate": "team_title=%{customdata[1]}<br>team_goals=%{x}<br>goal_weight_team=%{y}<br>player_name=%{customdata[0]}<extra></extra>",
         "legendgroup": "Real Sociedad",
         "marker": {
          "color": "#FF6692",
          "opacity": 0.5,
          "symbol": "circle"
         },
         "mode": "markers",
         "name": "Real Sociedad",
         "orientation": "v",
         "showlegend": true,
         "type": "scatter",
         "x": [
          19,
          19,
          19,
          19,
          19,
          19,
          19,
          19,
          19,
          19,
          19,
          19,
          19,
          19,
          19,
          19,
          19,
          19,
          19,
          19,
          19,
          19,
          19,
          19,
          19,
          19,
          19
         ],
         "xaxis": "x",
         "y": [
          0.3157894736842105,
          0.15789473684210525,
          0.15789473684210525,
          0.10526315789473684,
          0.10526315789473684,
          0.05263157894736842,
          0.05263157894736842,
          0.05263157894736842,
          0,
          0,
          0,
          0,
          0,
          0,
          0,
          0,
          0,
          0,
          0,
          0,
          0,
          0,
          0,
          0,
          0,
          0,
          0
         ],
         "yaxis": "y"
        },
        {
         "customdata": [
          [
           "Iago Aspas",
           "Celta Vigo"
          ],
          [
           "Santi Mina",
           "Celta Vigo"
          ],
          [
           "Brais Méndez",
           "Celta Vigo"
          ],
          [
           "Nolito",
           "Celta Vigo"
          ],
          [
           "Denis Suárez",
           "Celta Vigo"
          ],
          [
           "Franco Cervi",
           "Celta Vigo"
          ],
          [
           "Jeison Murillo",
           "Celta Vigo"
          ],
          [
           "Hugo Mallo",
           "Celta Vigo"
          ],
          [
           "Kevin",
           "Celta Vigo"
          ],
          [
           "Néstor Araújo",
           "Celta Vigo"
          ],
          [
           "Fran Beltrán",
           "Celta Vigo"
          ],
          [
           "Okay Yokuslu",
           "Celta Vigo"
          ],
          [
           "Javi Galán",
           "Celta Vigo"
          ],
          [
           "Joseph Aidoo",
           "Celta Vigo"
          ],
          [
           "José Manuel Fontán",
           "Celta Vigo"
          ],
          [
           "Renato Tapia",
           "Celta Vigo"
          ],
          [
           "Miguel Baeza",
           "Celta Vigo"
          ],
          [
           "Augusto Solari",
           "Celta Vigo"
          ],
          [
           "Carlos Domínguez",
           "Celta Vigo"
          ],
          [
           "Matías Dituro",
           "Celta Vigo"
          ],
          [
           "Thiago Galhardo",
           "Celta Vigo"
          ],
          [
           "Hugo Álvarez",
           "Celta Vigo"
          ]
         ],
         "hovertemplate": "team_title=%{customdata[1]}<br>team_goals=%{x}<br>goal_weight_team=%{y}<br>player_name=%{customdata[0]}<extra></extra>",
         "legendgroup": "Celta Vigo",
         "marker": {
          "color": "#B6E880",
          "opacity": 0.5,
          "symbol": "circle"
         },
         "mode": "markers",
         "name": "Celta Vigo",
         "orientation": "v",
         "showlegend": true,
         "type": "scatter",
         "x": [
          16,
          16,
          16,
          16,
          16,
          16,
          16,
          16,
          16,
          16,
          16,
          16,
          16,
          16,
          16,
          16,
          16,
          16,
          16,
          16,
          16,
          16
         ],
         "xaxis": "x",
         "y": [
          0.375,
          0.3125,
          0.125,
          0.0625,
          0.0625,
          0.0625,
          0,
          0,
          0,
          0,
          0,
          0,
          0,
          0,
          0,
          0,
          0,
          0,
          0,
          0,
          0,
          0
         ],
         "yaxis": "y"
        },
        {
         "customdata": [
          [
           "Falcao",
           "Rayo Vallecano"
          ],
          [
           "Álvaro García",
           "Rayo Vallecano"
          ],
          [
           "Óscar Trejo",
           "Rayo Vallecano"
          ],
          [
           "Randy Nteka",
           "Rayo Vallecano"
          ],
          [
           "Sergi Guardiola",
           "Rayo Vallecano"
          ],
          [
           "Isi Palazón",
           "Rayo Vallecano"
          ],
          [
           "Santiago Comesaña",
           "Rayo Vallecano"
          ],
          [
           "Pathé Ciss",
           "Rayo Vallecano"
          ],
          [
           "Mario Hernández",
           "Rayo Vallecano"
          ],
          [
           "Mario Suárez",
           "Rayo Vallecano"
          ],
          [
           "Bebé",
           "Rayo Vallecano"
          ],
          [
           "Stole Dimitrievski",
           "Rayo Vallecano"
          ],
          [
           "Unai López",
           "Rayo Vallecano"
          ],
          [
           "José Pozo",
           "Rayo Vallecano"
          ],
          [
           "Kévin Rodrigues",
           "Rayo Vallecano"
          ],
          [
           "Iván Balliu",
           "Rayo Vallecano"
          ],
          [
           "Luca Zidane",
           "Rayo Vallecano"
          ],
          [
           "Martín Merquelanz",
           "Rayo Vallecano"
          ],
          [
           "Alejandro Catena",
           "Rayo Vallecano"
          ],
          [
           "Fran García",
           "Rayo Vallecano"
          ],
          [
           "Óscar Valentín",
           "Rayo Vallecano"
          ],
          [
           "Andrés Martín",
           "Rayo Vallecano"
          ],
          [
           "Yacine Qasmi",
           "Rayo Vallecano"
          ],
          [
           "Esteban Saveljich",
           "Rayo Vallecano"
          ],
          [
           "Nikola Maras",
           "Rayo Vallecano"
          ]
         ],
         "hovertemplate": "team_title=%{customdata[1]}<br>team_goals=%{x}<br>goal_weight_team=%{y}<br>player_name=%{customdata[0]}<extra></extra>",
         "legendgroup": "Rayo Vallecano",
         "marker": {
          "color": "#FF97FF",
          "opacity": 0.5,
          "symbol": "circle"
         },
         "mode": "markers",
         "name": "Rayo Vallecano",
         "orientation": "v",
         "showlegend": true,
         "type": "scatter",
         "x": [
          23,
          23,
          23,
          23,
          23,
          23,
          23,
          23,
          23,
          23,
          23,
          23,
          23,
          23,
          23,
          23,
          23,
          23,
          23,
          23,
          23,
          23,
          23,
          23,
          23
         ],
         "xaxis": "x",
         "y": [
          0.21739130434782608,
          0.21739130434782608,
          0.13043478260869565,
          0.13043478260869565,
          0.08695652173913043,
          0.08695652173913043,
          0.043478260869565216,
          0.043478260869565216,
          0.043478260869565216,
          0,
          0,
          0,
          0,
          0,
          0,
          0,
          0,
          0,
          0,
          0,
          0,
          0,
          0,
          0,
          0
         ],
         "yaxis": "y"
        },
        {
         "customdata": [
          [
           "Carlos Soler",
           "Valencia"
          ],
          [
           "Gonçalo Guedes",
           "Valencia"
          ],
          [
           "José Gayá",
           "Valencia"
          ],
          [
           "Gabriel",
           "Valencia"
          ],
          [
           "Daniel Wass",
           "Valencia"
          ],
          [
           "Maxi Gómez",
           "Valencia"
          ],
          [
           "Hugo Guillamón",
           "Valencia"
          ],
          [
           "Marcos de Sousa",
           "Valencia"
          ],
          [
           "Omar Alderete",
           "Valencia"
          ],
          [
           "Toni Lato",
           "Valencia"
          ],
          [
           "Denis Cheryshev",
           "Valencia"
          ],
          [
           "Cristiano Piccini",
           "Valencia"
          ],
          [
           "Hélder Costa",
           "Valencia"
          ],
          [
           "Jason",
           "Valencia"
          ],
          [
           "Jasper Cillessen",
           "Valencia"
          ],
          [
           "Mouctar Diakhaby",
           "Valencia"
          ],
          [
           "Uros Racic",
           "Valencia"
          ],
          [
           "Manu Vallejo",
           "Valencia"
          ],
          [
           "Thierry Correia",
           "Valencia"
          ],
          [
           "Koba Koindredi",
           "Valencia"
          ],
          [
           "Yunus Musah",
           "Valencia"
          ],
          [
           "Jesús Vázquez",
           "Valencia"
          ],
          [
           "Giorgi Mamardashvili",
           "Valencia"
          ]
         ],
         "hovertemplate": "team_title=%{customdata[1]}<br>team_goals=%{x}<br>goal_weight_team=%{y}<br>player_name=%{customdata[0]}<extra></extra>",
         "legendgroup": "Valencia",
         "marker": {
          "color": "#FECB52",
          "opacity": 0.5,
          "symbol": "circle"
         },
         "mode": "markers",
         "name": "Valencia",
         "orientation": "v",
         "showlegend": true,
         "type": "scatter",
         "x": [
          16,
          16,
          16,
          16,
          16,
          16,
          16,
          16,
          16,
          16,
          16,
          16,
          16,
          16,
          16,
          16,
          16,
          16,
          16,
          16,
          16,
          16,
          16
         ],
         "xaxis": "x",
         "y": [
          0.3125,
          0.1875,
          0.125,
          0.0625,
          0.0625,
          0.0625,
          0.0625,
          0.0625,
          0.0625,
          0,
          0,
          0,
          0,
          0,
          0,
          0,
          0,
          0,
          0,
          0,
          0,
          0,
          0
         ],
         "yaxis": "y"
        },
        {
         "customdata": [
          [
           "Rafa Mir",
           "Sevilla"
          ],
          [
           "Erik Lamela",
           "Sevilla"
          ],
          [
           "Youssef En-Nesyri",
           "Sevilla"
          ],
          [
           "Lucas Ocampos",
           "Sevilla"
          ],
          [
           "Diego Carlos",
           "Sevilla"
          ],
          [
           "Fernando",
           "Sevilla"
          ],
          [
           "Alejandro Gomez",
           "Sevilla"
          ],
          [
           "Ivan Rakitic",
           "Sevilla"
          ],
          [
           "Munir",
           "Sevilla"
          ],
          [
           "Óliver Torres",
           "Sevilla"
          ],
          [
           "Marcos Acuña",
           "Sevilla"
          ],
          [
           "Jesús Navas",
           "Sevilla"
          ],
          [
           "Suso",
           "Sevilla"
          ],
          [
           "Joan Jordán",
           "Sevilla"
          ],
          [
           "Karim Rekik",
           "Sevilla"
          ],
          [
           "Thomas Delaney",
           "Sevilla"
          ],
          [
           "Ludwig Augustinsson",
           "Sevilla"
          ],
          [
           "Bono",
           "Sevilla"
          ],
          [
           "Marko Dmitrovic",
           "Sevilla"
          ],
          [
           "Jules Koundé",
           "Sevilla"
          ],
          [
           "Óscar Rodríguez",
           "Sevilla"
          ],
          [
           "Nemanja Gudelj",
           "Sevilla"
          ],
          [
           "Oussama Idrissi",
           "Sevilla"
          ],
          [
           "Iván Romero",
           "Sevilla"
          ],
          [
           "Pedro Ortiz",
           "Sevilla"
          ],
          [
           "Gonzalo Montiel",
           "Sevilla"
          ]
         ],
         "hovertemplate": "team_title=%{customdata[1]}<br>team_goals=%{x}<br>goal_weight_team=%{y}<br>player_name=%{customdata[0]}<extra></extra>",
         "legendgroup": "Sevilla",
         "marker": {
          "color": "#636efa",
          "opacity": 0.5,
          "symbol": "circle"
         },
         "mode": "markers",
         "name": "Sevilla",
         "orientation": "v",
         "showlegend": true,
         "type": "scatter",
         "x": [
          22,
          22,
          22,
          22,
          22,
          22,
          22,
          22,
          22,
          22,
          22,
          22,
          22,
          22,
          22,
          22,
          22,
          22,
          22,
          22,
          22,
          22,
          22,
          22,
          22,
          22
         ],
         "xaxis": "x",
         "y": [
          0.22727272727272727,
          0.18181818181818182,
          0.13636363636363635,
          0.09090909090909091,
          0.09090909090909091,
          0.045454545454545456,
          0.045454545454545456,
          0.045454545454545456,
          0.045454545454545456,
          0.045454545454545456,
          0.045454545454545456,
          0,
          0,
          0,
          0,
          0,
          0,
          0,
          0,
          0,
          0,
          0,
          0,
          0,
          0,
          0
         ],
         "yaxis": "y"
        },
        {
         "customdata": [
          [
           "Arnaut Danjuma Groeneveld",
           "Villarreal"
          ],
          [
           "Manu Trigueros",
           "Villarreal"
          ],
          [
           "Alberto Moreno",
           "Villarreal"
          ],
          [
           "Francis Coquelin",
           "Villarreal"
          ],
          [
           "Gerard Moreno",
           "Villarreal"
          ],
          [
           "Pau Torres",
           "Villarreal"
          ],
          [
           "Samuel Chukwueze",
           "Villarreal"
          ],
          [
           "Boulaye Dia",
           "Villarreal"
          ],
          [
           "Yeremi Pino",
           "Villarreal"
          ],
          [
           "Etienne Capoue",
           "Villarreal"
          ],
          [
           "Raúl Albiol",
           "Villarreal"
          ],
          [
           "Vicente Iborra",
           "Villarreal"
          ],
          [
           "Moi Gómez",
           "Villarreal"
          ],
          [
           "Gerónimo Rulli",
           "Villarreal"
          ],
          [
           "Mario",
           "Villarreal"
          ],
          [
           "Daniel Parejo",
           "Villarreal"
          ],
          [
           "Paco Alcácer",
           "Villarreal"
          ],
          [
           "Sergio Asenjo",
           "Villarreal"
          ],
          [
           "Alfonso",
           "Villarreal"
          ],
          [
           "Aissa Mandi",
           "Villarreal"
          ],
          [
           "Serge Aurier",
           "Villarreal"
          ],
          [
           "Rubén Peña",
           "Villarreal"
          ],
          [
           "Estupiñán",
           "Villarreal"
          ],
          [
           "Raba",
           "Villarreal"
          ],
          [
           "Juan Foyth",
           "Villarreal"
          ],
          [
           "Nicolas Jackson",
           "Villarreal"
          ]
         ],
         "hovertemplate": "team_title=%{customdata[1]}<br>team_goals=%{x}<br>goal_weight_team=%{y}<br>player_name=%{customdata[0]}<extra></extra>",
         "legendgroup": "Villarreal",
         "marker": {
          "color": "#EF553B",
          "opacity": 0.5,
          "symbol": "circle"
         },
         "mode": "markers",
         "name": "Villarreal",
         "orientation": "v",
         "showlegend": true,
         "type": "scatter",
         "x": [
          16,
          16,
          16,
          16,
          16,
          16,
          16,
          16,
          16,
          16,
          16,
          16,
          16,
          16,
          16,
          16,
          16,
          16,
          16,
          16,
          16,
          16,
          16,
          16,
          16,
          16
         ],
         "xaxis": "x",
         "y": [
          0.3125,
          0.1875,
          0.125,
          0.0625,
          0.0625,
          0.0625,
          0.0625,
          0.0625,
          0.0625,
          0,
          0,
          0,
          0,
          0,
          0,
          0,
          0,
          0,
          0,
          0,
          0,
          0,
          0,
          0,
          0,
          0
         ],
         "yaxis": "y"
        },
        {
         "customdata": [
          [
           "Lucas Boyé",
           "Elche"
          ],
          [
           "Lucas Pérez",
           "Elche"
          ],
          [
           "Darío Benedetto",
           "Elche"
          ],
          [
           "Enzo Roco",
           "Elche"
          ],
          [
           "Pere Milla",
           "Elche"
          ],
          [
           "Johan Mojica",
           "Elche"
          ],
          [
           "Antonio Barragán",
           "Elche"
          ],
          [
           "Diego González",
           "Elche"
          ],
          [
           "Kiko Casilla",
           "Elche"
          ],
          [
           "Pedro Bigas",
           "Elche"
          ],
          [
           "Pablo Piatti",
           "Elche"
          ],
          [
           "Omar Mascarell",
           "Elche"
          ],
          [
           "Gerard Gumbau",
           "Elche"
          ],
          [
           "Javier Pastore",
           "Elche"
          ],
          [
           "Guido Carrillo",
           "Elche"
          ],
          [
           "Fidel",
           "Elche"
          ],
          [
           "Edgar Badía",
           "Elche"
          ],
          [
           "Gonzalo Verdú",
           "Elche"
          ],
          [
           "Josema",
           "Elche"
          ],
          [
           "Josan",
           "Elche"
          ],
          [
           "Raúl Guti",
           "Elche"
          ],
          [
           "Tete Morente",
           "Elche"
          ],
          [
           "Iván Marcone",
           "Elche"
          ],
          [
           "Helibelton Palacios",
           "Elche"
          ]
         ],
         "hovertemplate": "team_title=%{customdata[1]}<br>team_goals=%{x}<br>goal_weight_team=%{y}<br>player_name=%{customdata[0]}<extra></extra>",
         "legendgroup": "Elche",
         "marker": {
          "color": "#00cc96",
          "opacity": 0.5,
          "symbol": "circle"
         },
         "mode": "markers",
         "name": "Elche",
         "orientation": "v",
         "showlegend": true,
         "type": "scatter",
         "x": [
          11,
          11,
          11,
          11,
          11,
          11,
          11,
          11,
          11,
          11,
          11,
          11,
          11,
          11,
          11,
          11,
          11,
          11,
          11,
          11,
          11,
          11,
          11,
          11
         ],
         "xaxis": "x",
         "y": [
          0.36363636363636365,
          0.18181818181818182,
          0.18181818181818182,
          0.09090909090909091,
          0.09090909090909091,
          0.09090909090909091,
          0,
          0,
          0,
          0,
          0,
          0,
          0,
          0,
          0,
          0,
          0,
          0,
          0,
          0,
          0,
          0,
          0,
          0
         ],
         "yaxis": "y"
        },
        {
         "customdata": [
          [
           "Morales",
           "Levante"
          ],
          [
           "Roger",
           "Levante"
          ],
          [
           "Enis Bardhi",
           "Levante"
          ],
          [
           "Shkodran Mustafi",
           "Levante"
          ],
          [
           "Rober",
           "Levante"
          ],
          [
           "José Campaña",
           "Levante"
          ],
          [
           "Gonzalo Melero",
           "Levante"
          ],
          [
           "Jorge De Frutos",
           "Levante"
          ],
          [
           "Coke",
           "Levante"
          ],
          [
           "Nemanja Radoja",
           "Levante"
          ],
          [
           "Roberto Soldado",
           "Levante"
          ],
          [
           "Rúben Vezo",
           "Levante"
          ],
          [
           "Óscar Duarte",
           "Levante"
          ],
          [
           "Pepelu",
           "Levante"
          ],
          [
           "Aitor Fernández",
           "Levante"
          ],
          [
           "Carlos Clerc",
           "Levante"
          ],
          [
           "Sergio Postigo",
           "Levante"
          ],
          [
           "Jorge Miramón",
           "Levante"
          ],
          [
           "Nikola Vukcevic",
           "Levante"
          ],
          [
           "Daniel Cárdenas",
           "Levante"
          ],
          [
           "Pablo Martínez",
           "Levante"
          ],
          [
           "Dani Gómez",
           "Levante"
          ],
          [
           "Son",
           "Levante"
          ],
          [
           "Mickaël Malsa",
           "Levante"
          ],
          [
           "Alejandro Cantero",
           "Levante"
          ],
          [
           "Enric Franquesa",
           "Levante"
          ]
         ],
         "hovertemplate": "team_title=%{customdata[1]}<br>team_goals=%{x}<br>goal_weight_team=%{y}<br>player_name=%{customdata[0]}<extra></extra>",
         "legendgroup": "Levante",
         "marker": {
          "color": "#ab63fa",
          "opacity": 0.5,
          "symbol": "circle"
         },
         "mode": "markers",
         "name": "Levante",
         "orientation": "v",
         "showlegend": true,
         "type": "scatter",
         "x": [
          13,
          13,
          13,
          13,
          13,
          13,
          13,
          13,
          13,
          13,
          13,
          13,
          13,
          13,
          13,
          13,
          13,
          13,
          13,
          13,
          13,
          13,
          13,
          13,
          13,
          13
         ],
         "xaxis": "x",
         "y": [
          0.3076923076923077,
          0.15384615384615385,
          0.15384615384615385,
          0.07692307692307693,
          0.07692307692307693,
          0.07692307692307693,
          0.07692307692307693,
          0.07692307692307693,
          0,
          0,
          0,
          0,
          0,
          0,
          0,
          0,
          0,
          0,
          0,
          0,
          0,
          0,
          0,
          0,
          0,
          0
         ],
         "yaxis": "y"
        },
        {
         "customdata": [
          [
           "Enes Ünal",
           "Getafe"
          ],
          [
           "Sandro Ramírez",
           "Getafe"
          ],
          [
           "Stefan Mitrovic",
           "Getafe"
          ],
          [
           "Mathías Olivera",
           "Getafe"
          ],
          [
           "Jaime Mata",
           "Getafe"
          ],
          [
           "Jorge Cuenca",
           "Getafe"
          ],
          [
           "Nyom",
           "Getafe"
          ],
          [
           "Jakub Jankto",
           "Getafe"
          ],
          [
           "Damián Suárez",
           "Getafe"
          ],
          [
           "David Soria",
           "Getafe"
          ],
          [
           "Vitolo",
           "Getafe"
          ],
          [
           "Mauro Arambarri",
           "Getafe"
          ],
          [
           "Carles Aleñá",
           "Getafe"
          ],
          [
           "David Timor",
           "Getafe"
          ],
          [
           "Darío Poveda",
           "Getafe"
          ],
          [
           "Erick Cabaco",
           "Getafe"
          ],
          [
           "Nemanja Maksimovic",
           "Getafe"
          ],
          [
           "Djené Dakonam",
           "Getafe"
          ],
          [
           "Chema Rodríguez",
           "Getafe"
          ],
          [
           "Jonathan Silva",
           "Getafe"
          ],
          [
           "Marc Cucurella",
           "Getafe"
          ],
          [
           "Florentino Luís",
           "Getafe"
          ],
          [
           "Juan Iglesias",
           "Getafe"
          ],
          [
           "Koffi",
           "Getafe"
          ],
          [
           "José Macías",
           "Getafe"
          ]
         ],
         "hovertemplate": "team_title=%{customdata[1]}<br>team_goals=%{x}<br>goal_weight_team=%{y}<br>player_name=%{customdata[0]}<extra></extra>",
         "legendgroup": "Getafe",
         "marker": {
          "color": "#FFA15A",
          "opacity": 0.5,
          "symbol": "circle"
         },
         "mode": "markers",
         "name": "Getafe",
         "orientation": "v",
         "showlegend": true,
         "type": "scatter",
         "x": [
          10,
          10,
          10,
          10,
          10,
          10,
          10,
          10,
          10,
          10,
          10,
          10,
          10,
          10,
          10,
          10,
          10,
          10,
          10,
          10,
          10,
          10,
          10,
          10,
          10
         ],
         "xaxis": "x",
         "y": [
          0.4,
          0.2,
          0.1,
          0.1,
          0.1,
          0.1,
          0,
          0,
          0,
          0,
          0,
          0,
          0,
          0,
          0,
          0,
          0,
          0,
          0,
          0,
          0,
          0,
          0,
          0,
          0
         ],
         "yaxis": "y"
        },
        {
         "customdata": [
          [
           "Anthony Lozano",
           "Cadiz"
          ],
          [
           "Álvaro Negredo",
           "Cadiz"
          ],
          [
           "Álex Fernández",
           "Cadiz"
          ],
          [
           "Alfonso Espino",
           "Cadiz"
          ],
          [
           "Varazdat Haroyan",
           "Cadiz"
          ],
          [
           "Salvi Sánchez",
           "Cadiz"
          ],
          [
           "Cala",
           "Cadiz"
          ],
          [
           "Florin Andone",
           "Cadiz"
          ],
          [
           "Álvaro Jiménez",
           "Cadiz"
          ],
          [
           "Iván Alejo",
           "Cadiz"
          ],
          [
           "Carlos Akapo",
           "Cadiz"
          ],
          [
           "Isaac Carcelén",
           "Cadiz"
          ],
          [
           "Marcos Mauro",
           "Cadiz"
          ],
          [
           "Jens Jonsson",
           "Cadiz"
          ],
          [
           "Fali",
           "Cadiz"
          ],
          [
           "Alberto Perea",
           "Cadiz"
          ],
          [
           "Jeremías Ledesma",
           "Cadiz"
          ],
          [
           "Victor Chust",
           "Cadiz"
          ],
          [
           "Álvaro Bastida",
           "Cadiz"
          ],
          [
           "Tomás Alarcón",
           "Cadiz"
          ],
          [
           "Milutin Osmajic",
           "Cadiz"
          ],
          [
           "Iván Chapela",
           "Cadiz"
          ],
          [
           "Martín Calderón",
           "Cadiz"
          ],
          [
           "Santiago Arzamendia",
           "Cadiz"
          ],
          [
           "Pedro Benito",
           "Cadiz"
          ]
         ],
         "hovertemplate": "team_title=%{customdata[1]}<br>team_goals=%{x}<br>goal_weight_team=%{y}<br>player_name=%{customdata[0]}<extra></extra>",
         "legendgroup": "Cadiz",
         "marker": {
          "color": "#19d3f3",
          "opacity": 0.5,
          "symbol": "circle"
         },
         "mode": "markers",
         "name": "Cadiz",
         "orientation": "v",
         "showlegend": true,
         "type": "scatter",
         "x": [
          12,
          12,
          12,
          12,
          12,
          12,
          12,
          12,
          12,
          12,
          12,
          12,
          12,
          12,
          12,
          12,
          12,
          12,
          12,
          12,
          12,
          12,
          12,
          12,
          12
         ],
         "xaxis": "x",
         "y": [
          0.3333333333333333,
          0.16666666666666666,
          0.16666666666666666,
          0.16666666666666666,
          0.08333333333333333,
          0.08333333333333333,
          0,
          0,
          0,
          0,
          0,
          0,
          0,
          0,
          0,
          0,
          0,
          0,
          0,
          0,
          0,
          0,
          0,
          0,
          0
         ],
         "yaxis": "y"
        },
        {
         "customdata": [
          [
           "Hugo Duro",
           "Getafe,Valencia"
          ]
         ],
         "hovertemplate": "team_title=%{customdata[1]}<br>team_goals=%{x}<br>goal_weight_team=%{y}<br>player_name=%{customdata[0]}<extra></extra>",
         "legendgroup": "Getafe,Valencia",
         "marker": {
          "color": "#FF6692",
          "opacity": 0.5,
          "symbol": "circle"
         },
         "mode": "markers",
         "name": "Getafe,Valencia",
         "orientation": "v",
         "showlegend": true,
         "type": "scatter",
         "x": [
          4
         ],
         "xaxis": "x",
         "y": [
          1
         ],
         "yaxis": "y"
        },
        {
         "customdata": [
          [
           "Luis Suárez",
           "Granada"
          ],
          [
           "Jorge Molina",
           "Granada"
          ],
          [
           "Germán Sánchez",
           "Granada"
          ],
          [
           "Rubén Rochina",
           "Granada"
          ],
          [
           "Montoro",
           "Granada"
          ],
          [
           "Darwin Machís",
           "Granada"
          ],
          [
           "Domingos Duarte",
           "Granada"
          ],
          [
           "Antonio Puertas",
           "Granada"
          ],
          [
           "Luis Milla",
           "Granada"
          ],
          [
           "Carlos Bacca",
           "Granada"
          ],
          [
           "Sergio Escudero",
           "Granada"
          ],
          [
           "Quini",
           "Granada"
          ],
          [
           "Aarón",
           "Granada"
          ],
          [
           "Maxime Gonalons",
           "Granada"
          ],
          [
           "Víctor Díaz",
           "Granada"
          ],
          [
           "Santiago Arias",
           "Granada"
          ],
          [
           "Yan Eteki",
           "Granada"
          ],
          [
           "Carlos Neva",
           "Granada"
          ],
          [
           "Monchu",
           "Granada"
          ],
          [
           "Alberto Soro",
           "Granada"
          ],
          [
           "Isma Ruiz",
           "Granada"
          ],
          [
           "Raúl Torrente",
           "Granada"
          ],
          [
           "Luis Abram",
           "Granada"
          ],
          [
           "Luís Maximiano",
           "Granada"
          ]
         ],
         "hovertemplate": "team_title=%{customdata[1]}<br>team_goals=%{x}<br>goal_weight_team=%{y}<br>player_name=%{customdata[0]}<extra></extra>",
         "legendgroup": "Granada",
         "marker": {
          "color": "#B6E880",
          "opacity": 0.5,
          "symbol": "circle"
         },
         "mode": "markers",
         "name": "Granada",
         "orientation": "v",
         "showlegend": true,
         "type": "scatter",
         "x": [
          14,
          14,
          14,
          14,
          14,
          14,
          14,
          14,
          14,
          14,
          14,
          14,
          14,
          14,
          14,
          14,
          14,
          14,
          14,
          14,
          14,
          14,
          14,
          14
         ],
         "xaxis": "x",
         "y": [
          0.2857142857142857,
          0.14285714285714285,
          0.14285714285714285,
          0.07142857142857142,
          0.07142857142857142,
          0.07142857142857142,
          0.07142857142857142,
          0.07142857142857142,
          0.07142857142857142,
          0,
          0,
          0,
          0,
          0,
          0,
          0,
          0,
          0,
          0,
          0,
          0,
          0,
          0,
          0
         ],
         "yaxis": "y"
        },
        {
         "customdata": [
          [
           "Antoine Griezmann",
           "Atletico Madrid,Barcelona"
          ]
         ],
         "hovertemplate": "team_title=%{customdata[1]}<br>team_goals=%{x}<br>goal_weight_team=%{y}<br>player_name=%{customdata[0]}<extra></extra>",
         "legendgroup": "Atletico Madrid,Barcelona",
         "marker": {
          "color": "#FF97FF",
          "opacity": 0.5,
          "symbol": "circle"
         },
         "mode": "markers",
         "name": "Atletico Madrid,Barcelona",
         "orientation": "v",
         "showlegend": true,
         "type": "scatter",
         "x": [
          3
         ],
         "xaxis": "x",
         "y": [
          1
         ],
         "yaxis": "y"
        },
        {
         "customdata": [
          [
           "Iñaki Williams",
           "Athletic Club"
          ],
          [
           "Raúl García",
           "Athletic Club"
          ],
          [
           "Muniain",
           "Athletic Club"
          ],
          [
           "Iñigo Martínez",
           "Athletic Club"
          ],
          [
           "Dani Vivian",
           "Athletic Club"
          ],
          [
           "Dani García",
           "Athletic Club"
          ],
          [
           "Balenziaga",
           "Athletic Club"
          ],
          [
           "Íñigo Lekue",
           "Athletic Club"
          ],
          [
           "De Marcos",
           "Athletic Club"
          ],
          [
           "Yeray Álvarez",
           "Athletic Club"
          ],
          [
           "Mikel Vesga",
           "Athletic Club"
          ],
          [
           "Alex Berenguer",
           "Athletic Club"
          ],
          [
           "Asier Villalibre",
           "Athletic Club"
          ],
          [
           "Unai Simón",
           "Athletic Club"
          ],
          [
           "Unai Núñez",
           "Athletic Club"
          ],
          [
           "Oihan Sancet",
           "Athletic Club"
          ],
          [
           "Unai Vencedor",
           "Athletic Club"
          ],
          [
           "Jon Morcillo",
           "Athletic Club"
          ],
          [
           "Oier Zarraga",
           "Athletic Club"
          ],
          [
           "Nico Williams",
           "Athletic Club"
          ],
          [
           "Julen Agirrezabala",
           "Athletic Club"
          ],
          [
           "Nicolás Serrano",
           "Athletic Club"
          ],
          [
           "Alex Petxarromán",
           "Athletic Club"
          ]
         ],
         "hovertemplate": "team_title=%{customdata[1]}<br>team_goals=%{x}<br>goal_weight_team=%{y}<br>player_name=%{customdata[0]}<extra></extra>",
         "legendgroup": "Athletic Club",
         "marker": {
          "color": "#FECB52",
          "opacity": 0.5,
          "symbol": "circle"
         },
         "mode": "markers",
         "name": "Athletic Club",
         "orientation": "v",
         "showlegend": true,
         "type": "scatter",
         "x": [
          11,
          11,
          11,
          11,
          11,
          11,
          11,
          11,
          11,
          11,
          11,
          11,
          11,
          11,
          11,
          11,
          11,
          11,
          11,
          11,
          11,
          11,
          11
         ],
         "xaxis": "x",
         "y": [
          0.2727272727272727,
          0.2727272727272727,
          0.18181818181818182,
          0.18181818181818182,
          0.09090909090909091,
          0,
          0,
          0,
          0,
          0,
          0,
          0,
          0,
          0,
          0,
          0,
          0,
          0,
          0,
          0,
          0,
          0,
          0
         ],
         "yaxis": "y"
        },
        {
         "customdata": [
          [
           "Kike García",
           "Osasuna"
          ],
          [
           "David García",
           "Osasuna"
          ],
          [
           "Roberto Torres",
           "Osasuna"
          ],
          [
           "Ezequiel Ávila",
           "Osasuna"
          ],
          [
           "José Ángel",
           "Osasuna"
          ],
          [
           "Lucas Torró",
           "Osasuna"
          ],
          [
           "Manuel Sánchez",
           "Osasuna"
          ],
          [
           "Jon Moncayola",
           "Osasuna"
          ],
          [
           "Iñigo Pérez",
           "Osasuna"
          ],
          [
           "Javi Martínez",
           "Osasuna"
          ],
          [
           "Ante Budimir",
           "Osasuna"
          ],
          [
           "Robert Ibáñez",
           "Osasuna"
          ],
          [
           "Rubén García",
           "Osasuna"
          ],
          [
           "Javi Ontiveros",
           "Osasuna"
          ],
          [
           "Darko Brasanac",
           "Osasuna"
          ],
          [
           "Oier",
           "Osasuna"
          ],
          [
           "Kike Barja",
           "Osasuna"
          ],
          [
           "Unai García",
           "Osasuna"
          ],
          [
           "Nacho Vidal",
           "Osasuna"
          ],
          [
           "Juan Pérez",
           "Osasuna"
          ],
          [
           "Aridane Hernández",
           "Osasuna"
          ],
          [
           "Sergio Herrera",
           "Osasuna"
          ],
          [
           "Juan Cruz",
           "Osasuna"
          ],
          [
           "Jesús Areso",
           "Osasuna"
          ],
          [
           "Barbero",
           "Osasuna"
          ],
          [
           "Jaume Grau",
           "Osasuna"
          ]
         ],
         "hovertemplate": "team_title=%{customdata[1]}<br>team_goals=%{x}<br>goal_weight_team=%{y}<br>player_name=%{customdata[0]}<extra></extra>",
         "legendgroup": "Osasuna",
         "marker": {
          "color": "#636efa",
          "opacity": 0.5,
          "symbol": "circle"
         },
         "mode": "markers",
         "name": "Osasuna",
         "orientation": "v",
         "showlegend": true,
         "type": "scatter",
         "x": [
          14,
          14,
          14,
          14,
          14,
          14,
          14,
          14,
          14,
          14,
          14,
          14,
          14,
          14,
          14,
          14,
          14,
          14,
          14,
          14,
          14,
          14,
          14,
          14,
          14,
          14
         ],
         "xaxis": "x",
         "y": [
          0.14285714285714285,
          0.14285714285714285,
          0.14285714285714285,
          0.14285714285714285,
          0.07142857142857142,
          0.07142857142857142,
          0.07142857142857142,
          0.07142857142857142,
          0.07142857142857142,
          0.07142857142857142,
          0,
          0,
          0,
          0,
          0,
          0,
          0,
          0,
          0,
          0,
          0,
          0,
          0,
          0,
          0,
          0
         ],
         "yaxis": "y"
        },
        {
         "customdata": [
          [
           "Iddrisu Baba",
           "Mallorca"
          ],
          [
           "Dani Rodríguez",
           "Mallorca"
          ],
          [
           "Fernando Niño",
           "Mallorca"
          ],
          [
           "Pablo Maffeo",
           "Mallorca"
          ],
          [
           "Salva Sevilla",
           "Mallorca"
          ],
          [
           "Ángel",
           "Mallorca"
          ],
          [
           "Lee Kang-In",
           "Mallorca"
          ],
          [
           "Abdón Prats",
           "Mallorca"
          ],
          [
           "Brian Oliván",
           "Mallorca"
          ],
          [
           "Antonio Sánchez",
           "Mallorca"
          ],
          [
           "Amath Diedhiou",
           "Mallorca"
          ],
          [
           "Jaume Costa",
           "Mallorca"
          ],
          [
           "Raíllo",
           "Mallorca"
          ],
          [
           "Jordi Mboula",
           "Mallorca"
          ],
          [
           "Manolo Reina",
           "Mallorca"
          ],
          [
           "Joan Sastre",
           "Mallorca"
          ],
          [
           "Martin Valjent",
           "Mallorca"
          ],
          [
           "Aleix Febas",
           "Mallorca"
          ],
          [
           "Lago Junior",
           "Mallorca"
          ],
          [
           "Aleksander Sedlar",
           "Mallorca"
          ],
          [
           "Takefusa Kubo",
           "Mallorca"
          ],
          [
           "Rodrigo Battaglia",
           "Mallorca"
          ],
          [
           "Matthew Hoppe",
           "Mallorca"
          ],
          [
           "Inigo Ruiz de Galarreta",
           "Mallorca"
          ],
          [
           "Dominik Greif",
           "Mallorca"
          ],
          [
           "Franco Russo",
           "Mallorca"
          ],
          [
           "Josep Gayá",
           "Mallorca"
          ]
         ],
         "hovertemplate": "team_title=%{customdata[1]}<br>team_goals=%{x}<br>goal_weight_team=%{y}<br>player_name=%{customdata[0]}<extra></extra>",
         "legendgroup": "Mallorca",
         "marker": {
          "color": "#EF553B",
          "opacity": 0.5,
          "symbol": "circle"
         },
         "mode": "markers",
         "name": "Mallorca",
         "orientation": "v",
         "showlegend": true,
         "type": "scatter",
         "x": [
          13,
          13,
          13,
          13,
          13,
          13,
          13,
          13,
          13,
          13,
          13,
          13,
          13,
          13,
          13,
          13,
          13,
          13,
          13,
          13,
          13,
          13,
          13,
          13,
          13,
          13,
          13
         ],
         "xaxis": "x",
         "y": [
          0.15384615384615385,
          0.15384615384615385,
          0.15384615384615385,
          0.07692307692307693,
          0.07692307692307693,
          0.07692307692307693,
          0.07692307692307693,
          0.07692307692307693,
          0.07692307692307693,
          0.07692307692307693,
          0,
          0,
          0,
          0,
          0,
          0,
          0,
          0,
          0,
          0,
          0,
          0,
          0,
          0,
          0,
          0,
          0
         ],
         "yaxis": "y"
        },
        {
         "customdata": [
          [
           "Dimitri Foulquier",
           "Granada,Valencia"
          ]
         ],
         "hovertemplate": "team_title=%{customdata[1]}<br>team_goals=%{x}<br>goal_weight_team=%{y}<br>player_name=%{customdata[0]}<extra></extra>",
         "legendgroup": "Granada,Valencia",
         "marker": {
          "color": "#00cc96",
          "opacity": 0.5,
          "symbol": "circle"
         },
         "mode": "markers",
         "name": "Granada,Valencia",
         "orientation": "v",
         "showlegend": true,
         "type": "scatter",
         "x": [
          0
         ],
         "xaxis": "x",
         "y": [
          null
         ],
         "yaxis": "y"
        },
        {
         "customdata": [
          [
           "Rubén Sobrino",
           "Cadiz,Valencia"
          ]
         ],
         "hovertemplate": "team_title=%{customdata[1]}<br>team_goals=%{x}<br>goal_weight_team=%{y}<br>player_name=%{customdata[0]}<extra></extra>",
         "legendgroup": "Cadiz,Valencia",
         "marker": {
          "color": "#ab63fa",
          "opacity": 0.5,
          "symbol": "circle"
         },
         "mode": "markers",
         "name": "Cadiz,Valencia",
         "orientation": "v",
         "showlegend": true,
         "type": "scatter",
         "x": [
          0
         ],
         "xaxis": "x",
         "y": [
          null
         ],
         "yaxis": "y"
        },
        {
         "customdata": [
          [
           "Loren Morón",
           "Espanyol,Real Betis"
          ]
         ],
         "hovertemplate": "team_title=%{customdata[1]}<br>team_goals=%{x}<br>goal_weight_team=%{y}<br>player_name=%{customdata[0]}<extra></extra>",
         "legendgroup": "Espanyol,Real Betis",
         "marker": {
          "color": "#FFA15A",
          "opacity": 0.5,
          "symbol": "circle"
         },
         "mode": "markers",
         "name": "Espanyol,Real Betis",
         "orientation": "v",
         "showlegend": true,
         "type": "scatter",
         "x": [
          0
         ],
         "xaxis": "x",
         "y": [
          null
         ],
         "yaxis": "y"
        }
       ],
       "layout": {
        "legend": {
         "title": {
          "text": "team_title"
         },
         "tracegroupgap": 0
        },
        "margin": {
         "t": 60
        },
        "template": {
         "data": {
          "bar": [
           {
            "error_x": {
             "color": "#2a3f5f"
            },
            "error_y": {
             "color": "#2a3f5f"
            },
            "marker": {
             "line": {
              "color": "#E5ECF6",
              "width": 0.5
             }
            },
            "type": "bar"
           }
          ],
          "barpolar": [
           {
            "marker": {
             "line": {
              "color": "#E5ECF6",
              "width": 0.5
             }
            },
            "type": "barpolar"
           }
          ],
          "carpet": [
           {
            "aaxis": {
             "endlinecolor": "#2a3f5f",
             "gridcolor": "white",
             "linecolor": "white",
             "minorgridcolor": "white",
             "startlinecolor": "#2a3f5f"
            },
            "baxis": {
             "endlinecolor": "#2a3f5f",
             "gridcolor": "white",
             "linecolor": "white",
             "minorgridcolor": "white",
             "startlinecolor": "#2a3f5f"
            },
            "type": "carpet"
           }
          ],
          "choropleth": [
           {
            "colorbar": {
             "outlinewidth": 0,
             "ticks": ""
            },
            "type": "choropleth"
           }
          ],
          "contour": [
           {
            "colorbar": {
             "outlinewidth": 0,
             "ticks": ""
            },
            "colorscale": [
             [
              0,
              "#0d0887"
             ],
             [
              0.1111111111111111,
              "#46039f"
             ],
             [
              0.2222222222222222,
              "#7201a8"
             ],
             [
              0.3333333333333333,
              "#9c179e"
             ],
             [
              0.4444444444444444,
              "#bd3786"
             ],
             [
              0.5555555555555556,
              "#d8576b"
             ],
             [
              0.6666666666666666,
              "#ed7953"
             ],
             [
              0.7777777777777778,
              "#fb9f3a"
             ],
             [
              0.8888888888888888,
              "#fdca26"
             ],
             [
              1,
              "#f0f921"
             ]
            ],
            "type": "contour"
           }
          ],
          "contourcarpet": [
           {
            "colorbar": {
             "outlinewidth": 0,
             "ticks": ""
            },
            "type": "contourcarpet"
           }
          ],
          "heatmap": [
           {
            "colorbar": {
             "outlinewidth": 0,
             "ticks": ""
            },
            "colorscale": [
             [
              0,
              "#0d0887"
             ],
             [
              0.1111111111111111,
              "#46039f"
             ],
             [
              0.2222222222222222,
              "#7201a8"
             ],
             [
              0.3333333333333333,
              "#9c179e"
             ],
             [
              0.4444444444444444,
              "#bd3786"
             ],
             [
              0.5555555555555556,
              "#d8576b"
             ],
             [
              0.6666666666666666,
              "#ed7953"
             ],
             [
              0.7777777777777778,
              "#fb9f3a"
             ],
             [
              0.8888888888888888,
              "#fdca26"
             ],
             [
              1,
              "#f0f921"
             ]
            ],
            "type": "heatmap"
           }
          ],
          "heatmapgl": [
           {
            "colorbar": {
             "outlinewidth": 0,
             "ticks": ""
            },
            "colorscale": [
             [
              0,
              "#0d0887"
             ],
             [
              0.1111111111111111,
              "#46039f"
             ],
             [
              0.2222222222222222,
              "#7201a8"
             ],
             [
              0.3333333333333333,
              "#9c179e"
             ],
             [
              0.4444444444444444,
              "#bd3786"
             ],
             [
              0.5555555555555556,
              "#d8576b"
             ],
             [
              0.6666666666666666,
              "#ed7953"
             ],
             [
              0.7777777777777778,
              "#fb9f3a"
             ],
             [
              0.8888888888888888,
              "#fdca26"
             ],
             [
              1,
              "#f0f921"
             ]
            ],
            "type": "heatmapgl"
           }
          ],
          "histogram": [
           {
            "marker": {
             "colorbar": {
              "outlinewidth": 0,
              "ticks": ""
             }
            },
            "type": "histogram"
           }
          ],
          "histogram2d": [
           {
            "colorbar": {
             "outlinewidth": 0,
             "ticks": ""
            },
            "colorscale": [
             [
              0,
              "#0d0887"
             ],
             [
              0.1111111111111111,
              "#46039f"
             ],
             [
              0.2222222222222222,
              "#7201a8"
             ],
             [
              0.3333333333333333,
              "#9c179e"
             ],
             [
              0.4444444444444444,
              "#bd3786"
             ],
             [
              0.5555555555555556,
              "#d8576b"
             ],
             [
              0.6666666666666666,
              "#ed7953"
             ],
             [
              0.7777777777777778,
              "#fb9f3a"
             ],
             [
              0.8888888888888888,
              "#fdca26"
             ],
             [
              1,
              "#f0f921"
             ]
            ],
            "type": "histogram2d"
           }
          ],
          "histogram2dcontour": [
           {
            "colorbar": {
             "outlinewidth": 0,
             "ticks": ""
            },
            "colorscale": [
             [
              0,
              "#0d0887"
             ],
             [
              0.1111111111111111,
              "#46039f"
             ],
             [
              0.2222222222222222,
              "#7201a8"
             ],
             [
              0.3333333333333333,
              "#9c179e"
             ],
             [
              0.4444444444444444,
              "#bd3786"
             ],
             [
              0.5555555555555556,
              "#d8576b"
             ],
             [
              0.6666666666666666,
              "#ed7953"
             ],
             [
              0.7777777777777778,
              "#fb9f3a"
             ],
             [
              0.8888888888888888,
              "#fdca26"
             ],
             [
              1,
              "#f0f921"
             ]
            ],
            "type": "histogram2dcontour"
           }
          ],
          "mesh3d": [
           {
            "colorbar": {
             "outlinewidth": 0,
             "ticks": ""
            },
            "type": "mesh3d"
           }
          ],
          "parcoords": [
           {
            "line": {
             "colorbar": {
              "outlinewidth": 0,
              "ticks": ""
             }
            },
            "type": "parcoords"
           }
          ],
          "pie": [
           {
            "automargin": true,
            "type": "pie"
           }
          ],
          "scatter": [
           {
            "marker": {
             "colorbar": {
              "outlinewidth": 0,
              "ticks": ""
             }
            },
            "type": "scatter"
           }
          ],
          "scatter3d": [
           {
            "line": {
             "colorbar": {
              "outlinewidth": 0,
              "ticks": ""
             }
            },
            "marker": {
             "colorbar": {
              "outlinewidth": 0,
              "ticks": ""
             }
            },
            "type": "scatter3d"
           }
          ],
          "scattercarpet": [
           {
            "marker": {
             "colorbar": {
              "outlinewidth": 0,
              "ticks": ""
             }
            },
            "type": "scattercarpet"
           }
          ],
          "scattergeo": [
           {
            "marker": {
             "colorbar": {
              "outlinewidth": 0,
              "ticks": ""
             }
            },
            "type": "scattergeo"
           }
          ],
          "scattergl": [
           {
            "marker": {
             "colorbar": {
              "outlinewidth": 0,
              "ticks": ""
             }
            },
            "type": "scattergl"
           }
          ],
          "scattermapbox": [
           {
            "marker": {
             "colorbar": {
              "outlinewidth": 0,
              "ticks": ""
             }
            },
            "type": "scattermapbox"
           }
          ],
          "scatterpolar": [
           {
            "marker": {
             "colorbar": {
              "outlinewidth": 0,
              "ticks": ""
             }
            },
            "type": "scatterpolar"
           }
          ],
          "scatterpolargl": [
           {
            "marker": {
             "colorbar": {
              "outlinewidth": 0,
              "ticks": ""
             }
            },
            "type": "scatterpolargl"
           }
          ],
          "scatterternary": [
           {
            "marker": {
             "colorbar": {
              "outlinewidth": 0,
              "ticks": ""
             }
            },
            "type": "scatterternary"
           }
          ],
          "surface": [
           {
            "colorbar": {
             "outlinewidth": 0,
             "ticks": ""
            },
            "colorscale": [
             [
              0,
              "#0d0887"
             ],
             [
              0.1111111111111111,
              "#46039f"
             ],
             [
              0.2222222222222222,
              "#7201a8"
             ],
             [
              0.3333333333333333,
              "#9c179e"
             ],
             [
              0.4444444444444444,
              "#bd3786"
             ],
             [
              0.5555555555555556,
              "#d8576b"
             ],
             [
              0.6666666666666666,
              "#ed7953"
             ],
             [
              0.7777777777777778,
              "#fb9f3a"
             ],
             [
              0.8888888888888888,
              "#fdca26"
             ],
             [
              1,
              "#f0f921"
             ]
            ],
            "type": "surface"
           }
          ],
          "table": [
           {
            "cells": {
             "fill": {
              "color": "#EBF0F8"
             },
             "line": {
              "color": "white"
             }
            },
            "header": {
             "fill": {
              "color": "#C8D4E3"
             },
             "line": {
              "color": "white"
             }
            },
            "type": "table"
           }
          ]
         },
         "layout": {
          "annotationdefaults": {
           "arrowcolor": "#2a3f5f",
           "arrowhead": 0,
           "arrowwidth": 1
          },
          "autotypenumbers": "strict",
          "coloraxis": {
           "colorbar": {
            "outlinewidth": 0,
            "ticks": ""
           }
          },
          "colorscale": {
           "diverging": [
            [
             0,
             "#8e0152"
            ],
            [
             0.1,
             "#c51b7d"
            ],
            [
             0.2,
             "#de77ae"
            ],
            [
             0.3,
             "#f1b6da"
            ],
            [
             0.4,
             "#fde0ef"
            ],
            [
             0.5,
             "#f7f7f7"
            ],
            [
             0.6,
             "#e6f5d0"
            ],
            [
             0.7,
             "#b8e186"
            ],
            [
             0.8,
             "#7fbc41"
            ],
            [
             0.9,
             "#4d9221"
            ],
            [
             1,
             "#276419"
            ]
           ],
           "sequential": [
            [
             0,
             "#0d0887"
            ],
            [
             0.1111111111111111,
             "#46039f"
            ],
            [
             0.2222222222222222,
             "#7201a8"
            ],
            [
             0.3333333333333333,
             "#9c179e"
            ],
            [
             0.4444444444444444,
             "#bd3786"
            ],
            [
             0.5555555555555556,
             "#d8576b"
            ],
            [
             0.6666666666666666,
             "#ed7953"
            ],
            [
             0.7777777777777778,
             "#fb9f3a"
            ],
            [
             0.8888888888888888,
             "#fdca26"
            ],
            [
             1,
             "#f0f921"
            ]
           ],
           "sequentialminus": [
            [
             0,
             "#0d0887"
            ],
            [
             0.1111111111111111,
             "#46039f"
            ],
            [
             0.2222222222222222,
             "#7201a8"
            ],
            [
             0.3333333333333333,
             "#9c179e"
            ],
            [
             0.4444444444444444,
             "#bd3786"
            ],
            [
             0.5555555555555556,
             "#d8576b"
            ],
            [
             0.6666666666666666,
             "#ed7953"
            ],
            [
             0.7777777777777778,
             "#fb9f3a"
            ],
            [
             0.8888888888888888,
             "#fdca26"
            ],
            [
             1,
             "#f0f921"
            ]
           ]
          },
          "colorway": [
           "#636efa",
           "#EF553B",
           "#00cc96",
           "#ab63fa",
           "#FFA15A",
           "#19d3f3",
           "#FF6692",
           "#B6E880",
           "#FF97FF",
           "#FECB52"
          ],
          "font": {
           "color": "#2a3f5f"
          },
          "geo": {
           "bgcolor": "white",
           "lakecolor": "white",
           "landcolor": "#E5ECF6",
           "showlakes": true,
           "showland": true,
           "subunitcolor": "white"
          },
          "hoverlabel": {
           "align": "left"
          },
          "hovermode": "closest",
          "mapbox": {
           "style": "light"
          },
          "paper_bgcolor": "white",
          "plot_bgcolor": "#E5ECF6",
          "polar": {
           "angularaxis": {
            "gridcolor": "white",
            "linecolor": "white",
            "ticks": ""
           },
           "bgcolor": "#E5ECF6",
           "radialaxis": {
            "gridcolor": "white",
            "linecolor": "white",
            "ticks": ""
           }
          },
          "scene": {
           "xaxis": {
            "backgroundcolor": "#E5ECF6",
            "gridcolor": "white",
            "gridwidth": 2,
            "linecolor": "white",
            "showbackground": true,
            "ticks": "",
            "zerolinecolor": "white"
           },
           "yaxis": {
            "backgroundcolor": "#E5ECF6",
            "gridcolor": "white",
            "gridwidth": 2,
            "linecolor": "white",
            "showbackground": true,
            "ticks": "",
            "zerolinecolor": "white"
           },
           "zaxis": {
            "backgroundcolor": "#E5ECF6",
            "gridcolor": "white",
            "gridwidth": 2,
            "linecolor": "white",
            "showbackground": true,
            "ticks": "",
            "zerolinecolor": "white"
           }
          },
          "shapedefaults": {
           "line": {
            "color": "#2a3f5f"
           }
          },
          "ternary": {
           "aaxis": {
            "gridcolor": "white",
            "linecolor": "white",
            "ticks": ""
           },
           "baxis": {
            "gridcolor": "white",
            "linecolor": "white",
            "ticks": ""
           },
           "bgcolor": "#E5ECF6",
           "caxis": {
            "gridcolor": "white",
            "linecolor": "white",
            "ticks": ""
           }
          },
          "title": {
           "x": 0.05
          },
          "xaxis": {
           "automargin": true,
           "gridcolor": "white",
           "linecolor": "white",
           "ticks": "",
           "title": {
            "standoff": 15
           },
           "zerolinecolor": "white",
           "zerolinewidth": 2
          },
          "yaxis": {
           "automargin": true,
           "gridcolor": "white",
           "linecolor": "white",
           "ticks": "",
           "title": {
            "standoff": 15
           },
           "zerolinecolor": "white",
           "zerolinewidth": 2
          }
         }
        },
        "xaxis": {
         "anchor": "y",
         "domain": [
          0,
          1
         ],
         "title": {
          "text": "team_goals"
         }
        },
        "yaxis": {
         "anchor": "x",
         "domain": [
          0,
          1
         ],
         "title": {
          "text": "goal_weight_team"
         }
        }
       }
      }
     },
     "metadata": {},
     "output_type": "display_data"
    }
   ],
   "source": [
    "px.scatter(df_all_players,x='team_goals',y='goal_weight_team',\n",
    "            hover_data=['player_name','team_title'],color='team_title',opacity=0.5)"
   ]
  },
  {
   "cell_type": "code",
   "execution_count": 67,
   "metadata": {},
   "outputs": [
    {
     "data": {
      "text/html": [
       "<div>\n",
       "<style scoped>\n",
       "    .dataframe tbody tr th:only-of-type {\n",
       "        vertical-align: middle;\n",
       "    }\n",
       "\n",
       "    .dataframe tbody tr th {\n",
       "        vertical-align: top;\n",
       "    }\n",
       "\n",
       "    .dataframe thead th {\n",
       "        text-align: right;\n",
       "    }\n",
       "</style>\n",
       "<table border=\"1\" class=\"dataframe\">\n",
       "  <thead>\n",
       "    <tr style=\"text-align: right;\">\n",
       "      <th></th>\n",
       "      <th>xG</th>\n",
       "      <th>goals</th>\n",
       "    </tr>\n",
       "    <tr>\n",
       "      <th>team_title</th>\n",
       "      <th></th>\n",
       "      <th></th>\n",
       "    </tr>\n",
       "  </thead>\n",
       "  <tbody>\n",
       "    <tr>\n",
       "      <th>Real Madrid</th>\n",
       "      <td>27.069543</td>\n",
       "      <td>34.0</td>\n",
       "    </tr>\n",
       "    <tr>\n",
       "      <th>Barcelona</th>\n",
       "      <td>25.968419</td>\n",
       "      <td>23.0</td>\n",
       "    </tr>\n",
       "    <tr>\n",
       "      <th>Real Betis</th>\n",
       "      <td>23.522487</td>\n",
       "      <td>25.0</td>\n",
       "    </tr>\n",
       "    <tr>\n",
       "      <th>Sevilla</th>\n",
       "      <td>21.821351</td>\n",
       "      <td>22.0</td>\n",
       "    </tr>\n",
       "    <tr>\n",
       "      <th>Rayo Vallecano</th>\n",
       "      <td>20.756283</td>\n",
       "      <td>23.0</td>\n",
       "    </tr>\n",
       "    <tr>\n",
       "      <th>Athletic Club</th>\n",
       "      <td>20.609461</td>\n",
       "      <td>11.0</td>\n",
       "    </tr>\n",
       "    <tr>\n",
       "      <th>Atletico Madrid</th>\n",
       "      <td>20.124744</td>\n",
       "      <td>21.0</td>\n",
       "    </tr>\n",
       "    <tr>\n",
       "      <th>Villarreal</th>\n",
       "      <td>20.031008</td>\n",
       "      <td>16.0</td>\n",
       "    </tr>\n",
       "    <tr>\n",
       "      <th>Real Sociedad</th>\n",
       "      <td>19.294626</td>\n",
       "      <td>19.0</td>\n",
       "    </tr>\n",
       "    <tr>\n",
       "      <th>Celta Vigo</th>\n",
       "      <td>18.564107</td>\n",
       "      <td>16.0</td>\n",
       "    </tr>\n",
       "    <tr>\n",
       "      <th>Valencia</th>\n",
       "      <td>17.651871</td>\n",
       "      <td>16.0</td>\n",
       "    </tr>\n",
       "    <tr>\n",
       "      <th>Levante</th>\n",
       "      <td>16.543375</td>\n",
       "      <td>13.0</td>\n",
       "    </tr>\n",
       "    <tr>\n",
       "      <th>Mallorca</th>\n",
       "      <td>15.775785</td>\n",
       "      <td>13.0</td>\n",
       "    </tr>\n",
       "    <tr>\n",
       "      <th>Espanyol</th>\n",
       "      <td>15.564765</td>\n",
       "      <td>15.0</td>\n",
       "    </tr>\n",
       "    <tr>\n",
       "      <th>Osasuna</th>\n",
       "      <td>14.948120</td>\n",
       "      <td>14.0</td>\n",
       "    </tr>\n",
       "    <tr>\n",
       "      <th>Alaves</th>\n",
       "      <td>14.780167</td>\n",
       "      <td>11.0</td>\n",
       "    </tr>\n",
       "    <tr>\n",
       "      <th>Cadiz</th>\n",
       "      <td>14.608536</td>\n",
       "      <td>12.0</td>\n",
       "    </tr>\n",
       "    <tr>\n",
       "      <th>Granada</th>\n",
       "      <td>12.774482</td>\n",
       "      <td>14.0</td>\n",
       "    </tr>\n",
       "    <tr>\n",
       "      <th>Elche</th>\n",
       "      <td>10.903456</td>\n",
       "      <td>11.0</td>\n",
       "    </tr>\n",
       "    <tr>\n",
       "      <th>Getafe</th>\n",
       "      <td>9.759939</td>\n",
       "      <td>10.0</td>\n",
       "    </tr>\n",
       "    <tr>\n",
       "      <th>Atletico Madrid,Barcelona</th>\n",
       "      <td>3.492514</td>\n",
       "      <td>3.0</td>\n",
       "    </tr>\n",
       "    <tr>\n",
       "      <th>Getafe,Valencia</th>\n",
       "      <td>1.662894</td>\n",
       "      <td>4.0</td>\n",
       "    </tr>\n",
       "    <tr>\n",
       "      <th>Cadiz,Valencia</th>\n",
       "      <td>1.491827</td>\n",
       "      <td>0.0</td>\n",
       "    </tr>\n",
       "    <tr>\n",
       "      <th>Espanyol,Real Betis</th>\n",
       "      <td>0.623600</td>\n",
       "      <td>0.0</td>\n",
       "    </tr>\n",
       "    <tr>\n",
       "      <th>Granada,Valencia</th>\n",
       "      <td>0.202047</td>\n",
       "      <td>0.0</td>\n",
       "    </tr>\n",
       "  </tbody>\n",
       "</table>\n",
       "</div>"
      ],
      "text/plain": [
       "                                  xG  goals\n",
       "team_title                                 \n",
       "Real Madrid                27.069543   34.0\n",
       "Barcelona                  25.968419   23.0\n",
       "Real Betis                 23.522487   25.0\n",
       "Sevilla                    21.821351   22.0\n",
       "Rayo Vallecano             20.756283   23.0\n",
       "Athletic Club              20.609461   11.0\n",
       "Atletico Madrid            20.124744   21.0\n",
       "Villarreal                 20.031008   16.0\n",
       "Real Sociedad              19.294626   19.0\n",
       "Celta Vigo                 18.564107   16.0\n",
       "Valencia                   17.651871   16.0\n",
       "Levante                    16.543375   13.0\n",
       "Mallorca                   15.775785   13.0\n",
       "Espanyol                   15.564765   15.0\n",
       "Osasuna                    14.948120   14.0\n",
       "Alaves                     14.780167   11.0\n",
       "Cadiz                      14.608536   12.0\n",
       "Granada                    12.774482   14.0\n",
       "Elche                      10.903456   11.0\n",
       "Getafe                      9.759939   10.0\n",
       "Atletico Madrid,Barcelona   3.492514    3.0\n",
       "Getafe,Valencia             1.662894    4.0\n",
       "Cadiz,Valencia              1.491827    0.0\n",
       "Espanyol,Real Betis         0.623600    0.0\n",
       "Granada,Valencia            0.202047    0.0"
      ]
     },
     "execution_count": 67,
     "metadata": {},
     "output_type": "execute_result"
    }
   ],
   "source": [
    "df_all_players.groupby('team_title')[['xG','goals']].sum().sort_values(by='xG',ascending=False)"
   ]
  },
  {
   "cell_type": "code",
   "execution_count": null,
   "metadata": {},
   "outputs": [],
   "source": []
  },
  {
   "cell_type": "code",
   "execution_count": null,
   "metadata": {},
   "outputs": [],
   "source": []
  },
  {
   "cell_type": "code",
   "execution_count": null,
   "metadata": {},
   "outputs": [],
   "source": []
  },
  {
   "cell_type": "code",
   "execution_count": null,
   "metadata": {},
   "outputs": [],
   "source": []
  },
  {
   "cell_type": "code",
   "execution_count": 8,
   "metadata": {},
   "outputs": [
    {
     "data": {
      "text/html": [
       "<div>\n",
       "<style scoped>\n",
       "    .dataframe tbody tr th:only-of-type {\n",
       "        vertical-align: middle;\n",
       "    }\n",
       "\n",
       "    .dataframe tbody tr th {\n",
       "        vertical-align: top;\n",
       "    }\n",
       "\n",
       "    .dataframe thead th {\n",
       "        text-align: right;\n",
       "    }\n",
       "</style>\n",
       "<table border=\"1\" class=\"dataframe\">\n",
       "  <thead>\n",
       "    <tr style=\"text-align: right;\">\n",
       "      <th></th>\n",
       "      <th>138</th>\n",
       "      <th>140</th>\n",
       "      <th>141</th>\n",
       "      <th>142</th>\n",
       "      <th>143</th>\n",
       "      <th>145</th>\n",
       "      <th>146</th>\n",
       "      <th>147</th>\n",
       "      <th>148</th>\n",
       "      <th>150</th>\n",
       "      <th>151</th>\n",
       "      <th>152</th>\n",
       "      <th>153</th>\n",
       "      <th>154</th>\n",
       "      <th>155</th>\n",
       "      <th>157</th>\n",
       "      <th>158</th>\n",
       "      <th>207</th>\n",
       "      <th>239</th>\n",
       "      <th>261</th>\n",
       "    </tr>\n",
       "  </thead>\n",
       "  <tbody>\n",
       "    <tr>\n",
       "      <th>id</th>\n",
       "      <td>138</td>\n",
       "      <td>140</td>\n",
       "      <td>141</td>\n",
       "      <td>142</td>\n",
       "      <td>143</td>\n",
       "      <td>145</td>\n",
       "      <td>146</td>\n",
       "      <td>147</td>\n",
       "      <td>148</td>\n",
       "      <td>150</td>\n",
       "      <td>151</td>\n",
       "      <td>152</td>\n",
       "      <td>153</td>\n",
       "      <td>154</td>\n",
       "      <td>155</td>\n",
       "      <td>157</td>\n",
       "      <td>158</td>\n",
       "      <td>207</td>\n",
       "      <td>239</td>\n",
       "      <td>261</td>\n",
       "    </tr>\n",
       "    <tr>\n",
       "      <th>title</th>\n",
       "      <td>Sevilla</td>\n",
       "      <td>Real Sociedad</td>\n",
       "      <td>Espanyol</td>\n",
       "      <td>Getafe</td>\n",
       "      <td>Atletico Madrid</td>\n",
       "      <td>Rayo Vallecano</td>\n",
       "      <td>Valencia</td>\n",
       "      <td>Athletic Club</td>\n",
       "      <td>Barcelona</td>\n",
       "      <td>Real Madrid</td>\n",
       "      <td>Levante</td>\n",
       "      <td>Celta Vigo</td>\n",
       "      <td>Real Betis</td>\n",
       "      <td>Villarreal</td>\n",
       "      <td>Granada</td>\n",
       "      <td>Osasuna</td>\n",
       "      <td>Alaves</td>\n",
       "      <td>Elche</td>\n",
       "      <td>Mallorca</td>\n",
       "      <td>Cadiz</td>\n",
       "    </tr>\n",
       "    <tr>\n",
       "      <th>history</th>\n",
       "      <td>[{'h_a': 'h', 'xG': 3.67402, 'xGA': 0.484078, ...</td>\n",
       "      <td>[{'h_a': 'a', 'xG': 0.902312, 'xGA': 3.46484, ...</td>\n",
       "      <td>[{'h_a': 'a', 'xG': 0.583698, 'xGA': 0.579404,...</td>\n",
       "      <td>[{'h_a': 'a', 'xG': 1.19326, 'xGA': 1.57861, '...</td>\n",
       "      <td>[{'h_a': 'a', 'xG': 1.805, 'xGA': 1.59399, 'np...</td>\n",
       "      <td>[{'h_a': 'a', 'xG': 0.484078, 'xGA': 3.67402, ...</td>\n",
       "      <td>[{'h_a': 'h', 'xG': 1.57861, 'xGA': 1.19326, '...</td>\n",
       "      <td>[{'h_a': 'a', 'xG': 0.634866, 'xGA': 0.933565,...</td>\n",
       "      <td>[{'h_a': 'h', 'xG': 3.46484, 'xGA': 0.902312, ...</td>\n",
       "      <td>[{'h_a': 'a', 'xG': 2.15551, 'xGA': 1.41097, '...</td>\n",
       "      <td>[{'h_a': 'a', 'xG': 0.915954, 'xGA': 0.993589,...</td>\n",
       "      <td>[{'h_a': 'h', 'xG': 1.59399, 'xGA': 1.805, 'np...</td>\n",
       "      <td>[{'h_a': 'a', 'xG': 0.814085, 'xGA': 0.569578,...</td>\n",
       "      <td>[{'h_a': 'h', 'xG': 1.21791, 'xGA': 0.246735, ...</td>\n",
       "      <td>[{'h_a': 'a', 'xG': 0.246735, 'xGA': 1.21791, ...</td>\n",
       "      <td>[{'h_a': 'h', 'xG': 0.579404, 'xGA': 0.583698,...</td>\n",
       "      <td>[{'h_a': 'h', 'xG': 1.41097, 'xGA': 2.15551, '...</td>\n",
       "      <td>[{'h_a': 'h', 'xG': 0.933565, 'xGA': 0.634866,...</td>\n",
       "      <td>[{'h_a': 'h', 'xG': 0.569578, 'xGA': 0.814085,...</td>\n",
       "      <td>[{'h_a': 'h', 'xG': 0.993589, 'xGA': 0.915954,...</td>\n",
       "    </tr>\n",
       "  </tbody>\n",
       "</table>\n",
       "</div>"
      ],
      "text/plain": [
       "                                                       138  \\\n",
       "id                                                     138   \n",
       "title                                              Sevilla   \n",
       "history  [{'h_a': 'h', 'xG': 3.67402, 'xGA': 0.484078, ...   \n",
       "\n",
       "                                                       140  \\\n",
       "id                                                     140   \n",
       "title                                        Real Sociedad   \n",
       "history  [{'h_a': 'a', 'xG': 0.902312, 'xGA': 3.46484, ...   \n",
       "\n",
       "                                                       141  \\\n",
       "id                                                     141   \n",
       "title                                             Espanyol   \n",
       "history  [{'h_a': 'a', 'xG': 0.583698, 'xGA': 0.579404,...   \n",
       "\n",
       "                                                       142  \\\n",
       "id                                                     142   \n",
       "title                                               Getafe   \n",
       "history  [{'h_a': 'a', 'xG': 1.19326, 'xGA': 1.57861, '...   \n",
       "\n",
       "                                                       143  \\\n",
       "id                                                     143   \n",
       "title                                      Atletico Madrid   \n",
       "history  [{'h_a': 'a', 'xG': 1.805, 'xGA': 1.59399, 'np...   \n",
       "\n",
       "                                                       145  \\\n",
       "id                                                     145   \n",
       "title                                       Rayo Vallecano   \n",
       "history  [{'h_a': 'a', 'xG': 0.484078, 'xGA': 3.67402, ...   \n",
       "\n",
       "                                                       146  \\\n",
       "id                                                     146   \n",
       "title                                             Valencia   \n",
       "history  [{'h_a': 'h', 'xG': 1.57861, 'xGA': 1.19326, '...   \n",
       "\n",
       "                                                       147  \\\n",
       "id                                                     147   \n",
       "title                                        Athletic Club   \n",
       "history  [{'h_a': 'a', 'xG': 0.634866, 'xGA': 0.933565,...   \n",
       "\n",
       "                                                       148  \\\n",
       "id                                                     148   \n",
       "title                                            Barcelona   \n",
       "history  [{'h_a': 'h', 'xG': 3.46484, 'xGA': 0.902312, ...   \n",
       "\n",
       "                                                       150  \\\n",
       "id                                                     150   \n",
       "title                                          Real Madrid   \n",
       "history  [{'h_a': 'a', 'xG': 2.15551, 'xGA': 1.41097, '...   \n",
       "\n",
       "                                                       151  \\\n",
       "id                                                     151   \n",
       "title                                              Levante   \n",
       "history  [{'h_a': 'a', 'xG': 0.915954, 'xGA': 0.993589,...   \n",
       "\n",
       "                                                       152  \\\n",
       "id                                                     152   \n",
       "title                                           Celta Vigo   \n",
       "history  [{'h_a': 'h', 'xG': 1.59399, 'xGA': 1.805, 'np...   \n",
       "\n",
       "                                                       153  \\\n",
       "id                                                     153   \n",
       "title                                           Real Betis   \n",
       "history  [{'h_a': 'a', 'xG': 0.814085, 'xGA': 0.569578,...   \n",
       "\n",
       "                                                       154  \\\n",
       "id                                                     154   \n",
       "title                                           Villarreal   \n",
       "history  [{'h_a': 'h', 'xG': 1.21791, 'xGA': 0.246735, ...   \n",
       "\n",
       "                                                       155  \\\n",
       "id                                                     155   \n",
       "title                                              Granada   \n",
       "history  [{'h_a': 'a', 'xG': 0.246735, 'xGA': 1.21791, ...   \n",
       "\n",
       "                                                       157  \\\n",
       "id                                                     157   \n",
       "title                                              Osasuna   \n",
       "history  [{'h_a': 'h', 'xG': 0.579404, 'xGA': 0.583698,...   \n",
       "\n",
       "                                                       158  \\\n",
       "id                                                     158   \n",
       "title                                               Alaves   \n",
       "history  [{'h_a': 'h', 'xG': 1.41097, 'xGA': 2.15551, '...   \n",
       "\n",
       "                                                       207  \\\n",
       "id                                                     207   \n",
       "title                                                Elche   \n",
       "history  [{'h_a': 'h', 'xG': 0.933565, 'xGA': 0.634866,...   \n",
       "\n",
       "                                                       239  \\\n",
       "id                                                     239   \n",
       "title                                             Mallorca   \n",
       "history  [{'h_a': 'h', 'xG': 0.569578, 'xGA': 0.814085,...   \n",
       "\n",
       "                                                       261  \n",
       "id                                                     261  \n",
       "title                                                Cadiz  \n",
       "history  [{'h_a': 'h', 'xG': 0.993589, 'xGA': 0.915954,...  "
      ]
     },
     "execution_count": 8,
     "metadata": {},
     "output_type": "execute_result"
    }
   ],
   "source": [
    "df_teams=process_data(resp,'teamsData')\n",
    "df_teams\n"
   ]
  }
 ],
 "metadata": {
  "interpreter": {
   "hash": "823d061b5e3a31b4d04d511827f73df2411762593847ec402fccd13be66f404c"
  },
  "kernelspec": {
   "display_name": "Python 3.8.5 64-bit ('dhdsblend2021': conda)",
   "name": "python3"
  },
  "language_info": {
   "codemirror_mode": {
    "name": "ipython",
    "version": 3
   },
   "file_extension": ".py",
   "mimetype": "text/x-python",
   "name": "python",
   "nbconvert_exporter": "python",
   "pygments_lexer": "ipython3",
   "version": "3.8.5"
  },
  "orig_nbformat": 4
 },
 "nbformat": 4,
 "nbformat_minor": 2
}
