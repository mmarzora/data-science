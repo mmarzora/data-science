{
 "cells": [
  {
   "cell_type": "code",
   "execution_count": 2,
   "metadata": {},
   "outputs": [],
   "source": [
    "import sqlite3\n",
    "import pandas as pd\n",
    "import numpy as np\n",
    "import matplotlib.pyplot as plt\n",
    "import seaborn as sns\n",
    "import plotly.express as px\n"
   ]
  },
  {
   "cell_type": "code",
   "execution_count": 3,
   "metadata": {},
   "outputs": [
    {
     "name": "stdout",
     "output_type": "stream",
     "text": [
      "Number of movies: 131\n"
     ]
    },
    {
     "data": {
      "text/html": [
       "<div>\n",
       "<style scoped>\n",
       "    .dataframe tbody tr th:only-of-type {\n",
       "        vertical-align: middle;\n",
       "    }\n",
       "\n",
       "    .dataframe tbody tr th {\n",
       "        vertical-align: top;\n",
       "    }\n",
       "\n",
       "    .dataframe thead th {\n",
       "        text-align: right;\n",
       "    }\n",
       "</style>\n",
       "<table border=\"1\" class=\"dataframe\">\n",
       "  <thead>\n",
       "    <tr style=\"text-align: right;\">\n",
       "      <th></th>\n",
       "      <th>id</th>\n",
       "      <th>title</th>\n",
       "      <th>description</th>\n",
       "      <th>release_year</th>\n",
       "      <th>poster_url</th>\n",
       "      <th>genres</th>\n",
       "      <th>runtime_minutes</th>\n",
       "      <th>rating</th>\n",
       "      <th>embedding</th>\n",
       "      <th>watchmode_id</th>\n",
       "      <th>created_at</th>\n",
       "      <th>updated_at</th>\n",
       "    </tr>\n",
       "  </thead>\n",
       "  <tbody>\n",
       "    <tr>\n",
       "      <th>0</th>\n",
       "      <td>1</td>\n",
       "      <td>A Minecraft Movie</td>\n",
       "      <td>Four misfits find themselves struggling with o...</td>\n",
       "      <td>2025</td>\n",
       "      <td>https://cdn.watchmode.com/posters/01687959_pos...</td>\n",
       "      <td>[\"Family\",\"Comedy\",\"Adventure\",\"Fantasy\"]</td>\n",
       "      <td>101.0</td>\n",
       "      <td>5.9</td>\n",
       "      <td>b'\\xc2iz=\\xb6\\xf7{\\xbc%\\xdb\\xca&lt;\\xdb\\x13\\x9c\\x...</td>\n",
       "      <td>1687959</td>\n",
       "      <td>2025-06-01 01:49:26</td>\n",
       "      <td>2025-06-01 03:41:26</td>\n",
       "    </tr>\n",
       "    <tr>\n",
       "      <th>1</th>\n",
       "      <td>2</td>\n",
       "      <td>Final Destination Bloodlines</td>\n",
       "      <td>Plagued by a violent recurring nightmare, coll...</td>\n",
       "      <td>2025</td>\n",
       "      <td>https://cdn.watchmode.com/posters/01567833_pos...</td>\n",
       "      <td>[\"Horror\",\"Mystery\"]</td>\n",
       "      <td>110.0</td>\n",
       "      <td>7.2</td>\n",
       "      <td>b'\\xad\\x98\\xee\\xbc\\x87\\xe5*\\xbd\\x8b\\x08\\xa1\\xb...</td>\n",
       "      <td>1567833</td>\n",
       "      <td>2025-06-01 01:49:26</td>\n",
       "      <td>2025-06-01 03:41:26</td>\n",
       "    </tr>\n",
       "    <tr>\n",
       "      <th>2</th>\n",
       "      <td>3</td>\n",
       "      <td>Novocaine</td>\n",
       "      <td>When the girl of his dreams is kidnapped, ever...</td>\n",
       "      <td>2025</td>\n",
       "      <td>https://cdn.watchmode.com/posters/01884650_pos...</td>\n",
       "      <td>[\"Action\",\"Comedy\",\"Thriller\"]</td>\n",
       "      <td>110.0</td>\n",
       "      <td>6.7</td>\n",
       "      <td>b'\\n|\\x93\\xbd\\xce\\xb1\\xe6\\xbc\\x8aR@\\xbd6\\xba\\x...</td>\n",
       "      <td>1884650</td>\n",
       "      <td>2025-06-01 01:49:26</td>\n",
       "      <td>2025-06-01 03:41:26</td>\n",
       "    </tr>\n",
       "    <tr>\n",
       "      <th>3</th>\n",
       "      <td>4</td>\n",
       "      <td>A Working Man</td>\n",
       "      <td>Levon Cade left behind a decorated military ca...</td>\n",
       "      <td>2025</td>\n",
       "      <td>https://cdn.watchmode.com/posters/01758068_pos...</td>\n",
       "      <td>[\"Action\",\"Crime\",\"Thriller\"]</td>\n",
       "      <td>116.0</td>\n",
       "      <td>5.9</td>\n",
       "      <td>b'\\xdf^\\x06\\xbe\\xbc\\x11C\\xbc\\x1fK\\xd5\\xbd\\x10D...</td>\n",
       "      <td>1758068</td>\n",
       "      <td>2025-06-01 01:49:26</td>\n",
       "      <td>2025-06-01 03:41:27</td>\n",
       "    </tr>\n",
       "    <tr>\n",
       "      <th>4</th>\n",
       "      <td>5</td>\n",
       "      <td>Warfare</td>\n",
       "      <td>A platoon of Navy SEALs embarks on a dangerous...</td>\n",
       "      <td>2025</td>\n",
       "      <td>https://cdn.watchmode.com/posters/01788689_pos...</td>\n",
       "      <td>[\"War\",\"Action\"]</td>\n",
       "      <td>95.0</td>\n",
       "      <td>7.6</td>\n",
       "      <td>b'\\x9fb\\xb7&lt;\\x88\\x17)\\xbc\\xdd\\x89\\x15\\xbd+\\xfc...</td>\n",
       "      <td>1788689</td>\n",
       "      <td>2025-06-01 01:49:26</td>\n",
       "      <td>2025-06-01 03:41:27</td>\n",
       "    </tr>\n",
       "  </tbody>\n",
       "</table>\n",
       "</div>"
      ],
      "text/plain": [
       "   id                         title  \\\n",
       "0   1             A Minecraft Movie   \n",
       "1   2  Final Destination Bloodlines   \n",
       "2   3                     Novocaine   \n",
       "3   4                 A Working Man   \n",
       "4   5                       Warfare   \n",
       "\n",
       "                                         description  release_year  \\\n",
       "0  Four misfits find themselves struggling with o...          2025   \n",
       "1  Plagued by a violent recurring nightmare, coll...          2025   \n",
       "2  When the girl of his dreams is kidnapped, ever...          2025   \n",
       "3  Levon Cade left behind a decorated military ca...          2025   \n",
       "4  A platoon of Navy SEALs embarks on a dangerous...          2025   \n",
       "\n",
       "                                          poster_url  \\\n",
       "0  https://cdn.watchmode.com/posters/01687959_pos...   \n",
       "1  https://cdn.watchmode.com/posters/01567833_pos...   \n",
       "2  https://cdn.watchmode.com/posters/01884650_pos...   \n",
       "3  https://cdn.watchmode.com/posters/01758068_pos...   \n",
       "4  https://cdn.watchmode.com/posters/01788689_pos...   \n",
       "\n",
       "                                      genres  runtime_minutes  rating  \\\n",
       "0  [\"Family\",\"Comedy\",\"Adventure\",\"Fantasy\"]            101.0     5.9   \n",
       "1                       [\"Horror\",\"Mystery\"]            110.0     7.2   \n",
       "2             [\"Action\",\"Comedy\",\"Thriller\"]            110.0     6.7   \n",
       "3              [\"Action\",\"Crime\",\"Thriller\"]            116.0     5.9   \n",
       "4                           [\"War\",\"Action\"]             95.0     7.6   \n",
       "\n",
       "                                           embedding watchmode_id  \\\n",
       "0  b'\\xc2iz=\\xb6\\xf7{\\xbc%\\xdb\\xca<\\xdb\\x13\\x9c\\x...      1687959   \n",
       "1  b'\\xad\\x98\\xee\\xbc\\x87\\xe5*\\xbd\\x8b\\x08\\xa1\\xb...      1567833   \n",
       "2  b'\\n|\\x93\\xbd\\xce\\xb1\\xe6\\xbc\\x8aR@\\xbd6\\xba\\x...      1884650   \n",
       "3  b'\\xdf^\\x06\\xbe\\xbc\\x11C\\xbc\\x1fK\\xd5\\xbd\\x10D...      1758068   \n",
       "4  b'\\x9fb\\xb7<\\x88\\x17)\\xbc\\xdd\\x89\\x15\\xbd+\\xfc...      1788689   \n",
       "\n",
       "            created_at           updated_at  \n",
       "0  2025-06-01 01:49:26  2025-06-01 03:41:26  \n",
       "1  2025-06-01 01:49:26  2025-06-01 03:41:26  \n",
       "2  2025-06-01 01:49:26  2025-06-01 03:41:26  \n",
       "3  2025-06-01 01:49:26  2025-06-01 03:41:27  \n",
       "4  2025-06-01 01:49:26  2025-06-01 03:41:27  "
      ]
     },
     "metadata": {},
     "output_type": "display_data"
    }
   ],
   "source": [
    "\n",
    "\n",
    "# Connect to the SQLite database\n",
    "DB_PATH = '../moviematch/backend/src/database/movies.db'\n",
    "conn = sqlite3.connect(DB_PATH)\n",
    "\n",
    "# Read movies table into DataFrame \n",
    "movies_df = pd.read_sql_query(\"SELECT * FROM movies\", conn)\n",
    "\n",
    "print(f\"Number of movies: {len(movies_df)}\")\n",
    "\n",
    "# Display first few rows\n",
    "display(movies_df.head())"
   ]
  },
  {
   "cell_type": "code",
   "execution_count": 4,
   "metadata": {},
   "outputs": [
    {
     "data": {
      "text/plain": [
       "<Axes: xlabel='release_year'>"
      ]
     },
     "execution_count": 4,
     "metadata": {},
     "output_type": "execute_result"
    },
    {
     "data": {
      "image/png": "[encoded data removed]",
      "text/plain": [
       "<Figure size 640x480 with 1 Axes>"
      ]
     },
     "metadata": {},
     "output_type": "display_data"
    }
   ],
   "source": [
    "movies_df.groupby('release_year').size().plot(kind='bar')"
   ]
  },
  {
   "cell_type": "code",
   "execution_count": 5,
   "metadata": {},
   "outputs": [
    {
     "name": "stdout",
     "output_type": "stream",
     "text": [
      "\n",
      "Movies before 2023: 34\n"
     ]
    },
    {
     "data": {
      "text/html": [
       "<div>\n",
       "<style scoped>\n",
       "    .dataframe tbody tr th:only-of-type {\n",
       "        vertical-align: middle;\n",
       "    }\n",
       "\n",
       "    .dataframe tbody tr th {\n",
       "        vertical-align: top;\n",
       "    }\n",
       "\n",
       "    .dataframe thead th {\n",
       "        text-align: right;\n",
       "    }\n",
       "</style>\n",
       "<table border=\"1\" class=\"dataframe\">\n",
       "  <thead>\n",
       "    <tr style=\"text-align: right;\">\n",
       "      <th></th>\n",
       "      <th>title</th>\n",
       "      <th>release_year</th>\n",
       "      <th>rating</th>\n",
       "    </tr>\n",
       "  </thead>\n",
       "  <tbody>\n",
       "    <tr>\n",
       "      <th>116</th>\n",
       "      <td>MK Ultra</td>\n",
       "      <td>2022</td>\n",
       "      <td>5.2</td>\n",
       "    </tr>\n",
       "    <tr>\n",
       "      <th>119</th>\n",
       "      <td>Pleasure</td>\n",
       "      <td>2021</td>\n",
       "      <td>6.2</td>\n",
       "    </tr>\n",
       "    <tr>\n",
       "      <th>94</th>\n",
       "      <td>Ron's Gone Wrong</td>\n",
       "      <td>2021</td>\n",
       "      <td>7.3</td>\n",
       "    </tr>\n",
       "    <tr>\n",
       "      <th>79</th>\n",
       "      <td>Parasite</td>\n",
       "      <td>2019</td>\n",
       "      <td>8.6</td>\n",
       "    </tr>\n",
       "    <tr>\n",
       "      <th>96</th>\n",
       "      <td>Avengers: Infinity War</td>\n",
       "      <td>2018</td>\n",
       "      <td>8.5</td>\n",
       "    </tr>\n",
       "    <tr>\n",
       "      <th>120</th>\n",
       "      <td>Gerald's Game</td>\n",
       "      <td>2017</td>\n",
       "      <td>6.6</td>\n",
       "    </tr>\n",
       "    <tr>\n",
       "      <th>91</th>\n",
       "      <td>Spider-Man: Homecoming</td>\n",
       "      <td>2017</td>\n",
       "      <td>7.6</td>\n",
       "    </tr>\n",
       "    <tr>\n",
       "      <th>56</th>\n",
       "      <td>Wind River</td>\n",
       "      <td>2017</td>\n",
       "      <td>7.8</td>\n",
       "    </tr>\n",
       "    <tr>\n",
       "      <th>48</th>\n",
       "      <td>Wonder Woman</td>\n",
       "      <td>2017</td>\n",
       "      <td>7.5</td>\n",
       "    </tr>\n",
       "    <tr>\n",
       "      <th>130</th>\n",
       "      <td>The Accountant</td>\n",
       "      <td>2016</td>\n",
       "      <td>7.5</td>\n",
       "    </tr>\n",
       "    <tr>\n",
       "      <th>50</th>\n",
       "      <td>Spectre</td>\n",
       "      <td>2015</td>\n",
       "      <td>6.6</td>\n",
       "    </tr>\n",
       "    <tr>\n",
       "      <th>102</th>\n",
       "      <td>Mission: Impossible - Rogue Nation</td>\n",
       "      <td>2015</td>\n",
       "      <td>7.6</td>\n",
       "    </tr>\n",
       "    <tr>\n",
       "      <th>103</th>\n",
       "      <td>The Avengers</td>\n",
       "      <td>2012</td>\n",
       "      <td>7.8</td>\n",
       "    </tr>\n",
       "    <tr>\n",
       "      <th>46</th>\n",
       "      <td>Final Destination 5</td>\n",
       "      <td>2011</td>\n",
       "      <td>6.0</td>\n",
       "    </tr>\n",
       "    <tr>\n",
       "      <th>112</th>\n",
       "      <td>How to Train Your Dragon</td>\n",
       "      <td>2010</td>\n",
       "      <td>8.2</td>\n",
       "    </tr>\n",
       "    <tr>\n",
       "      <th>78</th>\n",
       "      <td>The Final Destination</td>\n",
       "      <td>2009</td>\n",
       "      <td>5.0</td>\n",
       "    </tr>\n",
       "    <tr>\n",
       "      <th>129</th>\n",
       "      <td>Twilight</td>\n",
       "      <td>2008</td>\n",
       "      <td>5.5</td>\n",
       "    </tr>\n",
       "    <tr>\n",
       "      <th>123</th>\n",
       "      <td>The Dark Knight</td>\n",
       "      <td>2008</td>\n",
       "      <td>9.2</td>\n",
       "    </tr>\n",
       "    <tr>\n",
       "      <th>73</th>\n",
       "      <td>Final Destination 3</td>\n",
       "      <td>2006</td>\n",
       "      <td>6.0</td>\n",
       "    </tr>\n",
       "    <tr>\n",
       "      <th>82</th>\n",
       "      <td>The Chronicles of Narnia: The Lion, the Witch ...</td>\n",
       "      <td>2005</td>\n",
       "      <td>6.8</td>\n",
       "    </tr>\n",
       "    <tr>\n",
       "      <th>106</th>\n",
       "      <td>Star Wars: Episode III - Revenge of the Sith</td>\n",
       "      <td>2005</td>\n",
       "      <td>7.4</td>\n",
       "    </tr>\n",
       "    <tr>\n",
       "      <th>81</th>\n",
       "      <td>The Room</td>\n",
       "      <td>2003</td>\n",
       "      <td>3.8</td>\n",
       "    </tr>\n",
       "    <tr>\n",
       "      <th>65</th>\n",
       "      <td>xXx</td>\n",
       "      <td>2002</td>\n",
       "      <td>6.0</td>\n",
       "    </tr>\n",
       "    <tr>\n",
       "      <th>114</th>\n",
       "      <td>Harry Potter and the Chamber of Secrets</td>\n",
       "      <td>2002</td>\n",
       "      <td>7.6</td>\n",
       "    </tr>\n",
       "    <tr>\n",
       "      <th>110</th>\n",
       "      <td>Shrek</td>\n",
       "      <td>2001</td>\n",
       "      <td>8.0</td>\n",
       "    </tr>\n",
       "    <tr>\n",
       "      <th>42</th>\n",
       "      <td>Final Destination</td>\n",
       "      <td>2000</td>\n",
       "      <td>6.8</td>\n",
       "    </tr>\n",
       "    <tr>\n",
       "      <th>117</th>\n",
       "      <td>Mission: Impossible II</td>\n",
       "      <td>2000</td>\n",
       "      <td>5.9</td>\n",
       "    </tr>\n",
       "    <tr>\n",
       "      <th>89</th>\n",
       "      <td>Fight Club</td>\n",
       "      <td>1999</td>\n",
       "      <td>8.7</td>\n",
       "    </tr>\n",
       "    <tr>\n",
       "      <th>118</th>\n",
       "      <td>The Matrix</td>\n",
       "      <td>1999</td>\n",
       "      <td>8.5</td>\n",
       "    </tr>\n",
       "    <tr>\n",
       "      <th>98</th>\n",
       "      <td>Titanic</td>\n",
       "      <td>1997</td>\n",
       "      <td>7.7</td>\n",
       "    </tr>\n",
       "    <tr>\n",
       "      <th>71</th>\n",
       "      <td>Mission: Impossible</td>\n",
       "      <td>1996</td>\n",
       "      <td>7.3</td>\n",
       "    </tr>\n",
       "    <tr>\n",
       "      <th>127</th>\n",
       "      <td>Star Wars</td>\n",
       "      <td>1977</td>\n",
       "      <td>8.7</td>\n",
       "    </tr>\n",
       "    <tr>\n",
       "      <th>107</th>\n",
       "      <td>The Godfather</td>\n",
       "      <td>1972</td>\n",
       "      <td>9.0</td>\n",
       "    </tr>\n",
       "    <tr>\n",
       "      <th>16</th>\n",
       "      <td>The Great Dictator</td>\n",
       "      <td>1940</td>\n",
       "      <td>8.5</td>\n",
       "    </tr>\n",
       "  </tbody>\n",
       "</table>\n",
       "</div>"
      ],
      "text/plain": [
       "                                                 title  release_year  rating\n",
       "116                                           MK Ultra          2022     5.2\n",
       "119                                           Pleasure          2021     6.2\n",
       "94                                    Ron's Gone Wrong          2021     7.3\n",
       "79                                            Parasite          2019     8.6\n",
       "96                              Avengers: Infinity War          2018     8.5\n",
       "120                                      Gerald's Game          2017     6.6\n",
       "91                              Spider-Man: Homecoming          2017     7.6\n",
       "56                                          Wind River          2017     7.8\n",
       "48                                        Wonder Woman          2017     7.5\n",
       "130                                     The Accountant          2016     7.5\n",
       "50                                             Spectre          2015     6.6\n",
       "102                 Mission: Impossible - Rogue Nation          2015     7.6\n",
       "103                                       The Avengers          2012     7.8\n",
       "46                                 Final Destination 5          2011     6.0\n",
       "112                           How to Train Your Dragon          2010     8.2\n",
       "78                               The Final Destination          2009     5.0\n",
       "129                                           Twilight          2008     5.5\n",
       "123                                    The Dark Knight          2008     9.2\n",
       "73                                 Final Destination 3          2006     6.0\n",
       "82   The Chronicles of Narnia: The Lion, the Witch ...          2005     6.8\n",
       "106       Star Wars: Episode III - Revenge of the Sith          2005     7.4\n",
       "81                                            The Room          2003     3.8\n",
       "65                                                 xXx          2002     6.0\n",
       "114            Harry Potter and the Chamber of Secrets          2002     7.6\n",
       "110                                              Shrek          2001     8.0\n",
       "42                                   Final Destination          2000     6.8\n",
       "117                             Mission: Impossible II          2000     5.9\n",
       "89                                          Fight Club          1999     8.7\n",
       "118                                         The Matrix          1999     8.5\n",
       "98                                             Titanic          1997     7.7\n",
       "71                                 Mission: Impossible          1996     7.3\n",
       "127                                          Star Wars          1977     8.7\n",
       "107                                      The Godfather          1972     9.0\n",
       "16                                  The Great Dictator          1940     8.5"
      ]
     },
     "metadata": {},
     "output_type": "display_data"
    }
   ],
   "source": [
    "# Filter for movies before 2023\n",
    "old_movies = movies_df[movies_df['release_year'] < 2023]\n",
    "\n",
    "print(f\"\\nMovies before 2023: {len(old_movies)}\")\n",
    "display(old_movies[['title', 'release_year', 'rating']].sort_values('release_year', ascending=False))\n"
   ]
  },
  {
   "cell_type": "code",
   "execution_count": 6,
   "metadata": {},
   "outputs": [
    {
     "name": "stdout",
     "output_type": "stream",
     "text": [
      "\n",
      "Most similar movies to 'The Matrix':\n",
      "\n",
      "Title | Release Year | Rating | Similarity Score\n",
      "------------------------------------------------------------\n",
      "A Working Man (2025) | Rating: 5.9 | Similarity: 0.447\n",
      "Havoc (2025) | Rating: 5.6 | Similarity: 0.390\n",
      "The Gorge (2025) | Rating: 6.9 | Similarity: 0.383\n",
      "Mission: Impossible II (2000) | Rating: 5.9 | Similarity: 0.372\n",
      "Fight or Flight (2024) | Rating: 6.6 | Similarity: 0.363\n",
      "\n",
      "Most similar movies to 'How to Train Your Dragon':\n",
      "\n",
      "Title | Release Year | Rating | Similarity Score\n",
      "------------------------------------------------------------\n",
      "The Lord of the Rings: The War of the Rohirrim (2024) | Rating: 6.5 | Similarity: 0.433\n",
      "Shrek (2001) | Rating: 8.0 | Similarity: 0.421\n",
      "Panda Bear in Africa (2024) | Rating: 5.7 | Similarity: 0.377\n",
      "Plankton: The Movie (2025) | Rating: 5.5 | Similarity: 0.315\n",
      "Death of a Unicorn (2025) | Rating: 6.1 | Similarity: 0.314\n"
     ]
    }
   ],
   "source": [
    "\n",
    "def find_similar_movies(title, df=movies_df, n=5):\n",
    "    \"\"\"\n",
    "    Find most similar movies to a given title based on embedding similarity.\n",
    "    \n",
    "    Args:\n",
    "        title (str): Title of the movie to find similarities for\n",
    "        df (DataFrame): DataFrame containing movie data\n",
    "        n (int): Number of similar movies to return\n",
    "    \"\"\"\n",
    "    # Find the movie in the dataframe\n",
    "    movie = df[df['title'] == title]\n",
    "    if len(movie) == 0:\n",
    "        print(f\"Movie '{title}' not found in database\")\n",
    "        return\n",
    "        \n",
    "    # Get the embedding for our target movie\n",
    "    target_embedding = np.frombuffer(movie.iloc[0]['embedding'], dtype=np.float32)\n",
    "    \n",
    "    # Calculate similarities with all other movies\n",
    "    similarities = []\n",
    "    for idx, row in df.iterrows():\n",
    "        if row['title'] != title:  # Skip comparing with itself\n",
    "            emb = np.frombuffer(row['embedding'], dtype=np.float32)\n",
    "            # Calculate cosine similarity\n",
    "            similarity = np.dot(target_embedding, emb) / (np.linalg.norm(target_embedding) * np.linalg.norm(emb))            \n",
    "            similarities.append((row['title'], similarity, row['release_year'], row['rating']))\n",
    "    \n",
    "    # Sort by similarity and get top N\n",
    "    similarities.sort(key=lambda x: x[1], reverse=True)\n",
    "    \n",
    "    print(f\"\\nMost similar movies to '{title}':\")\n",
    "    print(\"\\nTitle | Release Year | Rating | Similarity Score\")\n",
    "    print(\"-\" * 60)\n",
    "    for movie_title, sim, year, rating in similarities[:n]:\n",
    "        print(f\"{movie_title} ({year}) | Rating: {rating:.1f} | Similarity: {sim:.3f}\")\n",
    "\n",
    "# Example usage\n",
    "find_similar_movies(\"The Matrix\")\n",
    "find_similar_movies(\"How to Train Your Dragon\")\n",
    "\n"
   ]
  },
  {
   "cell_type": "code",
   "execution_count": 19,
   "metadata": {},
   "outputs": [
    {
     "name": "stdout",
     "output_type": "stream",
     "text": [
      "Movie Details:\n",
      "\n",
      "Title: The Matrix\n",
      "Description: Set in the 22nd century, The Matrix tells the story of a computer hacker who joins a group of underground insurgents fighting the vast and powerful computers who now rule the earth.\n",
      "Genres: [\"Action\",\"Science Fiction\"]\n",
      "\n",
      "\n",
      "Title: How to Train Your Dragon\n",
      "Description: As the son of a Viking leader on the cusp of manhood, shy Hiccup Horrendous Haddock III faces a rite of passage: he must kill a dragon to prove his warrior mettle. But after downing a feared dragon, he realizes that he no longer wants to destroy it, and instead befriends the beast – which he names Toothless – much to the chagrin of his warrior father.\n",
      "Genres: [\"Fantasy\",\"Adventure\",\"Animation\",\"Family\"]\n",
      "\n",
      "\n",
      "Title: Apocalypse Z: The Beginning of the End\n",
      "Description: When a kind of rabies that transforms people into aggressive creatures spreads across the planet, Manel isolates himself at home with his cat, relying on his wits to survive; but soon they must go out in search of food, by land and by sea, dodging many dangers.\n",
      "Genres: [\"Drama\",\"Action\",\"Horror\"]\n",
      "\n",
      "\n"
     ]
    }
   ],
   "source": [
    "# Get details for specific movies\n",
    "movies_to_check = [\"The Matrix\", \"How to Train Your Dragon\", \"Apocalypse Z: The Beginning of the End\"]\n",
    "\n",
    "print(\"Movie Details:\\n\")\n",
    "for title in movies_to_check:\n",
    "    movie = movies_df[movies_df['title'] == title]\n",
    "    if len(movie) > 0:\n",
    "        print(f\"Title: {movie.iloc[0]['title']}\")\n",
    "        print(f\"Description: {movie.iloc[0]['description']}\")\n",
    "        print(f\"Genres: {movie.iloc[0]['genres']}\")\n",
    "        print(\"\\n\")\n",
    "    else:\n",
    "        print(f\"Movie '{title}' not found in database\\n\")\n"
   ]
  },
  {
   "cell_type": "code",
   "execution_count": 8,
   "metadata": {},
   "outputs": [
    {
     "name": "stdout",
     "output_type": "stream",
     "text": [
      "Cosine similarity between The Lord of the Rings: The War of the Rohirrim and How to Train Your Dragon: 0.4335\n"
     ]
    },
    {
     "data": {
      "image/png": "[encoded data removed]",
      "text/plain": [
       "<Figure size 800x600 with 1 Axes>"
      ]
     },
     "metadata": {},
     "output_type": "display_data"
    },
    {
     "name": "stdout",
     "output_type": "stream",
     "text": [
      "\n",
      "The Lord of the Rings: The War of the Rohirrim:\n",
      "Genres: [\"Animation\",\"Fantasy\",\"Adventure\",\"Action\"]\n",
      "Description: A sudden attack by Wulf, a clever and traitorous lord of Rohan seeking vengeance for the death of his father, forces Helm Hammerhand, the King of Rohan, and his people to make a daring last stand in the ancient stronghold of the Hornburg.\n",
      "\n",
      "How to Train Your Dragon:\n",
      "Genres: [\"Fantasy\",\"Adventure\",\"Animation\",\"Family\"]\n",
      "Description: As the son of a Viking leader on the cusp of manhood, shy Hiccup Horrendous Haddock III faces a rite of passage: he must kill a dragon to prove his warrior mettle. But after downing a feared dragon, he realizes that he no longer wants to destroy it, and instead befriends the beast – which he names Toothless – much to the chagrin of his warrior father.\n"
     ]
    }
   ],
   "source": [
    "# --- New Analysis: Understanding Movie Embedding Similarity ---\n",
    "import numpy as np\n",
    "from sklearn.decomposition import PCA\n",
    "import matplotlib.pyplot as plt\n",
    "\n",
    "# 1. Print the embeddings for 'The Matrix' and 'How to Train Your Dragon'\n",
    "\n",
    "movie1 = 'The Lord of the Rings: The War of the Rohirrim'\n",
    "movie2 = 'How to Train Your Dragon'\n",
    "movie1_row = movies_df[movies_df['title'] == movie1].iloc[0]\n",
    "movie2_row = movies_df[movies_df['title'] == movie2].iloc[0]\n",
    "movie1_emb = np.frombuffer(movie1_row['embedding'], dtype=np.float32)\n",
    "movie2_emb = np.frombuffer(movie2_row['embedding'], dtype=np.float32)\n",
    "\n",
    "#print('Embedding for The Matrix:', movie1_emb)\n",
    "#print('Embedding for How to Train Your Dragon:', movie2_emb)\n",
    "\n",
    "# 2. Calculate and print their cosine similarity\n",
    "def cosine_similarity(a, b):\n",
    "    return np.dot(a, b) / (np.linalg.norm(a) * np.linalg.norm(b))\n",
    "\n",
    "sim = cosine_similarity(movie1_emb, movie2_emb)\n",
    "print(f'Cosine similarity between {movie1} and {movie2}: {sim:.4f}')\n",
    "\n",
    "# 3. Visualize the embeddings with PCA (for all movies, highlight these two)\n",
    "embeddings = np.stack([np.frombuffer(row['embedding'], dtype=np.float32) for _, row in movies_df.iterrows()])\n",
    "pca = PCA(n_components=2)\n",
    "embeddings_2d = pca.fit_transform(embeddings)\n",
    "\n",
    "plt.figure(figsize=(8,6))\n",
    "plt.scatter(embeddings_2d[:,0], embeddings_2d[:,1], alpha=0.5, label='Other movies')\n",
    "\n",
    "# Highlight the two movies\n",
    "movie1_idx = movies_df[movies_df['title'] == movie1].index[0]\n",
    "movie2_idx = movies_df[movies_df['title'] == movie2].index[0]\n",
    "plt.scatter(embeddings_2d[movie1_idx,0], embeddings_2d[movie1_idx,1], color='red', label=movie1, s=100)\n",
    "plt.scatter(embeddings_2d[movie2_idx,0], embeddings_2d[movie2_idx,1], color='blue', label=movie2, s=100)\n",
    "plt.legend()\n",
    "plt.title('PCA of Movie Embeddings')\n",
    "plt.xlabel('PC1')\n",
    "plt.ylabel('PC2')\n",
    "plt.show()\n",
    "\n",
    "# 4. Compare genres and descriptions\n",
    "print(f'\\n{movie1}:')\n",
    "print('Genres:', movie1_row['genres'])\n",
    "print('Description:', movie1_row['description'])\n",
    "print(f'\\n{movie2}:')\n",
    "print('Genres:', movie2_row['genres'])\n",
    "print('Description:', movie2_row['description'])"
   ]
  },
  {
   "cell_type": "code",
   "execution_count": 9,
   "metadata": {},
   "outputs": [
    {
     "name": "stdout",
     "output_type": "stream",
     "text": [
      "\n",
      "Average similarity between movies in each genre:\n",
      "\n",
      "Genre | Avg Similarity | Number of Movies\n",
      "---------------------------------------------\n",
      "War             | 0.3468 |   4 movies\n",
      "Western         | 0.3276 |   3 movies\n",
      "Horror          | 0.3188 |  24 movies\n",
      "Mystery         | 0.2939 |  15 movies\n",
      "Animation       | 0.2819 |  14 movies\n",
      "Crime           | 0.2801 |  17 movies\n",
      "Family          | 0.2761 |  15 movies\n",
      "Science Fiction | 0.2681 |  20 movies\n",
      "Fantasy         | 0.2663 |  20 movies\n",
      "Thriller        | 0.2615 |  50 movies\n",
      "Comedy          | 0.2534 |  26 movies\n",
      "Action          | 0.2420 |  61 movies\n",
      "Romance         | 0.2336 |   9 movies\n",
      "Adventure       | 0.2261 |  38 movies\n",
      "History         | 0.2070 |   3 movies\n",
      "Drama           | 0.1671 |  29 movies\n"
     ]
    }
   ],
   "source": [
    "# Calculate average similarity between movies of same genres\n",
    "genre_similarities = {}\n",
    "genre_counts = {}\n",
    "\n",
    "# First get all unique genres\n",
    "all_genres = set()\n",
    "for genres_str in movies_df['genres']:\n",
    "    genres = eval(genres_str)  # Convert string representation of list to actual list\n",
    "    all_genres.update(genres)\n",
    "\n",
    "# Calculate similarities between all movies sharing each genre\n",
    "for genre in all_genres:\n",
    "    # Get all movies with this genre\n",
    "    genre_movies = movies_df[movies_df['genres'].apply(lambda x: genre in eval(x))]\n",
    "    \n",
    "    if len(genre_movies) < 2:  # Skip if less than 2 movies in genre\n",
    "        continue\n",
    "        \n",
    "    # Calculate average similarity between all pairs of movies in this genre\n",
    "    similarities = []\n",
    "    movies_list = list(genre_movies.iterrows())\n",
    "    \n",
    "    for i in range(len(movies_list)):\n",
    "        for j in range(i+1, len(movies_list)):\n",
    "            movie1 = movies_list[i][1]\n",
    "            movie2 = movies_list[j][1]\n",
    "            \n",
    "            emb1 = np.frombuffer(movie1['embedding'], dtype=np.float32)\n",
    "            emb2 = np.frombuffer(movie2['embedding'], dtype=np.float32)\n",
    "            \n",
    "            sim = cosine_similarity(emb1, emb2)\n",
    "            similarities.append(sim)\n",
    "    \n",
    "    avg_similarity = np.mean(similarities)\n",
    "    genre_similarities[genre] = avg_similarity\n",
    "    genre_counts[genre] = len(genre_movies)\n",
    "\n",
    "# Sort genres by similarity\n",
    "sorted_genres = sorted(genre_similarities.items(), key=lambda x: x[1], reverse=True)\n",
    "\n",
    "# Print results\n",
    "print(\"\\nAverage similarity between movies in each genre:\")\n",
    "print(\"\\nGenre | Avg Similarity | Number of Movies\")\n",
    "print(\"-\" * 45)\n",
    "for genre, similarity in sorted_genres:\n",
    "    print(f\"{genre:<15} | {similarity:.4f} | {genre_counts[genre]:>3} movies\")\n",
    "\n"
   ]
  },
  {
   "cell_type": "code",
   "execution_count": 10,
   "metadata": {},
   "outputs": [
    {
     "data": {
      "image/png": "[encoded data removed]",
      "text/plain": [
       "<Figure size 1000x800 with 1 Axes>"
      ]
     },
     "metadata": {},
     "output_type": "display_data"
    },
    {
     "name": "stdout",
     "output_type": "stream",
     "text": [
      "\n",
      "Number of War movies: 4\n",
      "Average similarity between War movies: 0.3468\n",
      "\n",
      "Number of Adventure movies: 38\n",
      "Average similarity between Adventure movies: 0.2261\n"
     ]
    }
   ],
   "source": [
    "# Select two genres to highlight\n",
    "genre1 = \"War\"\n",
    "genre2 = \"Adventure\"\n",
    "\n",
    "# Create PCA plot with genre highlighting\n",
    "plt.figure(figsize=(10,8))\n",
    "\n",
    "# Plot all movies in gray first\n",
    "plt.scatter(embeddings_2d[:,0], embeddings_2d[:,1], color='lightgray', alpha=0.5, s=50)\n",
    "\n",
    "# Highlight movies from first genre in red\n",
    "genre1_mask = movies_df['genres'].apply(lambda x: genre1 in eval(x))\n",
    "genre1_movies_indices = movies_df[genre1_mask].index\n",
    "plt.scatter(embeddings_2d[genre1_movies_indices,0], embeddings_2d[genre1_movies_indices,1], \n",
    "           color='red', label=genre1, s=100)\n",
    "\n",
    "# Highlight movies from second genre in blue\n",
    "genre2_mask = movies_df['genres'].apply(lambda x: genre2 in eval(x))\n",
    "genre2_movies_indices = movies_df[genre2_mask].index\n",
    "plt.scatter(embeddings_2d[genre2_movies_indices,0], embeddings_2d[genre2_movies_indices,1],\n",
    "           color='blue', label=genre2, s=100)\n",
    "\n",
    "plt.title(f'PCA of Movie Embeddings\\nHighlighting {genre1} and {genre2} Movies')\n",
    "plt.xlabel('PC1')\n",
    "plt.ylabel('PC2')\n",
    "plt.legend()\n",
    "plt.show()\n",
    "\n",
    "# Print some stats about both highlighted genres\n",
    "print(f\"\\nNumber of {genre1} movies: {len(genre1_movies_indices)}\")\n",
    "print(f\"Average similarity between {genre1} movies: {genre_similarities[genre1]:.4f}\")\n",
    "print(f\"\\nNumber of {genre2} movies: {len(genre2_movies_indices)}\")\n",
    "print(f\"Average similarity between {genre2} movies: {genre_similarities[genre2]:.4f}\")\n"
   ]
  },
  {
   "cell_type": "code",
   "execution_count": 22,
   "metadata": {},
   "outputs": [
    {
     "data": {
      "application/vnd.plotly.v1+json": {
       "config": {
        "plotlyServerURL": "https://plot.ly"
       },
       "data": [
        {
         "customdata": [
          [
           "A Minecraft Movie",
           5.9,
           "[\"Family\",\"Comedy\",\"Adventure\",\"Fantasy\"]"
          ],
          [
           "Novocaine",
           6.7,
           "[\"Action\",\"Comedy\",\"Thriller\"]"
          ],
          [
           "Lilo & Stitch",
           7.2,
           "[\"Family\",\"Comedy\",\"Science Fiction\"]"
          ],
          [
           "Death of a Unicorn",
           6.1,
           "[\"Horror\",\"Fantasy\",\"Comedy\",\"Adventure\"]"
          ],
          [
           "The Great Dictator",
           8.5,
           "[\"Comedy\",\"War\"]"
          ],
          [
           "Another Simple Favor",
           5.4,
           "[\"Thriller\",\"Comedy\",\"Crime\"]"
          ],
          [
           "Moana 2",
           6.8,
           "[\"Animation\",\"Adventure\",\"Family\",\"Comedy\"]"
          ],
          [
           "Brave Citizen",
           6.7,
           "[\"Action\",\"Drama\",\"Comedy\"]"
          ],
          [
           "Sugar Baby",
           3.8,
           "[\"Thriller\",\"Comedy\"]"
          ],
          [
           "Sonic the Hedgehog 3",
           7.1,
           "[\"Action\",\"Science Fiction\",\"Comedy\",\"Family\"]"
          ],
          [
           "The Monkey",
           5.8,
           "[\"Horror\",\"Comedy\"]"
          ],
          [
           "Panda Bear in Africa",
           5.7,
           "[\"Animation\",\"Adventure\",\"Comedy\",\"Family\"]"
          ],
          [
           "¡Qué Huevos, Sofía!",
           6.3,
           "[\"Comedy\"]"
          ],
          [
           "Plankton: The Movie",
           5.5,
           "[\"Animation\",\"Adventure\",\"Comedy\",\"Family\",\"Fantasy\"]"
          ],
          [
           "Deadpool & Wolverine",
           7.7,
           "[\"Action\",\"Comedy\",\"Science Fiction\"]"
          ],
          [
           "Fight or Flight",
           6.6,
           "[\"Action\",\"Comedy\",\"Thriller\"]"
          ],
          [
           "Old Guy",
           5.4,
           "[\"Action\",\"Comedy\"]"
          ],
          [
           "Norbert",
           6.8,
           "[\"Animation\",\"Adventure\",\"Comedy\"]"
          ],
          [
           "Parasite",
           8.6,
           "[\"Comedy\",\"Thriller\",\"Drama\"]"
          ],
          [
           "Dog Man",
           6.5,
           "[\"Family\",\"Comedy\",\"Adventure\",\"Animation\"]"
          ],
          [
           "Ron's Gone Wrong",
           7.3,
           "[\"Animation\",\"Science Fiction\",\"Family\",\"Comedy\"]"
          ],
          [
           "Bad Boys: Ride or Die",
           6.7,
           "[\"Action\",\"Comedy\",\"Crime\",\"Thriller\",\"Adventure\"]"
          ],
          [
           "Heart Eyes",
           6.3,
           "[\"Horror\",\"Comedy\",\"Romance\"]"
          ],
          [
           "Shrek",
           8,
           "[\"Animation\",\"Comedy\",\"Fantasy\",\"Adventure\",\"Family\"]"
          ],
          [
           "Red One",
           6.5,
           "[\"Action\",\"Comedy\",\"Fantasy\"]"
          ],
          [
           "Barbie",
           7,
           "[\"Comedy\",\"Adventure\"]"
          ]
         ],
         "hovertemplate": "highlight=Comedy<br>PC1=%{x}<br>PC2=%{y}<br>title=%{customdata[0]}<br>rating=%{customdata[1]}<br>genres=%{customdata[2]}<extra></extra>",
         "legendgroup": "Comedy",
         "marker": {
          "color": "blue",
          "opacity": 0.7,
          "size": 10,
          "symbol": "circle"
         },
         "mode": "markers",
         "name": "Comedy",
         "orientation": "v",
         "showlegend": true,
         "type": "scatter",
         "x": {
          "bdata": "mU9EvvBiYL2X3ZK+NCCGvkpUxz3QMPW9B5RqvojXDz7zbnu+knkuPE0JML798oW+kAeIvjhGkr5Wwxw+OCvoPYG6oD3Fj3Y9DuAXvgKW5zu4F1G+MjyQu9tW+b1Fa5q+XKObvWRJnL4=",
          "dtype": "f4"
         },
         "xaxis": "x",
         "y": {
          "bdata": "C2YbPjMQ7r37KNY9LjMTPcwprD53wQe+vQaYPoKQqz2aOe691ld/PiGi7T2Dhdo+WcW+vc+KnT6Ihoo+4xY1vbWj3z3gOOo9eR1mvY5cOD4HEW4+bdAdPRYlEr5/ptg+N8S+PQvfoz4=",
          "dtype": "f4"
         },
         "yaxis": "y"
        },
        {
         "customdata": [
          [
           "Final Destination Bloodlines",
           7.2,
           "[\"Horror\",\"Mystery\"]"
          ],
          [
           "Until Dawn",
           6,
           "[\"Horror\",\"Mystery\"]"
          ],
          [
           "Fear Street: Prom Queen",
           5,
           "[\"Horror\",\"Mystery\"]"
          ],
          [
           "Ash",
           4.8,
           "[\"Science Fiction\",\"Horror\",\"Thriller\"]"
          ],
          [
           "Saint Catherine",
           4.4,
           "[\"Horror\"]"
          ],
          [
           "Sinners",
           8.2,
           "[\"Horror\",\"Thriller\"]"
          ],
          [
           "Peter Pan's Neverland Nightmare",
           5.2,
           "[\"Horror\",\"Thriller\",\"Fantasy\"]"
          ],
          [
           "Final Destination",
           6.8,
           "[\"Horror\"]"
          ],
          [
           "Home Sweet Home: Rebirth",
           4.8,
           "[\"Horror\",\"Fantasy\",\"Thriller\",\"Mystery\",\"Action\"]"
          ],
          [
           "Final Destination 5",
           6,
           "[\"Horror\",\"Mystery\"]"
          ],
          [
           "Rosario",
           4.2,
           "[\"Horror\"]"
          ],
          [
           "Companion",
           7.1,
           "[\"Horror\",\"Science Fiction\",\"Thriller\"]"
          ],
          [
           "Final Destination 3",
           6,
           "[\"Horror\",\"Mystery\"]"
          ],
          [
           "Turno nocturno",
           5.5,
           "[\"Horror\"]"
          ],
          [
           "The Final Destination",
           5,
           "[\"Horror\",\"Mystery\"]"
          ],
          [
           "Holy Night: Demon Hunters",
           5.2,
           "[\"Action\",\"Fantasy\",\"Horror\"]"
          ],
          [
           "Alien: Romulus",
           7.3,
           "[\"Horror\",\"Science Fiction\"]"
          ],
          [
           "Apocalypse Z: The Beginning of the End",
           6.3,
           "[\"Drama\",\"Action\",\"Horror\"]"
          ],
          [
           "Gerald's Game",
           6.6,
           "[\"Horror\",\"Thriller\"]"
          ],
          [
           "Heretic",
           7.1,
           "[\"Horror\",\"Thriller\"]"
          ],
          [
           "Piglet",
           2.5,
           "[\"Horror\"]"
          ]
         ],
         "hovertemplate": "highlight=Horror<br>PC1=%{x}<br>PC2=%{y}<br>title=%{customdata[0]}<br>rating=%{customdata[1]}<br>genres=%{customdata[2]}<extra></extra>",
         "legendgroup": "Horror",
         "marker": {
          "color": "red",
          "opacity": 0.7,
          "size": 10,
          "symbol": "circle"
         },
         "mode": "markers",
         "name": "Horror",
         "orientation": "v",
         "showlegend": true,
         "type": "scatter",
         "x": {
          "bdata": "E/BovkFAOb7LuOi9trqLvVRxqL4XZDS+5cqQvvUwBb0SL4+9tuTqt7CrFb6tc02+jdGMvrAIhr5tYti9QUWLPMSUODzIZrI8Al74vdK6DL3hhom+",
          "dtype": "f4"
         },
         "xaxis": "x",
         "y": {
          "bdata": "YBuevr8Pt77jhje+Dnc8vlZsrL5ljW6+PscgvTzIPb4Jnpe+O0crvue8q76zCny+rYwKvjCyk76FyYW+tsJwviZeuruXinY9ptcDvganur1I0/y9",
          "dtype": "f4"
         },
         "yaxis": "y"
        },
        {
         "customdata": [
          [
           "A Working Man",
           5.9,
           "[\"Action\",\"Crime\",\"Thriller\"]"
          ],
          [
           "Warfare",
           7.6,
           "[\"War\",\"Action\"]"
          ],
          [
           "Snow White",
           1.9,
           "[\"Family\",\"Fantasy\"]"
          ],
          [
           "Mission: Impossible - The Final Reckoning",
           7.6,
           "[\"Action\",\"Adventure\",\"Thriller\"]"
          ],
          [
           "Fountain of Youth",
           5.5,
           "[\"Adventure\",\"Fantasy\",\"Mystery\"]"
          ],
          [
           "The Legend of Ochi",
           6.1,
           "[\"Fantasy\",\"Adventure\",\"Family\"]"
          ],
          [
           "Day of Reckoning",
           4.2,
           "[\"Western\",\"Action\"]"
          ],
          [
           "Captain America: Brave New World",
           5.9,
           "[\"Action\",\"Thriller\",\"Science Fiction\"]"
          ],
          [
           "Conclave",
           7.6,
           "[\"Drama\",\"Thriller\",\"Mystery\"]"
          ],
          [
           "Bad Influence",
           4.4,
           "[\"Thriller\",\"Drama\",\"Romance\"]"
          ],
          [
           "Tin Soldier",
           3.6,
           "[\"Action\",\"Thriller\"]"
          ],
          [
           "Exterritorial",
           6,
           "[\"Thriller\",\"Action\"]"
          ],
          [
           "Thunderbolts*",
           7.8,
           "[\"Action\",\"Science Fiction\",\"Adventure\"]"
          ],
          [
           "Mufasa: The Lion King",
           6.8,
           "[\"Adventure\",\"Family\",\"Animation\"]"
          ],
          [
           "In the Lost Lands",
           4.9,
           "[\"Action\",\"Fantasy\",\"Adventure\"]"
          ],
          [
           "Last Bullet",
           6.5,
           "[\"Action\",\"Crime\",\"Thriller\",\"Drama\"]"
          ],
          [
           "Jewel Thief - The Heist Begins",
           4.3,
           "[\"Action\",\"Thriller\"]"
          ],
          [
           "Havoc",
           5.6,
           "[\"Action\",\"Crime\",\"Thriller\"]"
          ],
          [
           "Rust",
           5.5,
           "[\"Western\"]"
          ],
          [
           "Flight Risk",
           5.5,
           "[\"Action\",\"Thriller\"]"
          ],
          [
           "Bloody Escape: Bats out of Hell",
           5.5,
           "[\"Animation\",\"Action\",\"Science Fiction\"]"
          ],
          [
           "Karate Kid: Legends",
           6.8,
           "[\"Action\",\"Adventure\",\"Drama\"]"
          ],
          [
           "Deva",
           6.5,
           "[\"Action\",\"Thriller\",\"Mystery\",\"Crime\"]"
          ],
          [
           "Batman Ninja vs. Yakuza League",
           6.4,
           "[\"Animation\",\"Action\"]"
          ],
          [
           "Wonder Woman",
           7.5,
           "[\"Action\",\"Adventure\",\"Fantasy\"]"
          ],
          [
           "Spectre",
           6.6,
           "[\"Action\",\"Adventure\",\"Thriller\"]"
          ],
          [
           "Mission: Impossible - Dead Reckoning Part One",
           7.8,
           "[\"Action\",\"Adventure\",\"Thriller\"]"
          ],
          [
           "The Codes of War",
           5.4,
           "[\"Action\",\"War\"]"
          ],
          [
           "Gladiator II",
           6.7,
           "[\"Action\",\"Adventure\",\"Drama\"]"
          ],
          [
           "Venom: The Last Dance",
           6.2,
           "[\"Action\",\"Science Fiction\",\"Adventure\"]"
          ],
          [
           "Kraven the Hunter",
           5.7,
           "[\"Action\",\"Adventure\",\"Thriller\"]"
          ],
          [
           "Wind River",
           7.8,
           "[\"Crime\",\"Mystery\",\"Thriller\"]"
          ],
          [
           "Drop",
           6.3,
           "[\"Mystery\",\"Thriller\"]"
          ],
          [
           "Bullet Train Explosion",
           6.4,
           "[\"Action\",\"Thriller\",\"Crime\",\"Drama\"]"
          ],
          [
           "G20",
           5.3,
           "[\"Action\",\"Mystery\",\"Drama\"]"
          ],
          [
           "The Gorge",
           6.9,
           "[\"Romance\",\"Science Fiction\",\"Thriller\"]"
          ],
          [
           "My Fault",
           6.3,
           "[\"Romance\",\"Drama\"]"
          ],
          [
           "Oh, Canada",
           5.8,
           "[\"Drama\"]"
          ],
          [
           "xXx",
           6,
           "[\"Action\",\"Adventure\",\"Thriller\",\"Crime\"]"
          ],
          [
           "Locked",
           6,
           "[\"Thriller\"]"
          ],
          [
           "Carjackers",
           5.2,
           "[\"Action\",\"Adventure\"]"
          ],
          [
           "The Wild Robot",
           8.4,
           "[\"Animation\",\"Science Fiction\",\"Family\"]"
          ],
          [
           "Mission: Impossible",
           7.3,
           "[\"Adventure\",\"Action\",\"Thriller\"]"
          ],
          [
           "Desert Dawn",
           5.7,
           "[\"Action\",\"Crime\",\"Mystery\",\"Thriller\"]"
          ],
          [
           "Devara: Part 1",
           6.2,
           "[\"Action\",\"Drama\"]"
          ],
          [
           "Sky Force",
           6.7,
           "[\"Action\",\"Thriller\"]"
          ],
          [
           "The Room",
           3.8,
           "[\"Drama\",\"Romance\"]"
          ],
          [
           "The Chronicles of Narnia: The Lion, the Witch and the Wardrobe",
           6.8,
           "[\"Adventure\",\"Family\",\"Fantasy\"]"
          ],
          [
           "The Alto Knights",
           6,
           "[\"Crime\",\"Drama\",\"History\"]"
          ],
          [
           "Flow",
           8.1,
           "[\"Animation\",\"Fantasy\",\"Adventure\"]"
          ],
          [
           "The Accountant²",
           7.2,
           "[\"Crime\",\"Thriller\",\"Action\"]"
          ],
          [
           "The Vigilante",
           4.6,
           "[\"Thriller\",\"Action\"]"
          ],
          [
           "Gunslingers",
           3.8,
           "[\"Western\",\"Action\"]"
          ],
          [
           "Fight Club",
           8.7,
           "[\"Drama\"]"
          ],
          [
           "Your Fault",
           5.4,
           "[\"Romance\",\"Drama\"]"
          ],
          [
           "Spider-Man: Homecoming",
           7.6,
           "[\"Action\",\"Adventure\",\"Science Fiction\",\"Drama\"]"
          ],
          [
           "The Lord of the Rings: The War of the Rohirrim",
           6.5,
           "[\"Animation\",\"Fantasy\",\"Adventure\",\"Action\"]"
          ],
          [
           "Waves",
           7.8,
           "[\"Thriller\",\"Drama\",\"History\"]"
          ],
          [
           "John Wick: Chapter 4",
           7.8,
           "[\"Action\",\"Thriller\",\"Crime\"]"
          ],
          [
           "Avengers: Infinity War",
           8.5,
           "[\"Adventure\",\"Action\",\"Science Fiction\"]"
          ],
          [
           "Holland",
           4.8,
           "[\"Thriller\",\"Mystery\"]"
          ],
          [
           "Titanic",
           7.7,
           "[\"Drama\",\"Romance\"]"
          ],
          [
           "The Penguin Lessons",
           6.9,
           "[\"Drama\"]"
          ],
          [
           "Demon City",
           5.6,
           "[\"Action\",\"Crime\",\"Fantasy\",\"Thriller\"]"
          ],
          [
           "Mission: Impossible - Rogue Nation",
           7.6,
           "[\"Action\",\"Adventure\"]"
          ],
          [
           "The Avengers",
           7.8,
           "[\"Science Fiction\",\"Action\",\"Adventure\"]"
          ],
          [
           "Air Force Elite: Thunderbirds",
           7.3,
           "[\"Documentary\"]"
          ],
          [
           "Star Wars: Episode III - Revenge of the Sith",
           7.4,
           "[\"Adventure\",\"Action\",\"Science Fiction\"]"
          ],
          [
           "The Godfather",
           9,
           "[\"Drama\",\"Crime\"]"
          ],
          [
           "Oppenheimer",
           8.2,
           "[\"Drama\",\"History\"]"
          ],
          [
           "How to Train Your Dragon",
           8.2,
           "[\"Fantasy\",\"Adventure\",\"Animation\",\"Family\"]"
          ],
          [
           "The Goldsmith's Secret",
           6,
           "[\"Drama\",\"Romance\"]"
          ],
          [
           "Harry Potter and the Chamber of Secrets",
           7.6,
           "[\"Adventure\",\"Fantasy\"]"
          ],
          [
           "MK Ultra",
           5.2,
           "[\"Thriller\"]"
          ],
          [
           "Mission: Impossible II",
           5.9,
           "[\"Adventure\",\"Action\",\"Thriller\"]"
          ],
          [
           "The Matrix",
           8.5,
           "[\"Action\",\"Science Fiction\"]"
          ],
          [
           "Pleasure",
           6.2,
           "[\"Drama\"]"
          ],
          [
           "Dirty Angels",
           4.6,
           "[\"Action\",\"Drama\",\"Thriller\",\"War\"]"
          ],
          [
           "The Dark Knight",
           9.2,
           "[\"Drama\",\"Action\",\"Crime\",\"Thriller\"]"
          ],
          [
           "Carry-On",
           6.4,
           "[\"Thriller\",\"Action\"]"
          ],
          [
           "Elevation",
           5.8,
           "[\"Action\",\"Science Fiction\",\"Thriller\"]"
          ],
          [
           "Star Wars",
           8.7,
           "[\"Adventure\",\"Action\",\"Science Fiction\"]"
          ],
          [
           "Twilight",
           5.5,
           "[\"Fantasy\",\"Drama\",\"Romance\"]"
          ],
          [
           "The Accountant",
           7.5,
           "[\"Crime\",\"Thriller\",\"Drama\"]"
          ]
         ],
         "hovertemplate": "highlight=Other<br>PC1=%{x}<br>PC2=%{y}<br>title=%{customdata[0]}<br>rating=%{customdata[1]}<br>genres=%{customdata[2]}<extra></extra>",
         "legendgroup": "Other",
         "marker": {
          "color": "lightgray",
          "opacity": 0.7,
          "size": 10,
          "symbol": "circle"
         },
         "mode": "markers",
         "name": "Other",
         "orientation": "v",
         "showlegend": true,
         "type": "scatter",
         "x": {
          "bdata": "U4AhPsGtuj4u6Mq+SV+iPonT8bzSQZe+uhALPng2mD7aGh89ljZBPQAMfj5S7+Y9cLzGPSdZ+70enXu+FuZUPqS2ST4Oa4c+Y8QBPtnHpj4WcCs9MgOGPYAnoz2o0ho+2j8tvsccvT6sq8M+QjhuPjb/jj1xduk80ylEPcFusD2z86C+3a3oPaIs2D3GDDo9SJtzvpwnlb1PSoM+V504PZHrqj03CQ++Rg7ePubHAT340ku8GY6SPkyuNr7kgbC+qDY9PkZcn75oLB+8wulnPQ2cUj4VAGU+mM6FvlJEbT4uasa7F1IIPteTPj68PqM+NzYovhZmgL5e5+m9c1IRPbb+zz49WrI+jXqXPlPQWz5kL6s9VYVpPikurr2P3OS9TyXVvfrnZz4CEMM+qUqDPh3Mqr6mMqk9zwR1Phq8Gj4RIlu+lBrgPfWshb63BlE8",
          "dtype": "f4"
         },
         "xaxis": "x",
         "y": {
          "bdata": "YbEyvjtHBj7SSw8+LvwMvr5BxzzwXfI9R8v0vT7UbD4Vlwi+I82HvlOfAD6YxJG+ld3gvEI8oT4KZww8n8VSvRLvLb3TfzG++Km7POA4KL7HuQM+4o6FPj2UFb6gb6k+cj+XPs0uer5PJRC+4v5NPnP9az4KFZE93S9CvBWkMb6Wgmu+tIl3veUX1LwND8S9IKuQPUPNqT3xvcw90xCpPNFdo71H14U+dHsUvu07eL4aA9Q9eMYUPj4PC7yxLJo+OSAGvnoxij7oGFC+/S0+vp7LNzzPTdg7UnAvPPEOKz7gDKE+MyfbvcZHhLwEEX0+pZN9vle4Gj10Lcg9RQaSvnl/uDykrDA+roM7PnYbsj7yfR6+LsGBPgmx0T4wtWS+alA2Pd9Kzb1o32+8Gzt3vWtWhL2LWAC+S06LvaHcQ75zjEi9rsmVPl4UJr7rqRy+",
          "dtype": "f4"
         },
         "yaxis": "y"
        }
       ],
       "layout": {
        "legend": {
         "title": {
          "text": "highlight"
         },
         "tracegroupgap": 0
        },
        "shapes": [
         {
          "line": {
           "color": "gray",
           "dash": "dash"
          },
          "type": "line",
          "x0": 0,
          "x1": 1,
          "xref": "x domain",
          "y0": -0.01614750549197197,
          "y1": -0.01614750549197197,
          "yref": "y"
         },
         {
          "line": {
           "color": "gray",
           "dash": "dash"
          },
          "type": "line",
          "x0": 0.012757948599755764,
          "x1": 0.012757948599755764,
          "xref": "x",
          "y0": 0,
          "y1": 1,
          "yref": "y domain"
         }
        ],
        "template": {
         "data": {
          "bar": [
           {
            "error_x": {
             "color": "#2a3f5f"
            },
            "error_y": {
             "color": "#2a3f5f"
            },
            "marker": {
             "line": {
              "color": "#E5ECF6",
              "width": 0.5
             },
             "pattern": {
              "fillmode": "overlay",
              "size": 10,
              "solidity": 0.2
             }
            },
            "type": "bar"
           }
          ],
          "barpolar": [
           {
            "marker": {
             "line": {
              "color": "#E5ECF6",
              "width": 0.5
             },
             "pattern": {
              "fillmode": "overlay",
              "size": 10,
              "solidity": 0.2
             }
            },
            "type": "barpolar"
           }
          ],
          "carpet": [
           {
            "aaxis": {
             "endlinecolor": "#2a3f5f",
             "gridcolor": "white",
             "linecolor": "white",
             "minorgridcolor": "white",
             "startlinecolor": "#2a3f5f"
            },
            "baxis": {
             "endlinecolor": "#2a3f5f",
             "gridcolor": "white",
             "linecolor": "white",
             "minorgridcolor": "white",
             "startlinecolor": "#2a3f5f"
            },
            "type": "carpet"
           }
          ],
          "choropleth": [
           {
            "colorbar": {
             "outlinewidth": 0,
             "ticks": ""
            },
            "type": "choropleth"
           }
          ],
          "contour": [
           {
            "colorbar": {
             "outlinewidth": 0,
             "ticks": ""
            },
            "colorscale": [
             [
              0,
              "#0d0887"
             ],
             [
              0.1111111111111111,
              "#46039f"
             ],
             [
              0.2222222222222222,
              "#7201a8"
             ],
             [
              0.3333333333333333,
              "#9c179e"
             ],
             [
              0.4444444444444444,
              "#bd3786"
             ],
             [
              0.5555555555555556,
              "#d8576b"
             ],
             [
              0.6666666666666666,
              "#ed7953"
             ],
             [
              0.7777777777777778,
              "#fb9f3a"
             ],
             [
              0.8888888888888888,
              "#fdca26"
             ],
             [
              1,
              "#f0f921"
             ]
            ],
            "type": "contour"
           }
          ],
          "contourcarpet": [
           {
            "colorbar": {
             "outlinewidth": 0,
             "ticks": ""
            },
            "type": "contourcarpet"
           }
          ],
          "heatmap": [
           {
            "colorbar": {
             "outlinewidth": 0,
             "ticks": ""
            },
            "colorscale": [
             [
              0,
              "#0d0887"
             ],
             [
              0.1111111111111111,
              "#46039f"
             ],
             [
              0.2222222222222222,
              "#7201a8"
             ],
             [
              0.3333333333333333,
              "#9c179e"
             ],
             [
              0.4444444444444444,
              "#bd3786"
             ],
             [
              0.5555555555555556,
              "#d8576b"
             ],
             [
              0.6666666666666666,
              "#ed7953"
             ],
             [
              0.7777777777777778,
              "#fb9f3a"
             ],
             [
              0.8888888888888888,
              "#fdca26"
             ],
             [
              1,
              "#f0f921"
             ]
            ],
            "type": "heatmap"
           }
          ],
          "histogram": [
           {
            "marker": {
             "pattern": {
              "fillmode": "overlay",
              "size": 10,
              "solidity": 0.2
             }
            },
            "type": "histogram"
           }
          ],
          "histogram2d": [
           {
            "colorbar": {
             "outlinewidth": 0,
             "ticks": ""
            },
            "colorscale": [
             [
              0,
              "#0d0887"
             ],
             [
              0.1111111111111111,
              "#46039f"
             ],
             [
              0.2222222222222222,
              "#7201a8"
             ],
             [
              0.3333333333333333,
              "#9c179e"
             ],
             [
              0.4444444444444444,
              "#bd3786"
             ],
             [
              0.5555555555555556,
              "#d8576b"
             ],
             [
              0.6666666666666666,
              "#ed7953"
             ],
             [
              0.7777777777777778,
              "#fb9f3a"
             ],
             [
              0.8888888888888888,
              "#fdca26"
             ],
             [
              1,
              "#f0f921"
             ]
            ],
            "type": "histogram2d"
           }
          ],
          "histogram2dcontour": [
           {
            "colorbar": {
             "outlinewidth": 0,
             "ticks": ""
            },
            "colorscale": [
             [
              0,
              "#0d0887"
             ],
             [
              0.1111111111111111,
              "#46039f"
             ],
             [
              0.2222222222222222,
              "#7201a8"
             ],
             [
              0.3333333333333333,
              "#9c179e"
             ],
             [
              0.4444444444444444,
              "#bd3786"
             ],
             [
              0.5555555555555556,
              "#d8576b"
             ],
             [
              0.6666666666666666,
              "#ed7953"
             ],
             [
              0.7777777777777778,
              "#fb9f3a"
             ],
             [
              0.8888888888888888,
              "#fdca26"
             ],
             [
              1,
              "#f0f921"
             ]
            ],
            "type": "histogram2dcontour"
           }
          ],
          "mesh3d": [
           {
            "colorbar": {
             "outlinewidth": 0,
             "ticks": ""
            },
            "type": "mesh3d"
           }
          ],
          "parcoords": [
           {
            "line": {
             "colorbar": {
              "outlinewidth": 0,
              "ticks": ""
             }
            },
            "type": "parcoords"
           }
          ],
          "pie": [
           {
            "automargin": true,
            "type": "pie"
           }
          ],
          "scatter": [
           {
            "fillpattern": {
             "fillmode": "overlay",
             "size": 10,
             "solidity": 0.2
            },
            "type": "scatter"
           }
          ],
          "scatter3d": [
           {
            "line": {
             "colorbar": {
              "outlinewidth": 0,
              "ticks": ""
             }
            },
            "marker": {
             "colorbar": {
              "outlinewidth": 0,
              "ticks": ""
             }
            },
            "type": "scatter3d"
           }
          ],
          "scattercarpet": [
           {
            "marker": {
             "colorbar": {
              "outlinewidth": 0,
              "ticks": ""
             }
            },
            "type": "scattercarpet"
           }
          ],
          "scattergeo": [
           {
            "marker": {
             "colorbar": {
              "outlinewidth": 0,
              "ticks": ""
             }
            },
            "type": "scattergeo"
           }
          ],
          "scattergl": [
           {
            "marker": {
             "colorbar": {
              "outlinewidth": 0,
              "ticks": ""
             }
            },
            "type": "scattergl"
           }
          ],
          "scattermap": [
           {
            "marker": {
             "colorbar": {
              "outlinewidth": 0,
              "ticks": ""
             }
            },
            "type": "scattermap"
           }
          ],
          "scattermapbox": [
           {
            "marker": {
             "colorbar": {
              "outlinewidth": 0,
              "ticks": ""
             }
            },
            "type": "scattermapbox"
           }
          ],
          "scatterpolar": [
           {
            "marker": {
             "colorbar": {
              "outlinewidth": 0,
              "ticks": ""
             }
            },
            "type": "scatterpolar"
           }
          ],
          "scatterpolargl": [
           {
            "marker": {
             "colorbar": {
              "outlinewidth": 0,
              "ticks": ""
             }
            },
            "type": "scatterpolargl"
           }
          ],
          "scatterternary": [
           {
            "marker": {
             "colorbar": {
              "outlinewidth": 0,
              "ticks": ""
             }
            },
            "type": "scatterternary"
           }
          ],
          "surface": [
           {
            "colorbar": {
             "outlinewidth": 0,
             "ticks": ""
            },
            "colorscale": [
             [
              0,
              "#0d0887"
             ],
             [
              0.1111111111111111,
              "#46039f"
             ],
             [
              0.2222222222222222,
              "#7201a8"
             ],
             [
              0.3333333333333333,
              "#9c179e"
             ],
             [
              0.4444444444444444,
              "#bd3786"
             ],
             [
              0.5555555555555556,
              "#d8576b"
             ],
             [
              0.6666666666666666,
              "#ed7953"
             ],
             [
              0.7777777777777778,
              "#fb9f3a"
             ],
             [
              0.8888888888888888,
              "#fdca26"
             ],
             [
              1,
              "#f0f921"
             ]
            ],
            "type": "surface"
           }
          ],
          "table": [
           {
            "cells": {
             "fill": {
              "color": "#EBF0F8"
             },
             "line": {
              "color": "white"
             }
            },
            "header": {
             "fill": {
              "color": "#C8D4E3"
             },
             "line": {
              "color": "white"
             }
            },
            "type": "table"
           }
          ]
         },
         "layout": {
          "annotationdefaults": {
           "arrowcolor": "#2a3f5f",
           "arrowhead": 0,
           "arrowwidth": 1
          },
          "autotypenumbers": "strict",
          "coloraxis": {
           "colorbar": {
            "outlinewidth": 0,
            "ticks": ""
           }
          },
          "colorscale": {
           "diverging": [
            [
             0,
             "#8e0152"
            ],
            [
             0.1,
             "#c51b7d"
            ],
            [
             0.2,
             "#de77ae"
            ],
            [
             0.3,
             "#f1b6da"
            ],
            [
             0.4,
             "#fde0ef"
            ],
            [
             0.5,
             "#f7f7f7"
            ],
            [
             0.6,
             "#e6f5d0"
            ],
            [
             0.7,
             "#b8e186"
            ],
            [
             0.8,
             "#7fbc41"
            ],
            [
             0.9,
             "#4d9221"
            ],
            [
             1,
             "#276419"
            ]
           ],
           "sequential": [
            [
             0,
             "#0d0887"
            ],
            [
             0.1111111111111111,
             "#46039f"
            ],
            [
             0.2222222222222222,
             "#7201a8"
            ],
            [
             0.3333333333333333,
             "#9c179e"
            ],
            [
             0.4444444444444444,
             "#bd3786"
            ],
            [
             0.5555555555555556,
             "#d8576b"
            ],
            [
             0.6666666666666666,
             "#ed7953"
            ],
            [
             0.7777777777777778,
             "#fb9f3a"
            ],
            [
             0.8888888888888888,
             "#fdca26"
            ],
            [
             1,
             "#f0f921"
            ]
           ],
           "sequentialminus": [
            [
             0,
             "#0d0887"
            ],
            [
             0.1111111111111111,
             "#46039f"
            ],
            [
             0.2222222222222222,
             "#7201a8"
            ],
            [
             0.3333333333333333,
             "#9c179e"
            ],
            [
             0.4444444444444444,
             "#bd3786"
            ],
            [
             0.5555555555555556,
             "#d8576b"
            ],
            [
             0.6666666666666666,
             "#ed7953"
            ],
            [
             0.7777777777777778,
             "#fb9f3a"
            ],
            [
             0.8888888888888888,
             "#fdca26"
            ],
            [
             1,
             "#f0f921"
            ]
           ]
          },
          "colorway": [
           "#636efa",
           "#EF553B",
           "#00cc96",
           "#ab63fa",
           "#FFA15A",
           "#19d3f3",
           "#FF6692",
           "#B6E880",
           "#FF97FF",
           "#FECB52"
          ],
          "font": {
           "color": "#2a3f5f"
          },
          "geo": {
           "bgcolor": "white",
           "lakecolor": "white",
           "landcolor": "#E5ECF6",
           "showlakes": true,
           "showland": true,
           "subunitcolor": "white"
          },
          "hoverlabel": {
           "align": "left"
          },
          "hovermode": "closest",
          "mapbox": {
           "style": "light"
          },
          "paper_bgcolor": "white",
          "plot_bgcolor": "#E5ECF6",
          "polar": {
           "angularaxis": {
            "gridcolor": "white",
            "linecolor": "white",
            "ticks": ""
           },
           "bgcolor": "#E5ECF6",
           "radialaxis": {
            "gridcolor": "white",
            "linecolor": "white",
            "ticks": ""
           }
          },
          "scene": {
           "xaxis": {
            "backgroundcolor": "#E5ECF6",
            "gridcolor": "white",
            "gridwidth": 2,
            "linecolor": "white",
            "showbackground": true,
            "ticks": "",
            "zerolinecolor": "white"
           },
           "yaxis": {
            "backgroundcolor": "#E5ECF6",
            "gridcolor": "white",
            "gridwidth": 2,
            "linecolor": "white",
            "showbackground": true,
            "ticks": "",
            "zerolinecolor": "white"
           },
           "zaxis": {
            "backgroundcolor": "#E5ECF6",
            "gridcolor": "white",
            "gridwidth": 2,
            "linecolor": "white",
            "showbackground": true,
            "ticks": "",
            "zerolinecolor": "white"
           }
          },
          "shapedefaults": {
           "line": {
            "color": "#2a3f5f"
           }
          },
          "ternary": {
           "aaxis": {
            "gridcolor": "white",
            "linecolor": "white",
            "ticks": ""
           },
           "baxis": {
            "gridcolor": "white",
            "linecolor": "white",
            "ticks": ""
           },
           "bgcolor": "#E5ECF6",
           "caxis": {
            "gridcolor": "white",
            "linecolor": "white",
            "ticks": ""
           }
          },
          "title": {
           "x": 0.05
          },
          "xaxis": {
           "automargin": true,
           "gridcolor": "white",
           "linecolor": "white",
           "ticks": "",
           "title": {
            "standoff": 15
           },
           "zerolinecolor": "white",
           "zerolinewidth": 2
          },
          "yaxis": {
           "automargin": true,
           "gridcolor": "white",
           "linecolor": "white",
           "ticks": "",
           "title": {
            "standoff": 15
           },
           "zerolinecolor": "white",
           "zerolinewidth": 2
          }
         }
        },
        "title": {
         "text": "PCA of Movie Embeddings (Highlighting Horror and Comedy Movies)"
        },
        "xaxis": {
         "anchor": "y",
         "domain": [
          0,
          1
         ],
         "title": {
          "text": "PC1"
         }
        },
        "yaxis": {
         "anchor": "x",
         "domain": [
          0,
          1
         ],
         "title": {
          "text": "PC2"
         }
        }
       }
      }
     },
     "metadata": {},
     "output_type": "display_data"
    },
    {
     "name": "stdout",
     "output_type": "stream",
     "text": [
      "\n",
      "Number of Horror movies: 21\n",
      "Average similarity between Horror movies: 0.3188\n",
      "\n",
      "Number of Comedy movies: 26\n",
      "Average similarity between Comedy movies: 0.2534\n"
     ]
    }
   ],
   "source": [
    "# Interactive PCA plot with Plotly highlighting two genres\n",
    "import plotly.express as px\n",
    "\n",
    "# Select two genres to highlight\n",
    "genre1 = \"Horror\"\n",
    "genre2 = \"Comedy\"\n",
    "\n",
    "# Prepare DataFrame for plotly\n",
    "pca_df = movies_df.copy()\n",
    "pca_df['PC1'] = embeddings_2d[:,0]\n",
    "pca_df['PC2'] = embeddings_2d[:,1]\n",
    "pca_df['genres_eval'] = pca_df['genres'].apply(eval)\n",
    "\n",
    "# Calculate medians for quadrant lines\n",
    "pc1_median = pca_df['PC1'].median()\n",
    "pc2_median = pca_df['PC2'].median()\n",
    "\n",
    "# Assign color labels\n",
    "pca_df['highlight'] = 'Other'\n",
    "pca_df.loc[pca_df['genres_eval'].apply(lambda x: genre1 in x), 'highlight'] = genre1\n",
    "pca_df.loc[pca_df['genres_eval'].apply(lambda x: genre2 in x), 'highlight'] = genre2\n",
    "\n",
    "# Plotly scatter plot\n",
    "fig = px.scatter(\n",
    "    pca_df, x='PC1', y='PC2',\n",
    "    color='highlight',\n",
    "    color_discrete_map={genre1: 'red', genre2: 'blue', 'Other': 'lightgray'},\n",
    "     title=f'PCA of Movie Embeddings (Highlighting {genre1} and {genre2} Movies)',\n",
    "     hover_data=['title', 'rating', 'genres']\n",
    ")\n",
    "\n",
    "# Add quadrant lines\n",
    "fig.add_hline(y=pc2_median, line_dash=\"dash\", line_color=\"gray\")\n",
    "fig.add_vline(x=pc1_median, line_dash=\"dash\", line_color=\"gray\")\n",
    "\n",
    "fig.update_traces(marker=dict(size=10, opacity=0.7))\n",
    "fig.show()\n",
    "\n",
    "# Print stats about both highlighted genres\n",
    "print(f\"\\nNumber of {genre1} movies: {len(pca_df[pca_df['highlight'] == genre1])}\")\n",
    "print(f\"Average similarity between {genre1} movies: {genre_similarities[genre1]:.4f}\")\n",
    "print(f\"\\nNumber of {genre2} movies: {len(pca_df[pca_df['highlight'] == genre2])}\")\n",
    "print(f\"Average similarity between {genre2} movies: {genre_similarities[genre2]:.4f}\")\n"
   ]
  },
  {
   "cell_type": "code",
   "execution_count": 26,
   "metadata": {},
   "outputs": [
    {
     "data": {
      "image/png": "[encoded data removed]",
      "text/plain": [
       "<Figure size 1400x1000 with 4 Axes>"
      ]
     },
     "metadata": {},
     "output_type": "display_data"
    },
    {
     "data": {
      "text/plain": [
       "<Figure size 1400x1000 with 0 Axes>"
      ]
     },
     "metadata": {},
     "output_type": "display_data"
    },
    {
     "data": {
      "image/png": "[encoded data removed]",
      "text/plain": [
       "<Figure size 1500x1500 with 17 Axes>"
      ]
     },
     "metadata": {},
     "output_type": "display_data"
    }
   ],
   "source": [
    "import pandas as pd\n",
    "import matplotlib.pyplot as plt\n",
    "\n",
    "# Assuming pca_df is already defined as before, with 'PC1', 'PC2', and 'genres_eval'\n",
    "\n",
    "# Define quadrant boundaries\n",
    "pc1_median = pca_df['PC1'].median()\n",
    "pc2_median = pca_df['PC2'].median()\n",
    "\n",
    "def assign_quadrant(row):\n",
    "    if row['PC1'] >= pc1_median and row['PC2'] >= pc2_median:\n",
    "        return 'Q1'  # Top-right\n",
    "    elif row['PC1'] < pc1_median and row['PC2'] >= pc2_median:\n",
    "        return 'Q2'  # Top-left\n",
    "    elif row['PC1'] < pc1_median and row['PC2'] < pc2_median:\n",
    "        return 'Q3'  # Bottom-left\n",
    "    else:\n",
    "        return 'Q4'  # Bottom-right\n",
    "\n",
    "pca_df['quadrant'] = pca_df.apply(assign_quadrant, axis=1)\n",
    "\n",
    "# Prepare the data for each quadrant\n",
    "fig, axes = plt.subplots(2, 2, figsize=(14, 10))\n",
    "quadrants = ['Q1', 'Q2', 'Q3', 'Q4']\n",
    "titles = {\n",
    "    'Q1': 'Q1 (Top-right)',\n",
    "    'Q2': 'Q2 (Top-left)',\n",
    "    'Q3': 'Q3 (Bottom-left)',\n",
    "    'Q4': 'Q4 (Bottom-right)'\n",
    "}\n",
    "\n",
    "for i, q in enumerate(quadrants):\n",
    "    quad_df = pca_df[pca_df['quadrant'] == q]\n",
    "    all_genres = [genre for genres in quad_df['genres_eval'] for genre in genres]\n",
    "    genre_counts = pd.Series(all_genres).value_counts().head(10)\n",
    "    ax = axes[i // 2, i % 2]\n",
    "    genre_counts.sort_values().plot.barh(ax=ax, color='skyblue')\n",
    "    ax.set_title(f\"{titles[q]} (n={len(quad_df)})\")\n",
    "    ax.set_xlabel('Count')\n",
    "    ax.set_ylabel('Genre')\n",
    "\n",
    "plt.tight_layout()\n",
    "plt.show()\n",
    "\n",
    "\n",
    "# ------\n",
    "\n",
    "# Create a plot showing genre distribution across quadrants\n",
    "plt.figure(figsize=(14, 10))\n",
    "\n",
    "# Get all unique genres\n",
    "all_genres = set()\n",
    "for genres in pca_df['genres_eval']:\n",
    "    all_genres.update(genres)\n",
    "\n",
    "# Sort genres alphabetically for consistent plotting\n",
    "all_genres = sorted(list(all_genres))\n",
    "\n",
    "# Calculate number of subplots needed (aim for roughly square layout)\n",
    "n_genres = len(all_genres)\n",
    "n_cols = int(np.ceil(np.sqrt(n_genres)))\n",
    "n_rows = int(np.ceil(n_genres / n_cols))\n",
    "\n",
    "fig, axes = plt.subplots(n_rows, n_cols, figsize=(15, 15))\n",
    "axes = axes.flatten()\n",
    "\n",
    "# Create a mapping of quadrants to their locations\n",
    "quadrant_locations = {\n",
    "    'Q1': 'Top-right',\n",
    "    'Q2': 'Top-left', \n",
    "    'Q3': 'Bottom-left',\n",
    "    'Q4': 'Bottom-right'\n",
    "}\n",
    "\n",
    "# Define consistent colors for quadrants\n",
    "quadrant_colors = {\n",
    "    'Q1': 'skyblue',\n",
    "    'Q2': 'lightgreen', \n",
    "    'Q3': 'lightcoral',\n",
    "    'Q4': 'lightsalmon'\n",
    "}\n",
    "\n",
    "# For each genre, create a subplot showing quadrant distribution\n",
    "for idx, genre in enumerate(all_genres):\n",
    "    # Get movies with this genre\n",
    "    genre_movies = pca_df[pca_df['genres_eval'].apply(lambda x: genre in x)]\n",
    "    \n",
    "    # Calculate quadrant distribution\n",
    "    quad_dist = genre_movies['quadrant'].value_counts()\n",
    "    \n",
    "    # Calculate percentages\n",
    "    quad_pcts = (quad_dist / len(genre_movies) * 100).round(1)\n",
    "    \n",
    "    # Plot\n",
    "    ax = axes[idx]\n",
    "    quad_pcts.plot(kind='bar', ax=ax, color=[quadrant_colors[q] for q in quad_pcts.index])\n",
    "    ax.set_title(f'{genre} (n={len(genre_movies)})')\n",
    "    ax.set_ylabel('Percentage')\n",
    "    ax.set_ylim(0, 100)\n",
    "    \n",
    "    # Add percentage labels on bars\n",
    "    for i, v in enumerate(quad_pcts):\n",
    "        ax.text(i, v + 1, f'{v}%', ha='center')\n",
    "    \n",
    "    # Update x-axis labels to include quadrant locations\n",
    "    x_labels = [f'{q}\\n({quadrant_locations[q]})' for q in quad_pcts.index]\n",
    "    ax.set_xticklabels(x_labels)\n",
    "\n",
    "# Remove empty subplots if any\n",
    "for idx in range(len(all_genres), len(axes)):\n",
    "    fig.delaxes(axes[idx])\n",
    "\n",
    "plt.tight_layout()\n",
    "plt.show()\n"
   ]
  },
  {
   "cell_type": "code",
   "execution_count": 15,
   "metadata": {},
   "outputs": [
    {
     "name": "stdout",
     "output_type": "stream",
     "text": [
      "Q1 (32 movies): This quadrant contains mostly Action, Adventure, and Science Fiction movies. Top genres: Action (78.1%), Adventure (40.6%), Science Fiction (28.1%), Thriller (25.0%), Drama (21.9%).\n",
      "Q2 (34 movies): This quadrant contains mostly Adventure, Family, and Fantasy movies. Top genres: Adventure (55.9%), Family (44.1%), Fantasy (44.1%), Comedy (41.2%), Animation (32.4%).\n",
      "Q3 (31 movies): This quadrant contains mostly Horror, Thriller, and Mystery movies. Top genres: Horror (61.3%), Thriller (48.4%), Mystery (29.0%), Comedy (19.4%), Action (12.9%).\n",
      "Q4 (34 movies): This quadrant contains mostly Thriller, Action, and Crime movies. Top genres: Thriller (76.5%), Action (73.5%), Crime (35.3%), Drama (32.4%), Adventure (17.6%).\n"
     ]
    }
   ],
   "source": [
    "def describe_quadrant(genre_counts, n_movies, quadrant_name=\"\"):\n",
    "    \"\"\"\n",
    "    genre_counts: pd.Series of genre counts (sorted, e.g. from value_counts())\n",
    "    n_movies: int, number of movies in the quadrant\n",
    "    quadrant_name: str, e.g. 'Q1'\n",
    "    \"\"\"\n",
    "    top = genre_counts.head(5)\n",
    "    if len(top) == 0:\n",
    "        return f\"{quadrant_name}: No movies in this quadrant.\"\n",
    "    elif len(top) == 1:\n",
    "        desc = f\"mostly {top.index[0]}\"\n",
    "    elif len(top) == 2:\n",
    "        desc = f\"mostly {top.index[0]} and {top.index[1]}\"\n",
    "    else:\n",
    "        desc = f\"mostly {top.index[0]}, {top.index[1]}, and {top.index[2]}\"\n",
    "    percent = (top / n_movies * 100).round(1)\n",
    "    details = \", \".join([f\"{g} ({percent[g]}%)\" for g in top.index])\n",
    "    return (\n",
    "        f\"{quadrant_name} ({n_movies} movies): This quadrant contains {desc} movies. \"\n",
    "        f\"Top genres: {details}.\"\n",
    "    )\n",
    "\n",
    "# Example usage inside your loop:\n",
    "for q in quadrants:\n",
    "    quad_df = pca_df[pca_df['quadrant'] == q]\n",
    "    all_genres = [genre for genres in quad_df['genres_eval'] for genre in genres]\n",
    "    genre_counts = pd.Series(all_genres).value_counts()\n",
    "    print(describe_quadrant(genre_counts, len(quad_df), quadrant_name=q))"
   ]
  },
  {
   "cell_type": "code",
   "execution_count": 21,
   "metadata": {},
   "outputs": [
    {
     "name": "stdout",
     "output_type": "stream",
     "text": [
      "\n",
      "Movies containing 'Apocalypse Z':\n",
      "--------------------------------\n",
      "\n",
      "Title: Apocalypse Z: The Beginning of the End\n",
      "Description: When a kind of rabies that transforms people into aggressive creatures spreads across the planet, Manel isolates himself at home with his cat, relying on his wits to survive; but soon they must go out in search of food, by land and by sea, dodging many dangers.\n",
      "Genres: ['Drama', 'Action', 'Horror']\n",
      "Rating: 6.3\n",
      "Release Year: 2024\n",
      "--------------------------------\n"
     ]
    }
   ],
   "source": [
    "# Filter and display movies containing \"Apocalypse Z\" in the title\n",
    "apocalypse_movies = pca_df[pca_df['title'].str.contains('Apocalypse Z', case=False, na=False)]\n",
    "if len(apocalypse_movies) > 0:\n",
    "    print(\"\\nMovies containing 'Apocalypse Z':\")\n",
    "    print(\"--------------------------------\")\n",
    "    for _, movie in apocalypse_movies.iterrows():\n",
    "        print(\"\\nTitle:\", movie['title'])\n",
    "        print(\"Description:\", movie['description'])\n",
    "        print(\"Genres:\", movie['genres_eval'])\n",
    "        print(\"Rating:\", movie['rating'])\n",
    "        print(\"Release Year:\", movie['release_year'])\n",
    "        print(\"--------------------------------\")\n",
    "else:\n",
    "    print(\"\\nNo movies found containing 'Apocalypse Z' in the title\")\n",
    "\n"
   ]
  }
 ],
 "metadata": {
  "kernelspec": {
   "display_name": "moviematch",
   "language": "python",
   "name": "python3"
  },
  "language_info": {
   "codemirror_mode": {
    "name": "ipython",
    "version": 3
   },
   "file_extension": ".py",
   "mimetype": "text/x-python",
   "name": "python",
   "nbconvert_exporter": "python",
   "pygments_lexer": "ipython3",
   "version": "3.11.11"
  }
 },
 "nbformat": 4,
 "nbformat_minor": 2
}
